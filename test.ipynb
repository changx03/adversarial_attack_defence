{
 "nbformat": 4,
 "nbformat_minor": 2,
 "metadata": {
  "language_info": {
   "name": "python",
   "codemirror_mode": {
    "name": "ipython",
    "version": 3
   },
   "version": "3.6.9-final"
  },
  "orig_nbformat": 2,
  "file_extension": ".py",
  "mimetype": "text/x-python",
  "name": "python",
  "npconvert_exporter": "python",
  "pygments_lexer": "ipython3",
  "version": 3,
  "kernelspec": {
   "name": "python36964bitvenvvenv794a3f6500e74251b078ca195c3ad1e1",
   "display_name": "Python 3.6.9 64-bit ('venv': venv)"
  }
 },
 "cells": [
  {
   "cell_type": "code",
   "execution_count": 1,
   "metadata": {},
   "outputs": [],
   "source": [
    "import sys\n",
    "\n",
    "import torch\n",
    "import numpy as np\n",
    "\n",
    "from attacks import AttackContainer\n",
    "from basemodels import ModelContainer, MnistCnnCW\n",
    "from datasets import (DATASET_LIST, DataContainer, get_image_list,\n",
    "                      get_quantitative_list)\n",
    "from defences import DefenceContainer\n",
    "\n",
    "%load_ext autoreload\n",
    "%autoreload 2"
   ]
  },
  {
   "cell_type": "code",
   "execution_count": 2,
   "metadata": {},
   "outputs": [
    {
     "name": "stdout",
     "output_type": "stream",
     "text": "3.6.9 (default, Nov  7 2019, 10:44:02) \n[GCC 8.3.0]\n/home/lukec/.vscode/extensions/ms-python.python-2020.2.64397/pythonFiles\n/home/lukec/.vscode/extensions/ms-python.python-2020.2.64397/pythonFiles/lib/python\n/usr/lib/python36.zip\n/usr/lib/python3.6\n/usr/lib/python3.6/lib-dynload\n\n/home/lukec/venv/lib/python3.6/site-packages\n/home/lukec/Downloads/jax/build\n/home/lukec/.local/lib/python3.6/site-packages\n/usr/local/lib/python3.6/dist-packages\n/usr/lib/python3/dist-packages\n/home/lukec/venv/lib/python3.6/site-packages/IPython/extensions\n/home/lukec/.ipython\n"
    }
   ],
   "source": [
    "print(sys.version)\n",
    "print(*sys.path, sep='\\n')"
   ]
  },
  {
   "cell_type": "code",
   "execution_count": 3,
   "metadata": {},
   "outputs": [
    {
     "name": "stdout",
     "output_type": "stream",
     "text": "Avaliable image datasets:\n['MNIST', 'CIFAR10', 'SVHN']\n\nAvaliable quantitative datasets:\n['BankNote', 'BreastCancerWisconsin', 'WheatSeed', 'HTRU2']\n\n"
    }
   ],
   "source": [
    "print('Avaliable image datasets:')\n",
    "print(get_image_list())\n",
    "print()\n",
    "print('Avaliable quantitative datasets:')\n",
    "print(get_quantitative_list())\n",
    "print()"
   ]
  },
  {
   "cell_type": "code",
   "execution_count": 4,
   "metadata": {},
   "outputs": [
    {
     "name": "stdout",
     "output_type": "stream",
     "text": "Starting MNIST data container...\nLoading data...\nPreparing DataLoaders...\nPreparing numpy arrays...\nSuccessfully load data! Time taken:  0m 4.1s\n"
    }
   ],
   "source": [
    "# 1. choose a dataset\n",
    "DATA_ROOT = 'data'\n",
    "BATCH_SIZE = 64\n",
    "TYPE = 'image'  # image or quantitative\n",
    "# image: 'MNIST', 'CIFAR10', 'SVHN'\n",
    "# quantitative: 'BankNote', 'BreastCancerWisconsin', 'WheatSeed', 'HTRU2'\n",
    "NAME = 'MNIST'\n",
    "\n",
    "print(f'Starting {NAME} data container...')\n",
    "IMAGE_DATASET = DATASET_LIST[TYPE][NAME]\n",
    "dc = DataContainer(IMAGE_DATASET, DATA_ROOT)\n",
    "dc(BATCH_SIZE)"
   ]
  },
  {
   "cell_type": "code",
   "execution_count": 5,
   "metadata": {},
   "outputs": [],
   "source": [
    "# 2. choose a model\n",
    "model = MnistCnnCW()"
   ]
  },
  {
   "cell_type": "code",
   "execution_count": 6,
   "metadata": {},
   "outputs": [
    {
     "name": "stdout",
     "output_type": "stream",
     "text": "Using device: cuda:0\n"
    }
   ],
   "source": [
    "# 3. train/load the model\n",
    "# train, save, load\n",
    "mc = ModelContainer(model, dc)"
   ]
  },
  {
   "cell_type": "code",
   "execution_count": 7,
   "metadata": {},
   "outputs": [
    {
     "name": "stdout",
     "output_type": "stream",
     "text": "[ 1/2]  0m 0.0s - lr: 7.3182 - Train Loss: 0.7903 Acc: 72.3333% - Test Loss: 0.0947 Acc: 96.9900%\n[ 2/2]  0m 0.0s - lr: 7.3418 - Train Loss: 0.0714 Acc: 97.7817% - Test Loss: 0.0461 Acc: 98.5100%\nTime taken for training:  0m 17.2s\n"
    }
   ],
   "source": [
    "mc.fit(epochs=2, lr=0.01)"
   ]
  },
  {
   "cell_type": "code",
   "execution_count": 8,
   "metadata": {},
   "outputs": [
    {
     "data": {
      "text/plain": "(array(5),\n array([-2.963394 , -3.1645563, -3.7497435, -1.9689574, -2.8932874,\n        -1.182418 , -2.895786 , -2.727548 , -1.910968 , -2.1848452],\n       dtype=float32))"
     },
     "execution_count": 8,
     "metadata": {},
     "output_type": "execute_result"
    }
   ],
   "source": [
    "x = torch.rand(2, 1, 28, 28)\n",
    "mc.pred(x, require_output=True)\n",
    "x = torch.rand(1, 28, 28)\n",
    "mc.pred_one(x, require_output=True)"
   ]
  },
  {
   "cell_type": "code",
   "execution_count": 9,
   "metadata": {},
   "outputs": [
    {
     "data": {
      "text/plain": "array([5, 5, 8, 8, 4])"
     },
     "execution_count": 9,
     "metadata": {},
     "output_type": "execute_result"
    }
   ],
   "source": [
    "x = np.random.rand(5, 1, 28, 28).astype(np.float32)\n",
    "mc.pred(x, require_output=False)"
   ]
  },
  {
   "cell_type": "code",
   "execution_count": 10,
   "metadata": {},
   "outputs": [
    {
     "name": "stdout",
     "output_type": "stream",
     "text": "Successfully saved model to \"Hello World.pt\"\n"
    }
   ],
   "source": [
    "mc.save('HelloDummy')"
   ]
  },
  {
   "cell_type": "code",
   "execution_count": 11,
   "metadata": {},
   "outputs": [
    {
     "name": "stdout",
     "output_type": "stream",
     "text": "Successfully loaded model from \"Hello World.pt\"\n"
    }
   ],
   "source": [
    "mc.load('Hello World.pt')"
   ]
  },
  {
   "cell_type": "code",
   "execution_count": null,
   "metadata": {},
   "outputs": [],
   "source": []
  }
 ]
}