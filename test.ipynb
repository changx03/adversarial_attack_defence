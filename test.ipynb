{
 "nbformat": 4,
 "nbformat_minor": 2,
 "metadata": {
  "language_info": {
   "name": "python",
   "codemirror_mode": {
    "name": "ipython",
    "version": 3
   },
   "version": "3.6.9-final"
  },
  "orig_nbformat": 2,
  "file_extension": ".py",
  "mimetype": "text/x-python",
  "name": "python",
  "npconvert_exporter": "python",
  "pygments_lexer": "ipython3",
  "version": 3,
  "kernelspec": {
   "name": "python36964bitvenvvenv794a3f6500e74251b078ca195c3ad1e1",
   "display_name": "Python 3.6.9 64-bit ('venv': venv)"
  }
 },
 "cells": [
  {
   "cell_type": "code",
   "execution_count": null,
   "metadata": {},
   "outputs": [],
   "source": [
    "import sys\n",
    "\n",
    "import torch\n",
    "import numpy as np\n",
    "\n",
    "from attacks import AttackContainer\n",
    "from basemodels import ModelContainer, MnistCnnCW\n",
    "from datasets import (DATASET_LIST, DataContainer, get_image_list,\n",
    "                      get_quantitative_list)\n",
    "from defences import DefenceContainer\n",
    "\n",
    "%load_ext autoreload\n",
    "%autoreload 2"
   ]
  },
  {
   "cell_type": "code",
   "execution_count": null,
   "metadata": {},
   "outputs": [],
   "source": [
    "print(sys.version)\n",
    "print(*sys.path, sep='\\n')"
   ]
  },
  {
   "cell_type": "code",
   "execution_count": null,
   "metadata": {},
   "outputs": [],
   "source": [
    "print('Avaliable image datasets:')\n",
    "print(get_image_list())\n",
    "print()\n",
    "print('Avaliable quantitative datasets:')\n",
    "print(get_quantitative_list())\n",
    "print()"
   ]
  },
  {
   "cell_type": "code",
   "execution_count": null,
   "metadata": {},
   "outputs": [],
   "source": [
    "# 1. choose a dataset\n",
    "DATA_ROOT = 'data'\n",
    "BATCH_SIZE = 64\n",
    "TYPE = 'image'  # image or quantitative\n",
    "# image: 'MNIST', 'CIFAR10', 'SVHN'\n",
    "# quantitative: 'BankNote', 'BreastCancerWisconsin', 'WheatSeed', 'HTRU2'\n",
    "NAME = 'MNIST'\n",
    "\n",
    "print(f'Starting {NAME} data container...')\n",
    "IMAGE_DATASET = DATASET_LIST[TYPE][NAME]\n",
    "dc = DataContainer(IMAGE_DATASET, DATA_ROOT)\n",
    "dc(BATCH_SIZE)"
   ]
  },
  {
   "cell_type": "code",
   "execution_count": null,
   "metadata": {},
   "outputs": [],
   "source": [
    "# 2. choose a model\n",
    "model = MnistCnnCW()"
   ]
  },
  {
   "cell_type": "code",
   "execution_count": null,
   "metadata": {},
   "outputs": [],
   "source": [
    "# 3. train/load the model\n",
    "# train, save, load\n",
    "mc = ModelContainer(model, dc)"
   ]
  },
  {
   "cell_type": "code",
   "execution_count": null,
   "metadata": {},
   "outputs": [],
   "source": [
    "mc.fit(epochs=20)"
   ]
  },
  {
   "cell_type": "code",
   "execution_count": null,
   "metadata": {},
   "outputs": [],
   "source": [
    "x = torch.rand(2, 1, 28, 28)\n",
    "mc.pred(x, require_output=True)\n",
    "x = torch.rand(1, 28, 28)\n",
    "mc.pred_one(x, require_output=True)"
   ]
  },
  {
   "cell_type": "code",
   "execution_count": null,
   "metadata": {},
   "outputs": [],
   "source": [
    "x = np.random.rand(5, 1, 28, 28).astype(np.float32)\n",
    "mc.pred(x, require_output=False)"
   ]
  },
  {
   "cell_type": "code",
   "execution_count": null,
   "metadata": {},
   "outputs": [],
   "source": [
    "mc.save('MNIST_CNN1')"
   ]
  },
  {
   "cell_type": "code",
   "execution_count": null,
   "metadata": {},
   "outputs": [],
   "source": [
    "mc.load('MNIST_CNN1.pt')"
   ]
  },
  {
   "cell_type": "code",
   "execution_count": null,
   "metadata": {},
   "outputs": [],
   "source": []
  },
  {
   "cell_type": "code",
   "execution_count": null,
   "metadata": {},
   "outputs": [],
   "source": [
    "args = {'step_size':1, 'gamma':0.9}\n",
    "print(*args)"
   ]
  }
 ]
}