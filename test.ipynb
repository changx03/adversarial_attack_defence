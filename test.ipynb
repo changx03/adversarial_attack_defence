{
 "nbformat": 4,
 "nbformat_minor": 2,
 "metadata": {
  "language_info": {
   "name": "python",
   "codemirror_mode": {
    "name": "ipython",
    "version": 3
   },
   "version": "3.6.9-final"
  },
  "orig_nbformat": 2,
  "file_extension": ".py",
  "mimetype": "text/x-python",
  "name": "python",
  "npconvert_exporter": "python",
  "pygments_lexer": "ipython3",
  "version": 3,
  "kernelspec": {
   "name": "python36964bitvenvvenv794a3f6500e74251b078ca195c3ad1e1",
   "display_name": "Python 3.6.9 64-bit ('venv': venv)"
  }
 },
 "cells": [
  {
   "cell_type": "code",
   "execution_count": 1,
   "metadata": {},
   "outputs": [],
   "source": [
    "from datasets import DataContainer, DATASET_LIST\n",
    "from basemodels import ModelContainer\n",
    "from attacks import AttackContainer\n",
    "from defences import DefenceContainer\n",
    "import sys\n",
    "\n",
    "%load_ext autoreload\n",
    "%autoreload 2"
   ]
  },
  {
   "cell_type": "code",
   "execution_count": 2,
   "metadata": {},
   "outputs": [
    {
     "name": "stdout",
     "output_type": "stream",
     "text": "3.6.9 (default, Nov  7 2019, 10:44:02) \n[GCC 8.3.0]\n/home/lukec/.vscode/extensions/ms-python.python-2020.2.64397/pythonFiles\n/home/lukec/.vscode/extensions/ms-python.python-2020.2.64397/pythonFiles/lib/python\n/usr/lib/python36.zip\n/usr/lib/python3.6\n/usr/lib/python3.6/lib-dynload\n\n/home/lukec/venv/lib/python3.6/site-packages\n/home/lukec/Downloads/jax/build\n/home/lukec/.local/lib/python3.6/site-packages\n/usr/local/lib/python3.6/dist-packages\n/usr/lib/python3/dist-packages\n/home/lukec/venv/lib/python3.6/site-packages/IPython/extensions\n/home/lukec/.ipython\n"
    }
   ],
   "source": [
    "print(sys.version)\n",
    "print(*sys.path, sep='\\n')"
   ]
  },
  {
   "cell_type": "code",
   "execution_count": 9,
   "metadata": {},
   "outputs": [
    {
     "name": "stdout",
     "output_type": "stream",
     "text": "{'name': 'BankNote', 'type': 'quantitative', 'size': 1372, 'num_classes': 2, 'dim_data': (4,)}\nLoading data...\nPreparing DataFrame...\nReading from data/data_banknote_authentication.txt\nSpliting train/test sets into numpy arrays...\nPreparing DataLoaders...\nSuccessfully loaded data -  0m 0.0s\n"
    }
   ],
   "source": [
    "    IMAGE_DATASET = DATASET_LIST['image']['MNIST']\n",
    "    DATA_ROOT = 'data'\n",
    "    BATCH_SIZE = 64\n",
    "\n",
    "    # image_data = DataContainer(IMAGE_DATASET, DATA_ROOT)\n",
    "    # image_data(batch_size=BATCH_SIZE)\n",
    "    # print(len(image_data))\n",
    "    # print(image_data.dim_train)\n",
    "    # print(image_data.label_test_np[:16])\n",
    "\n",
    "    NUM_DATASET = DATASET_LIST['quantitative']['BankNote']\n",
    "    print(NUM_DATASET)\n",
    "    num_data = DataContainer(NUM_DATASET, DATA_ROOT)\n",
    "    num_data(BATCH_SIZE, normalize=True)\n",
    "\n",
    "    # model = ModelContainer()\n",
    "    # model()\n",
    "    # attack = AttackContainer()\n",
    "    # attack()\n",
    "    # defence = DefenceContainer()\n",
    "    # defence()"
   ]
  },
  {
   "cell_type": "code",
   "execution_count": 11,
   "metadata": {},
   "outputs": [
    {
     "name": "stdout",
     "output_type": "stream",
     "text": "33\n31\n603\n495\n159\n115\n"
    }
   ],
   "source": [
    "dataloader = num_data.dataloader_test\n",
    "x, y = next(iter(dataloader))\n",
    "print(len(y[y==0]))\n",
    "print(len(y[y==1]))\n",
    "\n",
    "y = num_data.label_train_np\n",
    "print(len(y[y==0]))\n",
    "print(len(y[y==1]))\n",
    "\n",
    "y = num_data.label_test_np\n",
    "print(len(y[y==0]))\n",
    "print(len(y[y==1]))"
   ]
  },
  {
   "cell_type": "code",
   "execution_count": null,
   "metadata": {},
   "outputs": [],
   "source": []
  }
 ]
}