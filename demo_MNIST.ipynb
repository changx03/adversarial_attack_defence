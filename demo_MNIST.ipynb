{
 "nbformat": 4,
 "nbformat_minor": 2,
 "metadata": {
  "language_info": {
   "name": "python",
   "codemirror_mode": {
    "name": "ipython",
    "version": 3
   },
   "version": "3.6.9-final"
  },
  "orig_nbformat": 2,
  "file_extension": ".py",
  "mimetype": "text/x-python",
  "name": "python",
  "npconvert_exporter": "python",
  "pygments_lexer": "ipython3",
  "version": 3,
  "kernelspec": {
   "name": "python36964bitvenvvenv794a3f6500e74251b078ca195c3ad1e1",
   "display_name": "Python 3.6.9 64-bit ('venv': venv)"
  }
 },
 "cells": [
  {
   "cell_type": "code",
   "execution_count": 1,
   "metadata": {},
   "outputs": [],
   "source": [
    "import sys\n",
    "\n",
    "import torch\n",
    "import numpy as np\n",
    "\n",
    "from attacks import AttackContainer\n",
    "from basemodels import TorchModelContainer, MnistCnnCW\n",
    "from datasets import (DATASET_LIST, DataContainer, get_image_list,\n",
    "                      get_quantitative_list)\n",
    "from defences import DefenceContainer\n",
    "\n",
    "%load_ext autoreload\n",
    "%autoreload 2"
   ]
  },
  {
   "cell_type": "code",
   "execution_count": 2,
   "metadata": {},
   "outputs": [
    {
     "name": "stdout",
     "output_type": "stream",
     "text": "3.6.9 (default, Nov  7 2019, 10:44:02) \n[GCC 8.3.0]\n/home/lukec/.vscode/extensions/ms-python.python-2020.2.64397/pythonFiles\n/home/lukec/.vscode/extensions/ms-python.python-2020.2.64397/pythonFiles/lib/python\n/usr/lib/python36.zip\n/usr/lib/python3.6\n/usr/lib/python3.6/lib-dynload\n\n/home/lukec/venv/lib/python3.6/site-packages\n/home/lukec/Downloads/jax/build\n/home/lukec/.local/lib/python3.6/site-packages\n/usr/local/lib/python3.6/dist-packages\n/usr/lib/python3/dist-packages\n/home/lukec/venv/lib/python3.6/site-packages/IPython/extensions\n/home/lukec/.ipython\n"
    }
   ],
   "source": [
    "print(sys.version)\n",
    "print(*sys.path, sep='\\n')"
   ]
  },
  {
   "cell_type": "code",
   "execution_count": 3,
   "metadata": {},
   "outputs": [
    {
     "name": "stdout",
     "output_type": "stream",
     "text": "Avaliable image datasets:\n['MNIST', 'CIFAR10', 'SVHN']\n\nAvaliable quantitative datasets:\n['BankNote', 'BreastCancerWisconsin', 'WheatSeed', 'HTRU2']\n\n"
    }
   ],
   "source": [
    "print('Avaliable image datasets:')\n",
    "print(get_image_list())\n",
    "print()\n",
    "print('Avaliable quantitative datasets:')\n",
    "print(get_quantitative_list())\n",
    "print()"
   ]
  },
  {
   "cell_type": "code",
   "execution_count": 4,
   "metadata": {},
   "outputs": [
    {
     "name": "stdout",
     "output_type": "stream",
     "text": "Starting MNIST data container...\nLoading data...\nPreparing DataLoaders...\nPreparing numpy arrays...\nSuccessfully load data! Time taken:  0m 4.1s\n"
    }
   ],
   "source": [
    "# 1. choose a dataset\n",
    "DATA_ROOT = 'data'\n",
    "BATCH_SIZE = 64\n",
    "TYPE = 'image'  # image or quantitative\n",
    "# image: 'MNIST', 'CIFAR10', 'SVHN'\n",
    "# quantitative: 'BankNote', 'BreastCancerWisconsin', 'WheatSeed', 'HTRU2'\n",
    "NAME = 'MNIST'\n",
    "\n",
    "print(f'Starting {NAME} data container...')\n",
    "IMAGE_DATASET = DATASET_LIST[TYPE][NAME]\n",
    "dc = DataContainer(IMAGE_DATASET, DATA_ROOT)\n",
    "dc(BATCH_SIZE)"
   ]
  },
  {
   "cell_type": "code",
   "execution_count": 5,
   "metadata": {},
   "outputs": [],
   "source": [
    "# 2. choose a model\n",
    "model = MnistCnnCW()"
   ]
  },
  {
   "cell_type": "code",
   "execution_count": 6,
   "metadata": {},
   "outputs": [
    {
     "name": "stdout",
     "output_type": "stream",
     "text": "Using device: cuda:0\n"
    }
   ],
   "source": [
    "# 3. train/load the model\n",
    "# train, save, load\n",
    "mc = TorchModelContainer(model, dc)"
   ]
  },
  {
   "cell_type": "code",
   "execution_count": 7,
   "metadata": {},
   "outputs": [
    {
     "name": "stdout",
     "output_type": "stream",
     "text": "Learning rate: 0.1\n[ 1/20]  0m 7.2s - Train Loss: 0.7040 Acc: 74.7650% - Test Loss: 0.0836 Acc: 97.3200%\n[ 2/20]  0m 7.1s - Train Loss: 0.0678 Acc: 97.8517% - Test Loss: 0.0449 Acc: 98.6500%\n[ 3/20]  0m 7.1s - Train Loss: 0.0425 Acc: 98.6800% - Test Loss: 0.0545 Acc: 98.1400%\n[ 4/20]  0m 7.1s - Train Loss: 0.0327 Acc: 98.9917% - Test Loss: 0.0355 Acc: 98.8400%\n[ 5/20]  0m 7.2s - Train Loss: 0.0241 Acc: 99.2367% - Test Loss: 0.0281 Acc: 98.9900%\n[ 6/20]  0m 7.3s - Train Loss: 0.0183 Acc: 99.4250% - Test Loss: 0.0454 Acc: 98.6900%\n[ 7/20]  0m 7.3s - Train Loss: 0.0146 Acc: 99.5267% - Test Loss: 0.0290 Acc: 99.0200%\n[ 8/20]  0m 7.1s - Train Loss: 0.0118 Acc: 99.6417% - Test Loss: 0.0359 Acc: 98.8500%\n[ 9/20]  0m 7.2s - Train Loss: 0.0097 Acc: 99.6750% - Test Loss: 0.0293 Acc: 99.1300%\n[10/20]  0m 7.1s - Train Loss: 0.0092 Acc: 99.6867% - Test Loss: 0.0420 Acc: 98.8700%\n[11/20]  0m 7.1s - Train Loss: 0.0093 Acc: 99.6967% - Test Loss: 0.0348 Acc: 98.9900%\n[12/20]  0m 7.1s - Train Loss: 0.0055 Acc: 99.8300% - Test Loss: 0.0361 Acc: 99.0000%\n[13/20]  0m 7.1s - Train Loss: 0.0048 Acc: 99.8600% - Test Loss: 0.0383 Acc: 99.1000%\n[14/20]  0m 7.1s - Train Loss: 0.0033 Acc: 99.9033% - Test Loss: 0.2737 Acc: 96.7900%\n[15/20]  0m 7.1s - Train Loss: 0.0050 Acc: 99.8350% - Test Loss: 0.0537 Acc: 98.7300%\n[16/20]  0m 7.1s - Train Loss: 0.0030 Acc: 99.9217% - Test Loss: 0.0372 Acc: 99.1000%\n[17/20]  0m 7.1s - Train Loss: 0.0029 Acc: 99.9067% - Test Loss: 0.0362 Acc: 99.0900%\n[18/20]  0m 7.1s - Train Loss: 0.0017 Acc: 99.9517% - Test Loss: 0.0441 Acc: 99.1300%\n[19/20]  0m 7.1s - Train Loss: 0.0036 Acc: 99.8700% - Test Loss: 0.0436 Acc: 99.0800%\n[20/20]  0m 7.1s - Train Loss: 0.0034 Acc: 99.8933% - Test Loss: 0.0394 Acc: 99.1500%\nTime taken for training:  2m 26.0s\n"
    }
   ],
   "source": [
    "mc.fit(epochs=20)"
   ]
  },
  {
   "cell_type": "code",
   "execution_count": 8,
   "metadata": {},
   "outputs": [
    {
     "data": {
      "text/plain": "(array(8),\n array([-3.5205455, -2.7884448, -1.6480901, -2.0728738, -4.0678997,\n        -3.3718133, -2.9590018, -3.124794 , -0.870921 , -3.6954603],\n       dtype=float32))"
     },
     "execution_count": 8,
     "metadata": {},
     "output_type": "execute_result"
    }
   ],
   "source": [
    "x = torch.rand(2, 1, 28, 28)\n",
    "mc.pred(x, require_output=True)\n",
    "x = torch.rand(1, 28, 28)\n",
    "mc.pred_one(x, require_output=True)"
   ]
  },
  {
   "cell_type": "code",
   "execution_count": 10,
   "metadata": {},
   "outputs": [
    {
     "data": {
      "text/plain": "array([7, 0, 3, 4, 8])"
     },
     "execution_count": 10,
     "metadata": {},
     "output_type": "execute_result"
    }
   ],
   "source": [
    "x = np.random.rand(5, 1, 28, 28).astype(np.float32)\n",
    "mc.pred(x, require_output=False)"
   ]
  },
  {
   "cell_type": "code",
   "execution_count": 9,
   "metadata": {},
   "outputs": [
    {
     "name": "stdout",
     "output_type": "stream",
     "text": "Successfully saved model to \"MNIST_CNN1.pt\"\n"
    }
   ],
   "source": [
    "mc.save('MNIST_CNN1')"
   ]
  },
  {
   "cell_type": "code",
   "execution_count": 11,
   "metadata": {},
   "outputs": [
    {
     "name": "stdout",
     "output_type": "stream",
     "text": "Successfully loaded model from \"MNIST_CNN1.pt\"\n"
    }
   ],
   "source": [
    "mc.load('MNIST_CNN1.pt')"
   ]
  },
  {
   "cell_type": "code",
   "execution_count": 3,
   "metadata": {},
   "outputs": [
    {
     "output_type": "stream",
     "name": "stdout",
     "text": "tensor([-0.2065, -1.4782, -1.9884], requires_grad=True)\ntensor([1., 0., 0.])\ntensor([-0.2065, -1.4782, -1.9884], requires_grad=True)\n"
    }
   ],
   "source": [
    "import torch\n",
    "m = torch.nn.Sigmoid()\n",
    "loss = torch.nn.BCELoss()\n",
    "input = torch.randn(3, requires_grad=True)\n",
    "print(input)\n",
    "target = torch.empty(3).random_(2)\n",
    "print(target)\n",
    "output = loss(m(input), target)\n",
    "output.backward()\n",
    "print(input)"
   ]
  },
  {
   "cell_type": "code",
   "execution_count": null,
   "metadata": {},
   "outputs": [],
   "source": []
  }
 ]
}