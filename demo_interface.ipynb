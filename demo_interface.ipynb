{
 "cells": [
  {
   "cell_type": "code",
   "execution_count": 1,
   "metadata": {},
   "outputs": [],
   "source": [
    "import sys\n",
    "\n",
    "import torch\n",
    "import numpy as np\n",
    "\n",
    "import attacks\n",
    "from basemodels import TorchModelContainer, IrisNN, BCNN\n",
    "from datasets import DATASET_LIST, DataContainer, get_dataset_list\n",
    "# from defences import DefenceContainer\n",
    "\n",
    "%load_ext autoreload\n",
    "%autoreload 2"
   ]
  },
  {
   "cell_type": "code",
   "execution_count": 2,
   "metadata": {},
   "outputs": [
    {
     "name": "stdout",
     "output_type": "stream",
     "text": [
      "3.6.9 (default, Nov  7 2019, 10:44:02) \n",
      "[GCC 8.3.0]\n",
      "/usr/lib/python36.zip\n",
      "/usr/lib/python3.6\n",
      "/usr/lib/python3.6/lib-dynload\n",
      "\n",
      "/home/lukec/venv/lib/python3.6/site-packages\n",
      "/home/lukec/.local/lib/python3.6/site-packages\n",
      "/usr/local/lib/python3.6/dist-packages\n",
      "/usr/lib/python3/dist-packages\n",
      "/home/lukec/venv/lib/python3.6/site-packages/IPython/extensions\n",
      "/home/lukec/.ipython\n"
     ]
    }
   ],
   "source": [
    "print(sys.version)\n",
    "print(*sys.path, sep='\\n')"
   ]
  },
  {
   "cell_type": "code",
   "execution_count": 3,
   "metadata": {},
   "outputs": [
    {
     "name": "stdout",
     "output_type": "stream",
     "text": [
      "Avaliable datasets:\n",
      "['MNIST', 'CIFAR10', 'SVHN', 'BankNote', 'BreastCancerWisconsin', 'HTRU2', 'Iris', 'WheatSeed']\n"
     ]
    }
   ],
   "source": [
    "print('Avaliable datasets:')\n",
    "print(get_dataset_list())"
   ]
  },
  {
   "cell_type": "code",
   "execution_count": 4,
   "metadata": {},
   "outputs": [
    {
     "name": "stdout",
     "output_type": "stream",
     "text": [
      "Starting BreastCancerWisconsin data container...\n",
      "{'name': 'BreastCancerWisconsin', 'type': 'quantitative', 'size': 569, 'num_classes': 2, 'dim_data': (30,)}\n",
      "Loading data...\n",
      "Preparing DataFrame...\n",
      "Reading from data/BreastCancerWisconsin.csv\n",
      "Spliting train/test sets into numpy arrays...\n",
      "Successfully load data! Time taken:  0m 0.0s\n",
      "Features: 30\n",
      "Classes: 2\n",
      "Using model: BCNN\n",
      "Using device: cuda:0\n",
      "{'lr': 0.0001, 'betas': (0.9, 0.999)}\n",
      "[ 1/100]  0m 0.0s - Train Loss: 0.6807 Acc: 61.0989% - Test Loss: 0.6711 Acc: 69.2982%\n",
      "[ 2/100]  0m 0.0s - Train Loss: 0.6791 Acc: 61.0989% - Test Loss: 0.6695 Acc: 69.2982%\n",
      "[ 3/100]  0m 0.0s - Train Loss: 0.6777 Acc: 61.0989% - Test Loss: 0.6680 Acc: 69.2982%\n",
      "[ 4/100]  0m 0.0s - Train Loss: 0.6764 Acc: 61.0989% - Test Loss: 0.6664 Acc: 69.2982%\n",
      "[ 5/100]  0m 0.0s - Train Loss: 0.6751 Acc: 61.0989% - Test Loss: 0.6649 Acc: 69.2982%\n",
      "[ 6/100]  0m 0.0s - Train Loss: 0.6737 Acc: 61.0989% - Test Loss: 0.6634 Acc: 69.2982%\n",
      "[ 7/100]  0m 0.0s - Train Loss: 0.6723 Acc: 61.0989% - Test Loss: 0.6618 Acc: 69.2982%\n",
      "[ 8/100]  0m 0.0s - Train Loss: 0.6709 Acc: 61.0989% - Test Loss: 0.6602 Acc: 69.2982%\n",
      "[ 9/100]  0m 0.0s - Train Loss: 0.6694 Acc: 61.0989% - Test Loss: 0.6585 Acc: 69.2982%\n",
      "[10/100]  0m 0.0s - Train Loss: 0.6679 Acc: 61.0989% - Test Loss: 0.6566 Acc: 69.2982%\n",
      "[11/100]  0m 0.0s - Train Loss: 0.6661 Acc: 61.3187% - Test Loss: 0.6546 Acc: 70.1754%\n",
      "[12/100]  0m 0.0s - Train Loss: 0.6640 Acc: 61.7582% - Test Loss: 0.6524 Acc: 70.1754%\n",
      "[13/100]  0m 0.0s - Train Loss: 0.6617 Acc: 62.1978% - Test Loss: 0.6499 Acc: 71.9298%\n",
      "[14/100]  0m 0.0s - Train Loss: 0.6591 Acc: 63.5165% - Test Loss: 0.6474 Acc: 71.9298%\n",
      "[15/100]  0m 0.0s - Train Loss: 0.6566 Acc: 64.8352% - Test Loss: 0.6449 Acc: 71.9298%\n",
      "[16/100]  0m 0.0s - Train Loss: 0.6539 Acc: 66.5934% - Test Loss: 0.6421 Acc: 73.6842%\n",
      "[17/100]  0m 0.0s - Train Loss: 0.6510 Acc: 67.9121% - Test Loss: 0.6389 Acc: 73.6842%\n",
      "[18/100]  0m 0.0s - Train Loss: 0.6477 Acc: 70.7692% - Test Loss: 0.6354 Acc: 77.1930%\n",
      "[19/100]  0m 0.0s - Train Loss: 0.6442 Acc: 72.9670% - Test Loss: 0.6316 Acc: 78.0702%\n",
      "[20/100]  0m 0.0s - Train Loss: 0.6403 Acc: 74.7253% - Test Loss: 0.6274 Acc: 78.9474%\n",
      "[21/100]  0m 0.0s - Train Loss: 0.6361 Acc: 76.7033% - Test Loss: 0.6229 Acc: 81.5789%\n",
      "[22/100]  0m 0.0s - Train Loss: 0.6317 Acc: 78.9011% - Test Loss: 0.6182 Acc: 85.9649%\n",
      "[23/100]  0m 0.0s - Train Loss: 0.6269 Acc: 80.8791% - Test Loss: 0.6132 Acc: 85.9649%\n",
      "[24/100]  0m 0.0s - Train Loss: 0.6218 Acc: 83.7363% - Test Loss: 0.6080 Acc: 87.7193%\n",
      "[25/100]  0m 0.0s - Train Loss: 0.6164 Acc: 85.7143% - Test Loss: 0.6026 Acc: 88.5965%\n",
      "[26/100]  0m 0.0s - Train Loss: 0.6106 Acc: 87.2527% - Test Loss: 0.5968 Acc: 89.4737%\n",
      "[27/100]  0m 0.0s - Train Loss: 0.6043 Acc: 88.1319% - Test Loss: 0.5905 Acc: 91.2281%\n",
      "[28/100]  0m 0.0s - Train Loss: 0.5977 Acc: 89.4505% - Test Loss: 0.5839 Acc: 91.2281%\n",
      "[29/100]  0m 0.0s - Train Loss: 0.5906 Acc: 90.3297% - Test Loss: 0.5765 Acc: 92.1053%\n",
      "[30/100]  0m 0.0s - Train Loss: 0.5830 Acc: 90.9890% - Test Loss: 0.5687 Acc: 94.7368%\n",
      "[31/100]  0m 0.0s - Train Loss: 0.5751 Acc: 91.8681% - Test Loss: 0.5607 Acc: 94.7368%\n",
      "[32/100]  0m 0.0s - Train Loss: 0.5664 Acc: 93.1868% - Test Loss: 0.5520 Acc: 94.7368%\n",
      "[33/100]  0m 0.0s - Train Loss: 0.5573 Acc: 93.1868% - Test Loss: 0.5430 Acc: 93.8596%\n",
      "[34/100]  0m 0.0s - Train Loss: 0.5480 Acc: 93.1868% - Test Loss: 0.5338 Acc: 93.8596%\n",
      "[35/100]  0m 0.0s - Train Loss: 0.5383 Acc: 93.8462% - Test Loss: 0.5240 Acc: 93.8596%\n",
      "[36/100]  0m 0.0s - Train Loss: 0.5280 Acc: 94.5055% - Test Loss: 0.5136 Acc: 93.8596%\n",
      "[37/100]  0m 0.0s - Train Loss: 0.5171 Acc: 94.2857% - Test Loss: 0.5033 Acc: 94.7368%\n",
      "[38/100]  0m 0.0s - Train Loss: 0.5062 Acc: 94.0659% - Test Loss: 0.4922 Acc: 94.7368%\n",
      "[39/100]  0m 0.0s - Train Loss: 0.4948 Acc: 94.2857% - Test Loss: 0.4805 Acc: 94.7368%\n",
      "[40/100]  0m 0.0s - Train Loss: 0.4829 Acc: 94.0659% - Test Loss: 0.4685 Acc: 94.7368%\n",
      "[41/100]  0m 0.0s - Train Loss: 0.4708 Acc: 94.0659% - Test Loss: 0.4559 Acc: 94.7368%\n",
      "[42/100]  0m 0.0s - Train Loss: 0.4585 Acc: 94.0659% - Test Loss: 0.4433 Acc: 94.7368%\n",
      "[43/100]  0m 0.0s - Train Loss: 0.4460 Acc: 94.0659% - Test Loss: 0.4305 Acc: 94.7368%\n",
      "[44/100]  0m 0.0s - Train Loss: 0.4333 Acc: 94.0659% - Test Loss: 0.4181 Acc: 93.8596%\n",
      "[45/100]  0m 0.0s - Train Loss: 0.4205 Acc: 94.2857% - Test Loss: 0.4053 Acc: 93.8596%\n",
      "[46/100]  0m 0.0s - Train Loss: 0.4075 Acc: 94.5055% - Test Loss: 0.3919 Acc: 93.8596%\n",
      "[47/100]  0m 0.0s - Train Loss: 0.3947 Acc: 94.2857% - Test Loss: 0.3782 Acc: 93.8596%\n",
      "[48/100]  0m 0.0s - Train Loss: 0.3814 Acc: 94.5055% - Test Loss: 0.3651 Acc: 93.8596%\n",
      "[49/100]  0m 0.0s - Train Loss: 0.3683 Acc: 94.5055% - Test Loss: 0.3517 Acc: 93.8596%\n",
      "[50/100]  0m 0.0s - Train Loss: 0.3556 Acc: 94.5055% - Test Loss: 0.3385 Acc: 93.8596%\n",
      "[51/100]  0m 0.0s - Train Loss: 0.3429 Acc: 94.2857% - Test Loss: 0.3254 Acc: 94.7368%\n",
      "[52/100]  0m 0.0s - Train Loss: 0.3311 Acc: 93.6264% - Test Loss: 0.3125 Acc: 94.7368%\n",
      "[53/100]  0m 0.0s - Train Loss: 0.3192 Acc: 93.4066% - Test Loss: 0.3012 Acc: 94.7368%\n",
      "[54/100]  0m 0.0s - Train Loss: 0.3078 Acc: 94.0659% - Test Loss: 0.2906 Acc: 93.8596%\n",
      "[55/100]  0m 0.0s - Train Loss: 0.2970 Acc: 94.7253% - Test Loss: 0.2801 Acc: 94.7368%\n",
      "[56/100]  0m 0.0s - Train Loss: 0.2866 Acc: 94.5055% - Test Loss: 0.2687 Acc: 93.8596%\n",
      "[57/100]  0m 0.0s - Train Loss: 0.2762 Acc: 94.5055% - Test Loss: 0.2585 Acc: 93.8596%\n",
      "[58/100]  0m 0.0s - Train Loss: 0.2667 Acc: 94.7253% - Test Loss: 0.2490 Acc: 94.7368%\n",
      "[59/100]  0m 0.0s - Train Loss: 0.2574 Acc: 94.9451% - Test Loss: 0.2391 Acc: 93.8596%\n",
      "[60/100]  0m 0.0s - Train Loss: 0.2484 Acc: 94.5055% - Test Loss: 0.2295 Acc: 94.7368%\n",
      "[61/100]  0m 0.0s - Train Loss: 0.2399 Acc: 94.5055% - Test Loss: 0.2209 Acc: 94.7368%\n",
      "[62/100]  0m 0.0s - Train Loss: 0.2323 Acc: 94.5055% - Test Loss: 0.2136 Acc: 94.7368%\n",
      "[63/100]  0m 0.0s - Train Loss: 0.2249 Acc: 95.1648% - Test Loss: 0.2069 Acc: 96.4912%\n",
      "[64/100]  0m 0.0s - Train Loss: 0.2180 Acc: 95.6044% - Test Loss: 0.2001 Acc: 96.4912%\n",
      "[65/100]  0m 0.0s - Train Loss: 0.2117 Acc: 95.3846% - Test Loss: 0.1929 Acc: 96.4912%\n",
      "[66/100]  0m 0.0s - Train Loss: 0.2055 Acc: 95.3846% - Test Loss: 0.1871 Acc: 97.3684%\n",
      "[67/100]  0m 0.0s - Train Loss: 0.1997 Acc: 95.1648% - Test Loss: 0.1811 Acc: 97.3684%\n",
      "[68/100]  0m 0.0s - Train Loss: 0.1941 Acc: 95.3846% - Test Loss: 0.1760 Acc: 97.3684%\n",
      "[69/100]  0m 0.0s - Train Loss: 0.1890 Acc: 95.8242% - Test Loss: 0.1714 Acc: 96.4912%\n",
      "[70/100]  0m 0.0s - Train Loss: 0.1841 Acc: 96.2637% - Test Loss: 0.1662 Acc: 97.3684%\n",
      "[71/100]  0m 0.0s - Train Loss: 0.1795 Acc: 95.8242% - Test Loss: 0.1610 Acc: 97.3684%\n",
      "[72/100]  0m 0.0s - Train Loss: 0.1750 Acc: 95.8242% - Test Loss: 0.1566 Acc: 97.3684%\n",
      "[73/100]  0m 0.0s - Train Loss: 0.1708 Acc: 96.0440% - Test Loss: 0.1528 Acc: 97.3684%\n",
      "[74/100]  0m 0.0s - Train Loss: 0.1671 Acc: 96.0440% - Test Loss: 0.1488 Acc: 97.3684%\n",
      "[75/100]  0m 0.0s - Train Loss: 0.1631 Acc: 96.2637% - Test Loss: 0.1463 Acc: 95.6140%\n",
      "[76/100]  0m 0.0s - Train Loss: 0.1596 Acc: 96.7033% - Test Loss: 0.1427 Acc: 96.4912%\n",
      "[77/100]  0m 0.0s - Train Loss: 0.1561 Acc: 96.7033% - Test Loss: 0.1388 Acc: 96.4912%\n",
      "[78/100]  0m 0.0s - Train Loss: 0.1529 Acc: 96.2637% - Test Loss: 0.1352 Acc: 96.4912%\n",
      "[79/100]  0m 0.0s - Train Loss: 0.1499 Acc: 96.0440% - Test Loss: 0.1318 Acc: 97.3684%\n",
      "[80/100]  0m 0.0s - Train Loss: 0.1470 Acc: 96.0440% - Test Loss: 0.1293 Acc: 96.4912%\n",
      "[81/100]  0m 0.0s - Train Loss: 0.1440 Acc: 96.2637% - Test Loss: 0.1268 Acc: 96.4912%\n",
      "[82/100]  0m 0.0s - Train Loss: 0.1415 Acc: 96.4835% - Test Loss: 0.1246 Acc: 96.4912%\n",
      "[83/100]  0m 0.0s - Train Loss: 0.1391 Acc: 96.2637% - Test Loss: 0.1217 Acc: 96.4912%\n",
      "[84/100]  0m 0.0s - Train Loss: 0.1366 Acc: 96.4835% - Test Loss: 0.1202 Acc: 96.4912%\n",
      "[85/100]  0m 0.0s - Train Loss: 0.1341 Acc: 96.7033% - Test Loss: 0.1178 Acc: 96.4912%\n",
      "[86/100]  0m 0.0s - Train Loss: 0.1318 Acc: 96.7033% - Test Loss: 0.1152 Acc: 96.4912%\n",
      "[87/100]  0m 0.0s - Train Loss: 0.1297 Acc: 96.4835% - Test Loss: 0.1130 Acc: 96.4912%\n",
      "[88/100]  0m 0.0s - Train Loss: 0.1276 Acc: 96.7033% - Test Loss: 0.1118 Acc: 96.4912%\n",
      "[89/100]  0m 0.0s - Train Loss: 0.1256 Acc: 96.7033% - Test Loss: 0.1102 Acc: 96.4912%\n",
      "[90/100]  0m 0.0s - Train Loss: 0.1237 Acc: 96.4835% - Test Loss: 0.1073 Acc: 96.4912%\n",
      "[91/100]  0m 0.0s - Train Loss: 0.1220 Acc: 96.9231% - Test Loss: 0.1055 Acc: 96.4912%\n",
      "[92/100]  0m 0.0s - Train Loss: 0.1198 Acc: 96.9231% - Test Loss: 0.1049 Acc: 96.4912%\n",
      "[93/100]  0m 0.0s - Train Loss: 0.1182 Acc: 97.1429% - Test Loss: 0.1039 Acc: 96.4912%\n",
      "[94/100]  0m 0.0s - Train Loss: 0.1164 Acc: 97.1429% - Test Loss: 0.1017 Acc: 96.4912%\n",
      "[95/100]  0m 0.0s - Train Loss: 0.1147 Acc: 97.3626% - Test Loss: 0.0996 Acc: 96.4912%\n",
      "[96/100]  0m 0.0s - Train Loss: 0.1131 Acc: 97.3626% - Test Loss: 0.0980 Acc: 96.4912%\n",
      "[97/100]  0m 0.0s - Train Loss: 0.1115 Acc: 97.5824% - Test Loss: 0.0969 Acc: 96.4912%\n",
      "[98/100]  0m 0.0s - Train Loss: 0.1100 Acc: 97.5824% - Test Loss: 0.0955 Acc: 96.4912%\n",
      "[99/100]  0m 0.0s - Train Loss: 0.1086 Acc: 97.5824% - Test Loss: 0.0947 Acc: 96.4912%\n",
      "[100/100]  0m 0.0s - Train Loss: 0.1071 Acc: 97.8022% - Test Loss: 0.0933 Acc: 96.4912%\n",
      "Time taken for training:  0m 0.9s\n"
     ]
    }
   ],
   "source": [
    "DATA_ROOT = 'data'\n",
    "BATCH_SIZE = 128\n",
    "\n",
    "# image datasets: {'MNIST', 'CIFAR10', 'SVHN'}\n",
    "# quantitative datasets: {'BankNote', 'BreastCancerWisconsin', 'HTRU2', 'Iris', 'WheatSeed'}\n",
    "NAME = 'BreastCancerWisconsin'\n",
    "print(f'Starting {NAME} data container...')\n",
    "print(DATASET_LIST[NAME])\n",
    "\n",
    "dc = DataContainer(DATASET_LIST[NAME], DATA_ROOT)\n",
    "dc(size_train=0.8, normalize=True)\n",
    "\n",
    "num_features = dc.dim_data[0]\n",
    "num_classes = dc.num_classes\n",
    "print('Features:', num_features)\n",
    "print('Classes:', num_classes)\n",
    "\n",
    "## model in {BCNN, IrisNN, MnistCnnCW}\n",
    "# model = IrisNN(num_features, num_classes, hidden_nodes=16)  # for Iris\n",
    "model = BCNN(num_features, num_classes)\n",
    "model_name = model.__class__.__name__\n",
    "print('Using model:', model_name)\n",
    "\n",
    "mc = TorchModelContainer(model, dc)\n",
    "mc.fit(epochs=100, batch_size=BATCH_SIZE)"
   ]
  },
  {
   "cell_type": "code",
   "execution_count": 5,
   "metadata": {},
   "outputs": [
    {
     "data": {
      "text/plain": [
       "(114, 30)"
      ]
     },
     "execution_count": 5,
     "metadata": {},
     "output_type": "execute_result"
    }
   ],
   "source": [
    "dc.data_test_np.shape"
   ]
  },
  {
   "cell_type": "code",
   "execution_count": 6,
   "metadata": {},
   "outputs": [
    {
     "name": "stdout",
     "output_type": "stream",
     "text": [
      "{'confidence': 0.0, 'targeted': False, 'learning_rate': 0.01, 'binary_search_steps': 10, 'max_iter': 100, 'initial_const': 0.01, 'max_halving': 5, 'max_doubling': 10, 'batch_size': 8}\n"
     ]
    }
   ],
   "source": [
    "attack = attacks.CarliniL2Container(mc)\n",
    "print(attack.attack_params)"
   ]
  },
  {
   "cell_type": "code",
   "execution_count": 7,
   "metadata": {},
   "outputs": [
    {
     "name": "stdout",
     "output_type": "stream",
     "text": [
      "Time taken for training 100 adversarial examples:  1m 17.2s\n",
      "{'confidence': 0.0, 'targeted': False, 'learning_rate': 0.01, 'binary_search_steps': 10, 'max_iter': 100, 'initial_const': 0.01, 'max_halving': 5, 'max_doubling': 10, 'batch_size': 8}\n",
      "(100, 30)\n",
      "(100,)\n",
      "(100, 30)\n",
      "(100,)\n"
     ]
    }
   ],
   "source": [
    "n = 100\n",
    "# targets = attack.randam_targets(n, dc.num_classes)\n",
    "# adv, y_adv, x_clean, y_clean = attack.generate(count=n, targets=targets)\n",
    "adv, y_adv, x_clean, y_clean = attack.generate(count=n)\n",
    "print(attack.attack_params)\n",
    "print(adv.shape)\n",
    "print(y_adv.shape)\n",
    "print(x_clean.shape)\n",
    "print(y_clean.shape)"
   ]
  },
  {
   "cell_type": "code",
   "execution_count": 8,
   "metadata": {},
   "outputs": [
    {
     "name": "stdout",
     "output_type": "stream",
     "text": [
      "Accuracy on clean samples: 100.0000%\n",
      "Accuracy on adversarial example: 29.0000%\n"
     ]
    }
   ],
   "source": [
    "accuracy = mc.evaluate(x_clean, y_clean)\n",
    "print(f'Accuracy on clean samples: {accuracy*100:.4f}%')\n",
    "accuracy = mc.evaluate(adv, y_clean)\n",
    "print(f'Accuracy on adversarial example: {accuracy*100:.4f}%')"
   ]
  },
  {
   "cell_type": "code",
   "execution_count": null,
   "metadata": {},
   "outputs": [],
   "source": []
  }
 ],
 "metadata": {
  "file_extension": ".py",
  "kernelspec": {
   "display_name": "Python 3.6.9 64-bit ('venv': venv)",
   "language": "python",
   "name": "python36964bitvenvvenv794a3f6500e74251b078ca195c3ad1e1"
  },
  "language_info": {
   "codemirror_mode": {
    "name": "ipython",
    "version": 3
   },
   "file_extension": ".py",
   "mimetype": "text/x-python",
   "name": "python",
   "nbconvert_exporter": "python",
   "pygments_lexer": "ipython3",
   "version": "3.6.9"
  },
  "mimetype": "text/x-python",
  "name": "python",
  "npconvert_exporter": "python",
  "pygments_lexer": "ipython3",
  "version": 3
 },
 "nbformat": 4,
 "nbformat_minor": 4
}
