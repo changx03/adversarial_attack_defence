{
 "cells": [
  {
   "cell_type": "code",
   "execution_count": 1,
   "metadata": {},
   "outputs": [],
   "source": [
    "import sys\n",
    "\n",
    "import torch\n",
    "import numpy as np\n",
    "\n",
    "import attacks\n",
    "from basemodels import TorchModelContainer, IrisNN, BCNN, MnistCnnCW\n",
    "from datasets import DATASET_LIST, DataContainer, get_dataset_list\n",
    "import utils\n",
    "# from defences import DefenceContainer\n",
    "\n",
    "%load_ext autoreload\n",
    "%autoreload 2"
   ]
  },
  {
   "cell_type": "code",
   "execution_count": 2,
   "metadata": {},
   "outputs": [
    {
     "data": {
      "text/plain": [
       "(0.00037869555468417193, 0.9997808588429377)"
      ]
     },
     "execution_count": 2,
     "metadata": {},
     "output_type": "execute_result"
    }
   ],
   "source": [
    "a = np.random.rand(3, 38, 38, 1)\n",
    "r = utils.get_image_range(a)\n",
    "r"
   ]
  },
  {
   "cell_type": "code",
   "execution_count": 3,
   "metadata": {},
   "outputs": [
    {
     "name": "stdout",
     "output_type": "stream",
     "text": [
      "3.6.9 (default, Nov  7 2019, 10:44:02) \n",
      "[GCC 8.3.0]\n",
      "/usr/lib/python36.zip\n",
      "/usr/lib/python3.6\n",
      "/usr/lib/python3.6/lib-dynload\n",
      "\n",
      "/home/lukec/venv/lib/python3.6/site-packages\n",
      "/home/lukec/.local/lib/python3.6/site-packages\n",
      "/usr/local/lib/python3.6/dist-packages\n",
      "/usr/lib/python3/dist-packages\n",
      "/home/lukec/venv/lib/python3.6/site-packages/IPython/extensions\n",
      "/home/lukec/.ipython\n"
     ]
    }
   ],
   "source": [
    "print(sys.version)\n",
    "print(*sys.path, sep='\\n')"
   ]
  },
  {
   "cell_type": "code",
   "execution_count": 4,
   "metadata": {},
   "outputs": [
    {
     "name": "stdout",
     "output_type": "stream",
     "text": [
      "Avaliable datasets:\n",
      "['MNIST', 'CIFAR10', 'SVHN', 'BankNote', 'BreastCancerWisconsin', 'HTRU2', 'Iris', 'WheatSeed']\n"
     ]
    }
   ],
   "source": [
    "print('Avaliable datasets:')\n",
    "print(get_dataset_list())"
   ]
  },
  {
   "cell_type": "code",
   "execution_count": 5,
   "metadata": {},
   "outputs": [
    {
     "name": "stdout",
     "output_type": "stream",
     "text": [
      "Starting MNIST data container...\n",
      "{'name': 'MNIST', 'type': 'image', 'size': 70000, 'num_classes': 10, 'dim_data': (1, 28, 28)}\n",
      "Loading data...\n",
      "Preparing DataLoaders...\n",
      "Preparing numpy arrays...\n",
      "Successfully load data! Time taken:  0m 4.0s\n",
      "Features: 1\n",
      "Classes: 10\n",
      "Using model: MnistCnnCW\n",
      "Using device: cuda:0\n",
      "{'lr': 0.1, 'momentum': 0}\n",
      "[ 1/3]  0m 2.4s - Train Loss: 1.4005 Acc: 50.6433% - Test Loss: 0.1329 Acc: 95.7300%\n",
      "[ 2/3]  0m 2.4s - Train Loss: 0.1032 Acc: 96.7817% - Test Loss: 0.0608 Acc: 98.0900%\n",
      "[ 3/3]  0m 2.4s - Train Loss: 0.0621 Acc: 98.0383% - Test Loss: 0.0464 Acc: 98.5100%\n",
      "Time taken for training:  0m 7.2s\n"
     ]
    }
   ],
   "source": [
    "DATA_ROOT = 'data'\n",
    "BATCH_SIZE = 128\n",
    "\n",
    "# image datasets: {'MNIST', 'CIFAR10', 'SVHN'}\n",
    "# quantitative datasets: {'BankNote', 'BreastCancerWisconsin', 'HTRU2', 'Iris', 'WheatSeed'}\n",
    "NAME = 'MNIST'\n",
    "print(f'Starting {NAME} data container...')\n",
    "print(DATASET_LIST[NAME])\n",
    "\n",
    "dc = DataContainer(DATASET_LIST[NAME], DATA_ROOT)\n",
    "dc(size_train=0.8, normalize=True)\n",
    "\n",
    "num_features = dc.dim_data[0]\n",
    "num_classes = dc.num_classes\n",
    "print('Features:', num_features)\n",
    "print('Classes:', num_classes)\n",
    "\n",
    "## model in {BCNN, IrisNN, MnistCnnCW}\n",
    "# model = IrisNN(num_features, num_classes, hidden_nodes=16)  # for Iris\n",
    "# model = BCNN(num_features, num_classes)\n",
    "model = MnistCnnCW()\n",
    "model_name = model.__class__.__name__\n",
    "print('Using model:', model_name)\n",
    "\n",
    "mc = TorchModelContainer(model, dc)\n",
    "mc.fit(epochs=3, batch_size=BATCH_SIZE)"
   ]
  },
  {
   "cell_type": "code",
   "execution_count": 6,
   "metadata": {},
   "outputs": [
    {
     "data": {
      "text/plain": [
       "(10000, 28, 28, 1)"
      ]
     },
     "execution_count": 6,
     "metadata": {},
     "output_type": "execute_result"
    }
   ],
   "source": [
    "dc.data_test_np.shape"
   ]
  },
  {
   "cell_type": "code",
   "execution_count": 7,
   "metadata": {},
   "outputs": [
    {
     "name": "stdout",
     "output_type": "stream",
     "text": [
      "(0.0, 1.0)\n",
      "{'theta': 0.1, 'gamma': 1.0, 'batch_size': 8}\n"
     ]
    }
   ],
   "source": [
    "attack = attacks.JacobianSaliencyContainer(mc)\n",
    "print(attack.attack_params)"
   ]
  },
  {
   "cell_type": "code",
   "execution_count": 8,
   "metadata": {},
   "outputs": [
    {
     "name": "stdout",
     "output_type": "stream",
     "text": [
      "Time taken for training 32 adversarial examples:  0m 4.4s\n",
      "{'theta': 0.1, 'gamma': 1.0, 'batch_size': 8}\n",
      "(32, 1, 28, 28)\n",
      "(32,)\n",
      "(32, 1, 28, 28)\n",
      "(32,)\n"
     ]
    }
   ],
   "source": [
    "n = 32\n",
    "targets = attack.randam_targets(n, dc.num_classes, use_onehot=True)\n",
    "adv, y_adv, x_clean, y_clean = attack.generate(count=n, targets=targets)\n",
    "# adv, y_adv, x_clean, y_clean = attack.generate(count=n)\n",
    "print(attack.attack_params)\n",
    "print(adv.shape)\n",
    "print(y_adv.shape)\n",
    "print(x_clean.shape)\n",
    "print(y_clean.shape)"
   ]
  },
  {
   "cell_type": "code",
   "execution_count": 12,
   "metadata": {},
   "outputs": [
    {
     "name": "stdout",
     "output_type": "stream",
     "text": [
      "Accuracy on clean samples: 100.0000%\n",
      "Accuracy on adversarial example: 6.2500%\n"
     ]
    }
   ],
   "source": [
    "accuracy = mc.evaluate(x_clean, y_clean)\n",
    "print(f'Accuracy on clean samples: {accuracy*100:.4f}%')\n",
    "accuracy = mc.evaluate(adv, y_clean)\n",
    "print(f'Accuracy on adversarial example: {accuracy*100:.4f}%')"
   ]
  },
  {
   "cell_type": "code",
   "execution_count": null,
   "metadata": {},
   "outputs": [],
   "source": []
  }
 ],
 "metadata": {
  "file_extension": ".py",
  "kernelspec": {
   "display_name": "Python 3.6.9 64-bit ('venv': venv)",
   "language": "python",
   "name": "python36964bitvenvvenv794a3f6500e74251b078ca195c3ad1e1"
  },
  "language_info": {
   "codemirror_mode": {
    "name": "ipython",
    "version": 3
   },
   "file_extension": ".py",
   "mimetype": "text/x-python",
   "name": "python",
   "nbconvert_exporter": "python",
   "pygments_lexer": "ipython3",
   "version": "3.6.9"
  },
  "mimetype": "text/x-python",
  "name": "python",
  "npconvert_exporter": "python",
  "pygments_lexer": "ipython3",
  "version": 3
 },
 "nbformat": 4,
 "nbformat_minor": 4
}
