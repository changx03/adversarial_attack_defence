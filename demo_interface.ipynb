{
 "cells": [
  {
   "cell_type": "code",
   "execution_count": 1,
   "metadata": {},
   "outputs": [],
   "source": [
    "import sys\n",
    "\n",
    "import torch\n",
    "import numpy as np\n",
    "\n",
    "import attacks\n",
    "from basemodels import TorchModelContainer, IrisNN, BCNN\n",
    "from datasets import DATASET_LIST, DataContainer, get_dataset_list\n",
    "# from defences import DefenceContainer\n",
    "\n",
    "%load_ext autoreload\n",
    "%autoreload 2"
   ]
  },
  {
   "cell_type": "code",
   "execution_count": 2,
   "metadata": {},
   "outputs": [
    {
     "name": "stdout",
     "output_type": "stream",
     "text": [
      "3.6.9 (default, Nov  7 2019, 10:44:02) \n",
      "[GCC 8.3.0]\n",
      "/usr/lib/python36.zip\n",
      "/usr/lib/python3.6\n",
      "/usr/lib/python3.6/lib-dynload\n",
      "\n",
      "/home/lukec/venv/lib/python3.6/site-packages\n",
      "/home/lukec/.local/lib/python3.6/site-packages\n",
      "/usr/local/lib/python3.6/dist-packages\n",
      "/usr/lib/python3/dist-packages\n",
      "/home/lukec/venv/lib/python3.6/site-packages/IPython/extensions\n",
      "/home/lukec/.ipython\n"
     ]
    }
   ],
   "source": [
    "print(sys.version)\n",
    "print(*sys.path, sep='\\n')"
   ]
  },
  {
   "cell_type": "code",
   "execution_count": 3,
   "metadata": {},
   "outputs": [
    {
     "name": "stdout",
     "output_type": "stream",
     "text": [
      "Avaliable datasets:\n",
      "['MNIST', 'CIFAR10', 'SVHN', 'BankNote', 'BreastCancerWisconsin', 'HTRU2', 'Iris', 'WheatSeed']\n"
     ]
    }
   ],
   "source": [
    "print('Avaliable datasets:')\n",
    "print(get_dataset_list())"
   ]
  },
  {
   "cell_type": "code",
   "execution_count": 4,
   "metadata": {},
   "outputs": [
    {
     "name": "stdout",
     "output_type": "stream",
     "text": [
      "Starting BreastCancerWisconsin data container...\n",
      "{'name': 'BreastCancerWisconsin', 'type': 'quantitative', 'size': 569, 'num_classes': 2, 'dim_data': (30,)}\n",
      "Loading data...\n",
      "Preparing DataFrame...\n",
      "Reading from data/BreastCancerWisconsin.csv\n",
      "Spliting train/test sets into numpy arrays...\n",
      "Successfully load data! Time taken:  0m 0.0s\n",
      "Features: 30\n",
      "Classes: 2\n",
      "Using model: BCNN\n",
      "Using device: cuda:0\n",
      "{'lr': 0.0001, 'betas': (0.9, 0.999)}\n",
      "[ 1/100]  0m 0.0s - Train Loss: 0.7008 Acc: 36.0440% - Test Loss: 0.6951 Acc: 42.1053%\n",
      "[ 2/100]  0m 0.0s - Train Loss: 0.6984 Acc: 36.0440% - Test Loss: 0.6931 Acc: 42.1053%\n",
      "[ 3/100]  0m 0.0s - Train Loss: 0.6961 Acc: 36.0440% - Test Loss: 0.6911 Acc: 42.1053%\n",
      "[ 4/100]  0m 0.0s - Train Loss: 0.6937 Acc: 36.0440% - Test Loss: 0.6892 Acc: 42.9825%\n",
      "[ 5/100]  0m 0.0s - Train Loss: 0.6914 Acc: 38.0220% - Test Loss: 0.6872 Acc: 50.0000%\n",
      "[ 6/100]  0m 0.0s - Train Loss: 0.6889 Acc: 50.3297% - Test Loss: 0.6851 Acc: 71.0526%\n",
      "[ 7/100]  0m 0.0s - Train Loss: 0.6866 Acc: 68.3516% - Test Loss: 0.6830 Acc: 86.8421%\n",
      "[ 8/100]  0m 0.0s - Train Loss: 0.6841 Acc: 84.1758% - Test Loss: 0.6808 Acc: 92.9825%\n",
      "[ 9/100]  0m 0.0s - Train Loss: 0.6815 Acc: 89.2308% - Test Loss: 0.6785 Acc: 91.2281%\n",
      "[10/100]  0m 0.0s - Train Loss: 0.6790 Acc: 90.3297% - Test Loss: 0.6762 Acc: 90.3509%\n",
      "[11/100]  0m 0.0s - Train Loss: 0.6764 Acc: 90.1099% - Test Loss: 0.6737 Acc: 90.3509%\n",
      "[12/100]  0m 0.0s - Train Loss: 0.6736 Acc: 89.2308% - Test Loss: 0.6710 Acc: 89.4737%\n",
      "[13/100]  0m 0.0s - Train Loss: 0.6707 Acc: 89.0110% - Test Loss: 0.6680 Acc: 88.5965%\n",
      "[14/100]  0m 0.0s - Train Loss: 0.6676 Acc: 89.2308% - Test Loss: 0.6648 Acc: 88.5965%\n",
      "[15/100]  0m 0.0s - Train Loss: 0.6641 Acc: 89.0110% - Test Loss: 0.6612 Acc: 87.7193%\n",
      "[16/100]  0m 0.0s - Train Loss: 0.6605 Acc: 88.3516% - Test Loss: 0.6575 Acc: 86.8421%\n",
      "[17/100]  0m 0.0s - Train Loss: 0.6564 Acc: 87.6923% - Test Loss: 0.6534 Acc: 86.8421%\n",
      "[18/100]  0m 0.0s - Train Loss: 0.6522 Acc: 86.8132% - Test Loss: 0.6489 Acc: 86.8421%\n",
      "[19/100]  0m 0.0s - Train Loss: 0.6474 Acc: 86.1538% - Test Loss: 0.6442 Acc: 86.8421%\n",
      "[20/100]  0m 0.0s - Train Loss: 0.6424 Acc: 86.1538% - Test Loss: 0.6388 Acc: 87.7193%\n",
      "[21/100]  0m 0.0s - Train Loss: 0.6368 Acc: 86.5934% - Test Loss: 0.6330 Acc: 89.4737%\n",
      "[22/100]  0m 0.0s - Train Loss: 0.6308 Acc: 86.5934% - Test Loss: 0.6266 Acc: 89.4737%\n",
      "[23/100]  0m 0.0s - Train Loss: 0.6242 Acc: 87.2527% - Test Loss: 0.6197 Acc: 89.4737%\n",
      "[24/100]  0m 0.0s - Train Loss: 0.6171 Acc: 87.6923% - Test Loss: 0.6124 Acc: 89.4737%\n",
      "[25/100]  0m 0.0s - Train Loss: 0.6098 Acc: 87.6923% - Test Loss: 0.6045 Acc: 90.3509%\n",
      "[26/100]  0m 0.0s - Train Loss: 0.6017 Acc: 87.6923% - Test Loss: 0.5961 Acc: 90.3509%\n",
      "[27/100]  0m 0.0s - Train Loss: 0.5932 Acc: 87.9121% - Test Loss: 0.5871 Acc: 90.3509%\n",
      "[28/100]  0m 0.0s - Train Loss: 0.5841 Acc: 88.1319% - Test Loss: 0.5776 Acc: 90.3509%\n",
      "[29/100]  0m 0.0s - Train Loss: 0.5745 Acc: 88.1319% - Test Loss: 0.5673 Acc: 90.3509%\n",
      "[30/100]  0m 0.0s - Train Loss: 0.5643 Acc: 88.3516% - Test Loss: 0.5565 Acc: 90.3509%\n",
      "[31/100]  0m 0.0s - Train Loss: 0.5534 Acc: 88.5714% - Test Loss: 0.5453 Acc: 90.3509%\n",
      "[32/100]  0m 0.0s - Train Loss: 0.5424 Acc: 89.8901% - Test Loss: 0.5335 Acc: 90.3509%\n",
      "[33/100]  0m 0.0s - Train Loss: 0.5308 Acc: 90.1099% - Test Loss: 0.5213 Acc: 90.3509%\n",
      "[34/100]  0m 0.0s - Train Loss: 0.5187 Acc: 90.1099% - Test Loss: 0.5091 Acc: 90.3509%\n",
      "[35/100]  0m 0.0s - Train Loss: 0.5063 Acc: 90.1099% - Test Loss: 0.4962 Acc: 90.3509%\n",
      "[36/100]  0m 0.0s - Train Loss: 0.4938 Acc: 90.3297% - Test Loss: 0.4835 Acc: 90.3509%\n",
      "[37/100]  0m 0.0s - Train Loss: 0.4807 Acc: 90.3297% - Test Loss: 0.4704 Acc: 90.3509%\n",
      "[38/100]  0m 0.0s - Train Loss: 0.4676 Acc: 90.3297% - Test Loss: 0.4569 Acc: 90.3509%\n",
      "[39/100]  0m 0.0s - Train Loss: 0.4546 Acc: 90.3297% - Test Loss: 0.4431 Acc: 92.1053%\n",
      "[40/100]  0m 0.0s - Train Loss: 0.4410 Acc: 91.2088% - Test Loss: 0.4289 Acc: 92.1053%\n",
      "[41/100]  0m 0.0s - Train Loss: 0.4275 Acc: 91.8681% - Test Loss: 0.4151 Acc: 92.1053%\n",
      "[42/100]  0m 0.0s - Train Loss: 0.4140 Acc: 91.8681% - Test Loss: 0.4018 Acc: 92.1053%\n",
      "[43/100]  0m 0.0s - Train Loss: 0.4006 Acc: 92.0879% - Test Loss: 0.3884 Acc: 92.1053%\n",
      "[44/100]  0m 0.0s - Train Loss: 0.3872 Acc: 92.3077% - Test Loss: 0.3749 Acc: 92.9825%\n",
      "[45/100]  0m 0.0s - Train Loss: 0.3742 Acc: 92.7473% - Test Loss: 0.3616 Acc: 92.9825%\n",
      "[46/100]  0m 0.0s - Train Loss: 0.3610 Acc: 93.1868% - Test Loss: 0.3489 Acc: 92.9825%\n",
      "[47/100]  0m 0.0s - Train Loss: 0.3483 Acc: 93.4066% - Test Loss: 0.3364 Acc: 92.9825%\n",
      "[48/100]  0m 0.0s - Train Loss: 0.3359 Acc: 93.4066% - Test Loss: 0.3242 Acc: 92.1053%\n",
      "[49/100]  0m 0.0s - Train Loss: 0.3236 Acc: 93.4066% - Test Loss: 0.3125 Acc: 92.1053%\n",
      "[50/100]  0m 0.0s - Train Loss: 0.3120 Acc: 93.8462% - Test Loss: 0.3011 Acc: 92.1053%\n",
      "[51/100]  0m 0.0s - Train Loss: 0.3007 Acc: 93.8462% - Test Loss: 0.2902 Acc: 92.1053%\n",
      "[52/100]  0m 0.0s - Train Loss: 0.2897 Acc: 93.8462% - Test Loss: 0.2801 Acc: 92.1053%\n",
      "[53/100]  0m 0.0s - Train Loss: 0.2793 Acc: 93.8462% - Test Loss: 0.2705 Acc: 92.1053%\n",
      "[54/100]  0m 0.0s - Train Loss: 0.2692 Acc: 94.2857% - Test Loss: 0.2609 Acc: 92.1053%\n",
      "[55/100]  0m 0.0s - Train Loss: 0.2597 Acc: 94.5055% - Test Loss: 0.2521 Acc: 92.1053%\n",
      "[56/100]  0m 0.0s - Train Loss: 0.2506 Acc: 94.2857% - Test Loss: 0.2441 Acc: 92.1053%\n",
      "[57/100]  0m 0.0s - Train Loss: 0.2417 Acc: 94.5055% - Test Loss: 0.2367 Acc: 92.1053%\n",
      "[58/100]  0m 0.0s - Train Loss: 0.2337 Acc: 94.5055% - Test Loss: 0.2298 Acc: 92.1053%\n",
      "[59/100]  0m 0.0s - Train Loss: 0.2259 Acc: 94.5055% - Test Loss: 0.2231 Acc: 92.1053%\n",
      "[60/100]  0m 0.0s - Train Loss: 0.2186 Acc: 94.7253% - Test Loss: 0.2165 Acc: 92.1053%\n",
      "[61/100]  0m 0.0s - Train Loss: 0.2117 Acc: 95.1648% - Test Loss: 0.2104 Acc: 92.1053%\n",
      "[62/100]  0m 0.0s - Train Loss: 0.2052 Acc: 95.1648% - Test Loss: 0.2051 Acc: 92.1053%\n",
      "[63/100]  0m 0.0s - Train Loss: 0.1990 Acc: 95.1648% - Test Loss: 0.2001 Acc: 92.1053%\n",
      "[64/100]  0m 0.0s - Train Loss: 0.1934 Acc: 95.1648% - Test Loss: 0.1956 Acc: 92.9825%\n",
      "[65/100]  0m 0.0s - Train Loss: 0.1877 Acc: 94.9451% - Test Loss: 0.1912 Acc: 92.9825%\n",
      "[66/100]  0m 0.0s - Train Loss: 0.1834 Acc: 95.3846% - Test Loss: 0.1868 Acc: 94.7368%\n",
      "[67/100]  0m 0.0s - Train Loss: 0.1781 Acc: 95.8242% - Test Loss: 0.1833 Acc: 94.7368%\n",
      "[68/100]  0m 0.0s - Train Loss: 0.1737 Acc: 95.3846% - Test Loss: 0.1805 Acc: 92.9825%\n",
      "[69/100]  0m 0.0s - Train Loss: 0.1693 Acc: 95.3846% - Test Loss: 0.1770 Acc: 94.7368%\n",
      "[70/100]  0m 0.0s - Train Loss: 0.1651 Acc: 95.6044% - Test Loss: 0.1740 Acc: 94.7368%\n",
      "[71/100]  0m 0.0s - Train Loss: 0.1618 Acc: 95.1648% - Test Loss: 0.1716 Acc: 93.8596%\n",
      "[72/100]  0m 0.0s - Train Loss: 0.1580 Acc: 95.3846% - Test Loss: 0.1683 Acc: 94.7368%\n",
      "[73/100]  0m 0.0s - Train Loss: 0.1544 Acc: 96.7033% - Test Loss: 0.1659 Acc: 94.7368%\n",
      "[74/100]  0m 0.0s - Train Loss: 0.1512 Acc: 96.7033% - Test Loss: 0.1639 Acc: 94.7368%\n",
      "[75/100]  0m 0.0s - Train Loss: 0.1480 Acc: 96.4835% - Test Loss: 0.1622 Acc: 94.7368%\n",
      "[76/100]  0m 0.0s - Train Loss: 0.1451 Acc: 96.0440% - Test Loss: 0.1603 Acc: 94.7368%\n",
      "[77/100]  0m 0.0s - Train Loss: 0.1425 Acc: 96.2637% - Test Loss: 0.1590 Acc: 93.8596%\n",
      "[78/100]  0m 0.0s - Train Loss: 0.1397 Acc: 96.2637% - Test Loss: 0.1567 Acc: 95.6140%\n",
      "[79/100]  0m 0.0s - Train Loss: 0.1373 Acc: 96.7033% - Test Loss: 0.1535 Acc: 93.8596%\n",
      "[80/100]  0m 0.0s - Train Loss: 0.1349 Acc: 96.9231% - Test Loss: 0.1518 Acc: 94.7368%\n",
      "[81/100]  0m 0.0s - Train Loss: 0.1323 Acc: 96.9231% - Test Loss: 0.1509 Acc: 95.6140%\n",
      "[82/100]  0m 0.0s - Train Loss: 0.1300 Acc: 96.9231% - Test Loss: 0.1505 Acc: 95.6140%\n",
      "[83/100]  0m 0.0s - Train Loss: 0.1283 Acc: 96.4835% - Test Loss: 0.1505 Acc: 93.8596%\n",
      "[84/100]  0m 0.0s - Train Loss: 0.1263 Acc: 96.4835% - Test Loss: 0.1478 Acc: 95.6140%\n",
      "[85/100]  0m 0.0s - Train Loss: 0.1240 Acc: 96.9231% - Test Loss: 0.1458 Acc: 95.6140%\n",
      "[86/100]  0m 0.0s - Train Loss: 0.1219 Acc: 97.3626% - Test Loss: 0.1442 Acc: 96.4912%\n",
      "[87/100]  0m 0.0s - Train Loss: 0.1202 Acc: 97.3626% - Test Loss: 0.1429 Acc: 95.6140%\n",
      "[88/100]  0m 0.0s - Train Loss: 0.1184 Acc: 97.3626% - Test Loss: 0.1418 Acc: 95.6140%\n",
      "[89/100]  0m 0.0s - Train Loss: 0.1167 Acc: 97.3626% - Test Loss: 0.1408 Acc: 95.6140%\n",
      "[90/100]  0m 0.0s - Train Loss: 0.1150 Acc: 97.3626% - Test Loss: 0.1398 Acc: 96.4912%\n",
      "[91/100]  0m 0.0s - Train Loss: 0.1134 Acc: 97.3626% - Test Loss: 0.1389 Acc: 96.4912%\n",
      "[92/100]  0m 0.0s - Train Loss: 0.1118 Acc: 97.3626% - Test Loss: 0.1388 Acc: 96.4912%\n",
      "[93/100]  0m 0.0s - Train Loss: 0.1102 Acc: 97.3626% - Test Loss: 0.1375 Acc: 96.4912%\n",
      "[94/100]  0m 0.0s - Train Loss: 0.1086 Acc: 97.5824% - Test Loss: 0.1367 Acc: 96.4912%\n",
      "[95/100]  0m 0.0s - Train Loss: 0.1075 Acc: 97.3626% - Test Loss: 0.1365 Acc: 96.4912%\n",
      "[96/100]  0m 0.0s - Train Loss: 0.1056 Acc: 97.8022% - Test Loss: 0.1346 Acc: 96.4912%\n",
      "[97/100]  0m 0.0s - Train Loss: 0.1040 Acc: 97.3626% - Test Loss: 0.1329 Acc: 95.6140%\n",
      "[98/100]  0m 0.0s - Train Loss: 0.1034 Acc: 97.3626% - Test Loss: 0.1310 Acc: 95.6140%\n",
      "[99/100]  0m 0.0s - Train Loss: 0.1015 Acc: 97.3626% - Test Loss: 0.1314 Acc: 95.6140%\n",
      "[100/100]  0m 0.0s - Train Loss: 0.1002 Acc: 97.5824% - Test Loss: 0.1330 Acc: 96.4912%\n",
      "Time taken for training:  0m 0.9s\n"
     ]
    }
   ],
   "source": [
    "DATA_ROOT = 'data'\n",
    "BATCH_SIZE = 128\n",
    "\n",
    "# image datasets: {'MNIST', 'CIFAR10', 'SVHN'}\n",
    "# quantitative datasets: {'BankNote', 'BreastCancerWisconsin', 'HTRU2', 'Iris', 'WheatSeed'}\n",
    "NAME = 'BreastCancerWisconsin'\n",
    "print(f'Starting {NAME} data container...')\n",
    "print(DATASET_LIST[NAME])\n",
    "\n",
    "dc = DataContainer(DATASET_LIST[NAME], DATA_ROOT)\n",
    "dc(size_train=0.8, normalize=True)\n",
    "\n",
    "num_features = dc.dim_data[0]\n",
    "num_classes = dc.num_classes\n",
    "print('Features:', num_features)\n",
    "print('Classes:', num_classes)\n",
    "\n",
    "## model in {BCNN, IrisNN, MnistCnnCW}\n",
    "# model = IrisNN(num_features, num_classes, hidden_nodes=16)  # for Iris\n",
    "model = BCNN(num_features, num_classes)\n",
    "model_name = model.__class__.__name__\n",
    "print('Using model:', model_name)\n",
    "\n",
    "mc = TorchModelContainer(model, dc)\n",
    "mc.fit(epochs=100, batch_size=BATCH_SIZE)"
   ]
  },
  {
   "cell_type": "code",
   "execution_count": 5,
   "metadata": {},
   "outputs": [
    {
     "data": {
      "text/plain": [
       "(114, 30)"
      ]
     },
     "execution_count": 5,
     "metadata": {},
     "output_type": "execute_result"
    }
   ],
   "source": [
    "dc.data_test_np.shape"
   ]
  },
  {
   "cell_type": "code",
   "execution_count": 6,
   "metadata": {},
   "outputs": [
    {
     "name": "stdout",
     "output_type": "stream",
     "text": [
      "{'max_iter': 100, 'epsilon': 1e-06, 'nb_grads': 10, 'batch_size': 1}\n"
     ]
    }
   ],
   "source": [
    "attack = attacks.DeepFoolContainer(mc)\n",
    "print(attack.attack_params)"
   ]
  },
  {
   "cell_type": "code",
   "execution_count": 7,
   "metadata": {},
   "outputs": [
    {
     "name": "stdout",
     "output_type": "stream",
     "text": [
      "Time taken for training 100 adversarial examples:  0m 8.6s\n",
      "{'max_iter': 100, 'epsilon': 1e-06, 'nb_grads': 10, 'batch_size': 1}\n",
      "(100, 30)\n",
      "(100,)\n",
      "(100, 30)\n",
      "(100,)\n"
     ]
    }
   ],
   "source": [
    "n = 100\n",
    "# targets = attack.randam_targets(n, dc.num_classes)\n",
    "# adv, y_adv, x_clean, y_clean = attack.generate(count=n, targets=targets)\n",
    "adv, y_adv, x_clean, y_clean = attack.generate(count=n)\n",
    "print(attack.attack_params)\n",
    "print(adv.shape)\n",
    "print(y_adv.shape)\n",
    "print(x_clean.shape)\n",
    "print(y_clean.shape)"
   ]
  },
  {
   "cell_type": "code",
   "execution_count": 8,
   "metadata": {},
   "outputs": [
    {
     "name": "stdout",
     "output_type": "stream",
     "text": [
      "Accuracy on clean samples: 100.0000%\n",
      "Accuracy on adversarial example: 40.0000%\n"
     ]
    }
   ],
   "source": [
    "accuracy = mc.evaluate(x_clean, y_clean)\n",
    "print(f'Accuracy on clean samples: {accuracy*100:.4f}%')\n",
    "accuracy = mc.evaluate(adv, y_clean)\n",
    "print(f'Accuracy on adversarial example: {accuracy*100:.4f}%')"
   ]
  },
  {
   "cell_type": "code",
   "execution_count": null,
   "metadata": {},
   "outputs": [],
   "source": []
  }
 ],
 "metadata": {
  "file_extension": ".py",
  "kernelspec": {
   "display_name": "Python 3.6.9 64-bit ('venv': venv)",
   "language": "python",
   "name": "python36964bitvenvvenv794a3f6500e74251b078ca195c3ad1e1"
  },
  "language_info": {
   "codemirror_mode": {
    "name": "ipython",
    "version": 3
   },
   "file_extension": ".py",
   "mimetype": "text/x-python",
   "name": "python",
   "nbconvert_exporter": "python",
   "pygments_lexer": "ipython3",
   "version": "3.6.9"
  },
  "mimetype": "text/x-python",
  "name": "python",
  "npconvert_exporter": "python",
  "pygments_lexer": "ipython3",
  "version": 3
 },
 "nbformat": 4,
 "nbformat_minor": 4
}
