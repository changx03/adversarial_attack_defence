{
 "cells": [
  {
   "cell_type": "code",
   "execution_count": 11,
   "metadata": {},
   "outputs": [
    {
     "name": "stdout",
     "output_type": "stream",
     "text": [
      "The autoreload extension is already loaded. To reload it, use:\n",
      "  %reload_ext autoreload\n"
     ]
    }
   ],
   "source": [
    "import sys\n",
    "\n",
    "import torch\n",
    "import numpy as np\n",
    "\n",
    "from attacks import AttackContainer\n",
    "from basemodels import TorchModelContainer, BCNN, MnistCnnCW\n",
    "from datasets import (DATASET_LIST, DataContainer, get_image_list,\n",
    "                      get_quantitative_list, scale_unnormalize)\n",
    "from defences import DefenceContainer\n",
    "\n",
    "%load_ext autoreload\n",
    "%autoreload 2"
   ]
  },
  {
   "cell_type": "code",
   "execution_count": 3,
   "metadata": {},
   "outputs": [
    {
     "name": "stdout",
     "output_type": "stream",
     "text": [
      "3.6.9 (default, Nov  7 2019, 10:44:02) \n",
      "[GCC 8.3.0]\n",
      "/usr/lib/python36.zip\n",
      "/usr/lib/python3.6\n",
      "/usr/lib/python3.6/lib-dynload\n",
      "\n",
      "/home/lukec/venv/lib/python3.6/site-packages\n",
      "/home/lukec/Downloads/jax/build\n",
      "/home/lukec/.local/lib/python3.6/site-packages\n",
      "/usr/local/lib/python3.6/dist-packages\n",
      "/usr/lib/python3/dist-packages\n",
      "/home/lukec/venv/lib/python3.6/site-packages/IPython/extensions\n",
      "/home/lukec/.ipython\n"
     ]
    }
   ],
   "source": [
    "print(sys.version)\n",
    "print(*sys.path, sep='\\n')"
   ]
  },
  {
   "cell_type": "code",
   "execution_count": 4,
   "metadata": {},
   "outputs": [
    {
     "name": "stdout",
     "output_type": "stream",
     "text": [
      "Avaliable image datasets:\n",
      "['MNIST', 'CIFAR10', 'SVHN']\n",
      "\n",
      "Avaliable quantitative datasets:\n",
      "['BankNote', 'BreastCancerWisconsin', 'HTRU2', 'Iris', 'WheatSeed']\n",
      "\n"
     ]
    }
   ],
   "source": [
    "print('Avaliable image datasets:')\n",
    "print(get_image_list())\n",
    "print()\n",
    "print('Avaliable quantitative datasets:')\n",
    "print(get_quantitative_list())\n",
    "print()"
   ]
  },
  {
   "cell_type": "code",
   "execution_count": 5,
   "metadata": {},
   "outputs": [
    {
     "name": "stdout",
     "output_type": "stream",
     "text": [
      "Starting BankNote data container...\n",
      "{'name': 'BankNote', 'type': 'quantitative', 'size': 1372, 'num_classes': 2, 'dim_data': (4,)}\n"
     ]
    }
   ],
   "source": [
    "DATA_ROOT = 'data'\n",
    "BATCH_SIZE = 128\n",
    "# TYPE in {'image', 'quantitative'}\n",
    "TYPE = 'quantitative' \n",
    "\n",
    "# image in {'MNIST', 'CIFAR10', 'SVHN'}\n",
    "# quantitative in {'BankNote', 'BreastCancerWisconsin', 'HTRU2', 'Iris', 'WheatSeed'}\n",
    "NAME = 'BankNote'\n",
    "print(f'Starting {NAME} data container...')\n",
    "IMAGE_DATASET = DATASET_LIST[TYPE][NAME]\n",
    "print(IMAGE_DATASET)"
   ]
  },
  {
   "cell_type": "code",
   "execution_count": 8,
   "metadata": {},
   "outputs": [
    {
     "name": "stdout",
     "output_type": "stream",
     "text": [
      "Loading data...\n",
      "Preparing DataFrame...\n",
      "Reading from data/data_banknote_authentication.txt\n",
      "Spliting train/test sets into numpy arrays...\n",
      "Preparing DataLoaders...\n",
      "Successfully load data! Time taken:  0m 0.0s\n"
     ]
    }
   ],
   "source": [
    "dc = DataContainer(IMAGE_DATASET, DATA_ROOT)\n",
    "dc(BATCH_SIZE, normalize=True)"
   ]
  },
  {
   "cell_type": "code",
   "execution_count": 9,
   "metadata": {},
   "outputs": [
    {
     "name": "stdout",
     "output_type": "stream",
     "text": [
      "Features: 4\n",
      "Classes: 2\n"
     ]
    }
   ],
   "source": [
    "num_features = dc.dim_data[0]\n",
    "num_classes = dc.num_classes\n",
    "\n",
    "print('Features:', num_features)\n",
    "print('Classes:', num_classes)"
   ]
  },
  {
   "cell_type": "code",
   "execution_count": 12,
   "metadata": {},
   "outputs": [
    {
     "name": "stdout",
     "output_type": "stream",
     "text": [
      "Using model: BCNN\n"
     ]
    }
   ],
   "source": [
    "# model in {BCNN, MnistCnnCW}\n",
    "model = BCNN(num_features, num_classes)\n",
    "model_name = model.__class__.__name__\n",
    "print('Using model:', model_name)"
   ]
  },
  {
   "cell_type": "code",
   "execution_count": 13,
   "metadata": {},
   "outputs": [
    {
     "data": {
      "text/plain": [
       "(array([ -7.04209995, -13.7730999 ,  -5.28609991,  -8.54819965]),\n",
       " array([ 6.82480001, 12.95160007, 17.92740059,  2.44950008]))"
      ]
     },
     "execution_count": 13,
     "metadata": {},
     "output_type": "execute_result"
    }
   ],
   "source": [
    "dc.data_range"
   ]
  },
  {
   "cell_type": "code",
   "execution_count": 22,
   "metadata": {},
   "outputs": [
    {
     "data": {
      "text/plain": [
       "array([[0.33887172, 1.        , 0.37110302, 0.23692226],\n",
       "       [0.69301   , 0.64684355, 0.25416934, 0.74027205],\n",
       "       [0.22761397, 0.03468701, 0.77893466, 0.49218473]], dtype=float32)"
      ]
     },
     "execution_count": 22,
     "metadata": {},
     "output_type": "execute_result"
    }
   ],
   "source": [
    "dc.data_test_np[:3]"
   ]
  },
  {
   "cell_type": "code",
   "execution_count": 23,
   "metadata": {},
   "outputs": [
    {
     "data": {
      "text/plain": [
       "array([[ -2.34299975,  12.95160007,   3.3285002 ,  -5.94259973],\n",
       "       [  2.56780001,   3.51359997,   0.6140603 ,  -0.40690998],\n",
       "       [ -3.88579979, -12.8460999 ,  12.79570015,  -3.1352998 ]])"
      ]
     },
     "execution_count": 23,
     "metadata": {},
     "output_type": "execute_result"
    }
   ],
   "source": [
    "scale_unnormalize(dc.data_test_np[:3], dc.data_range[0], dc.data_range[1])"
   ]
  },
  {
   "cell_type": "code",
   "execution_count": null,
   "metadata": {},
   "outputs": [],
   "source": []
  }
 ],
 "metadata": {
  "file_extension": ".py",
  "kernelspec": {
   "display_name": "Python 3.6.9 64-bit ('venv': venv)",
   "language": "python",
   "name": "python36964bitvenvvenv794a3f6500e74251b078ca195c3ad1e1"
  },
  "language_info": {
   "codemirror_mode": {
    "name": "ipython",
    "version": 3
   },
   "file_extension": ".py",
   "mimetype": "text/x-python",
   "name": "python",
   "nbconvert_exporter": "python",
   "pygments_lexer": "ipython3",
   "version": "3.6.9"
  },
  "mimetype": "text/x-python",
  "name": "python",
  "npconvert_exporter": "python",
  "pygments_lexer": "ipython3",
  "version": 3
 },
 "nbformat": 4,
 "nbformat_minor": 4
}
