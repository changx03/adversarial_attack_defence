{
 "cells": [
  {
   "cell_type": "code",
   "execution_count": 1,
   "metadata": {},
   "outputs": [],
   "source": [
    "import sys\n",
    "\n",
    "import torch\n",
    "import numpy as np\n",
    "\n",
    "from attacks import FGSMContainer\n",
    "from basemodels import TorchModelContainer, IrisNN\n",
    "from datasets import DATASET_LIST, DataContainer, get_dataset_list\n",
    "# from defences import DefenceContainer\n",
    "\n",
    "%load_ext autoreload\n",
    "%autoreload 2"
   ]
  },
  {
   "cell_type": "code",
   "execution_count": 2,
   "metadata": {},
   "outputs": [
    {
     "name": "stdout",
     "output_type": "stream",
     "text": "3.6.9 (default, Nov  7 2019, 10:44:02) \n[GCC 8.3.0]\n/home/lukec/.vscode/extensions/ms-python.python-2020.2.64397/pythonFiles\n/home/lukec/.vscode/extensions/ms-python.python-2020.2.64397/pythonFiles/lib/python\n/usr/lib/python36.zip\n/usr/lib/python3.6\n/usr/lib/python3.6/lib-dynload\n\n/home/lukec/venv/lib/python3.6/site-packages\n/home/lukec/Downloads/jax/build\n/home/lukec/.local/lib/python3.6/site-packages\n/usr/local/lib/python3.6/dist-packages\n/usr/lib/python3/dist-packages\n/home/lukec/venv/lib/python3.6/site-packages/IPython/extensions\n/home/lukec/.ipython\n"
    }
   ],
   "source": [
    "print(sys.version)\n",
    "print(*sys.path, sep='\\n')"
   ]
  },
  {
   "cell_type": "code",
   "execution_count": 3,
   "metadata": {},
   "outputs": [
    {
     "name": "stdout",
     "output_type": "stream",
     "text": "Avaliable datasets:\n['MNIST', 'CIFAR10', 'SVHN', 'BankNote', 'BreastCancerWisconsin', 'HTRU2', 'Iris', 'WheatSeed']\n"
    }
   ],
   "source": [
    "print('Avaliable datasets:')\n",
    "print(get_dataset_list())"
   ]
  },
  {
   "cell_type": "code",
   "execution_count": 5,
   "metadata": {},
   "outputs": [
    {
     "name": "stdout",
     "output_type": "stream",
     "text": "Starting Iris data container...\n{'name': 'Iris', 'type': 'quantitative', 'size': 150, 'num_classes': 3, 'dim_data': (4,)}\nLoading data...\nPreparing DataFrame...\nReading from data/iris.data\nSpliting train/test sets into numpy arrays...\nSuccessfully load data! Time taken:  0m 0.0s\nFeatures: 4\nClasses: 3\nUsing model: IrisNN\nUsing device: cuda:0\n{'lr': 0.01, 'momentum': 0.9}\n[ 1/200]  0m 0.0s - Train Loss: 1.0941 Acc: 32.5000% - Test Loss: 1.0996 Acc: 40.0000%\n[ 2/200]  0m 0.0s - Train Loss: 1.0936 Acc: 32.5000% - Test Loss: 1.0993 Acc: 40.0000%\n[ 3/200]  0m 0.0s - Train Loss: 1.0925 Acc: 32.5000% - Test Loss: 1.0987 Acc: 40.0000%\n[ 4/200]  0m 0.0s - Train Loss: 1.0909 Acc: 34.1667% - Test Loss: 1.0977 Acc: 43.3333%\n[ 5/200]  0m 0.0s - Train Loss: 1.0892 Acc: 40.0000% - Test Loss: 1.0966 Acc: 50.0000%\n[ 6/200]  0m 0.0s - Train Loss: 1.0874 Acc: 50.0000% - Test Loss: 1.0954 Acc: 53.3333%\n[ 7/200]  0m 0.0s - Train Loss: 1.0853 Acc: 60.0000% - Test Loss: 1.0946 Acc: 56.6667%\n[ 8/200]  0m 0.0s - Train Loss: 1.0834 Acc: 65.0000% - Test Loss: 1.0940 Acc: 60.0000%\n[ 9/200]  0m 0.0s - Train Loss: 1.0816 Acc: 67.5000% - Test Loss: 1.0933 Acc: 60.0000%\n[10/200]  0m 0.0s - Train Loss: 1.0795 Acc: 66.6667% - Test Loss: 1.0919 Acc: 60.0000%\n[11/200]  0m 0.0s - Train Loss: 1.0776 Acc: 66.6667% - Test Loss: 1.0910 Acc: 60.0000%\n[12/200]  0m 0.0s - Train Loss: 1.0755 Acc: 65.8333% - Test Loss: 1.0897 Acc: 60.0000%\n[13/200]  0m 0.0s - Train Loss: 1.0734 Acc: 65.8333% - Test Loss: 1.0880 Acc: 56.6667%\n[14/200]  0m 0.0s - Train Loss: 1.0713 Acc: 65.8333% - Test Loss: 1.0861 Acc: 56.6667%\n[15/200]  0m 0.0s - Train Loss: 1.0689 Acc: 65.8333% - Test Loss: 1.0835 Acc: 60.0000%\n[16/200]  0m 0.0s - Train Loss: 1.0666 Acc: 65.8333% - Test Loss: 1.0811 Acc: 60.0000%\n[17/200]  0m 0.0s - Train Loss: 1.0641 Acc: 65.8333% - Test Loss: 1.0786 Acc: 60.0000%\n[18/200]  0m 0.0s - Train Loss: 1.0615 Acc: 65.8333% - Test Loss: 1.0759 Acc: 60.0000%\n[19/200]  0m 0.0s - Train Loss: 1.0589 Acc: 66.6667% - Test Loss: 1.0728 Acc: 60.0000%\n[20/200]  0m 0.0s - Train Loss: 1.0563 Acc: 66.6667% - Test Loss: 1.0693 Acc: 60.0000%\n[21/200]  0m 0.0s - Train Loss: 1.0534 Acc: 66.6667% - Test Loss: 1.0659 Acc: 60.0000%\n[22/200]  0m 0.0s - Train Loss: 1.0504 Acc: 67.5000% - Test Loss: 1.0624 Acc: 60.0000%\n[23/200]  0m 0.0s - Train Loss: 1.0472 Acc: 67.5000% - Test Loss: 1.0582 Acc: 60.0000%\n[24/200]  0m 0.0s - Train Loss: 1.0439 Acc: 67.5000% - Test Loss: 1.0538 Acc: 60.0000%\n[25/200]  0m 0.0s - Train Loss: 1.0401 Acc: 68.3333% - Test Loss: 1.0500 Acc: 60.0000%\n[26/200]  0m 0.0s - Train Loss: 1.0362 Acc: 68.3333% - Test Loss: 1.0457 Acc: 60.0000%\n[27/200]  0m 0.0s - Train Loss: 1.0324 Acc: 68.3333% - Test Loss: 1.0411 Acc: 60.0000%\n[28/200]  0m 0.0s - Train Loss: 1.0279 Acc: 68.3333% - Test Loss: 1.0362 Acc: 60.0000%\n[29/200]  0m 0.0s - Train Loss: 1.0230 Acc: 68.3333% - Test Loss: 1.0312 Acc: 60.0000%\n[30/200]  0m 0.0s - Train Loss: 1.0182 Acc: 68.3333% - Test Loss: 1.0256 Acc: 60.0000%\n[31/200]  0m 0.0s - Train Loss: 1.0128 Acc: 68.3333% - Test Loss: 1.0201 Acc: 60.0000%\n[32/200]  0m 0.0s - Train Loss: 1.0073 Acc: 68.3333% - Test Loss: 1.0147 Acc: 60.0000%\n[33/200]  0m 0.0s - Train Loss: 1.0011 Acc: 68.3333% - Test Loss: 1.0086 Acc: 60.0000%\n[34/200]  0m 0.0s - Train Loss: 0.9946 Acc: 68.3333% - Test Loss: 1.0020 Acc: 60.0000%\n[35/200]  0m 0.0s - Train Loss: 0.9875 Acc: 68.3333% - Test Loss: 0.9946 Acc: 60.0000%\n[36/200]  0m 0.0s - Train Loss: 0.9801 Acc: 68.3333% - Test Loss: 0.9865 Acc: 60.0000%\n[37/200]  0m 0.0s - Train Loss: 0.9719 Acc: 68.3333% - Test Loss: 0.9784 Acc: 60.0000%\n[38/200]  0m 0.0s - Train Loss: 0.9635 Acc: 68.3333% - Test Loss: 0.9701 Acc: 60.0000%\n[39/200]  0m 0.0s - Train Loss: 0.9544 Acc: 68.3333% - Test Loss: 0.9610 Acc: 60.0000%\n[40/200]  0m 0.0s - Train Loss: 0.9445 Acc: 68.3333% - Test Loss: 0.9514 Acc: 60.0000%\n[41/200]  0m 0.0s - Train Loss: 0.9340 Acc: 68.3333% - Test Loss: 0.9416 Acc: 60.0000%\n[42/200]  0m 0.0s - Train Loss: 0.9230 Acc: 68.3333% - Test Loss: 0.9311 Acc: 60.0000%\n[43/200]  0m 0.0s - Train Loss: 0.9111 Acc: 68.3333% - Test Loss: 0.9203 Acc: 60.0000%\n[44/200]  0m 0.0s - Train Loss: 0.8981 Acc: 68.3333% - Test Loss: 0.9082 Acc: 60.0000%\n[45/200]  0m 0.0s - Train Loss: 0.8849 Acc: 68.3333% - Test Loss: 0.8954 Acc: 60.0000%\n[46/200]  0m 0.0s - Train Loss: 0.8713 Acc: 68.3333% - Test Loss: 0.8829 Acc: 60.0000%\n[47/200]  0m 0.0s - Train Loss: 0.8558 Acc: 68.3333% - Test Loss: 0.8693 Acc: 60.0000%\n[48/200]  0m 0.0s - Train Loss: 0.8399 Acc: 68.3333% - Test Loss: 0.8550 Acc: 60.0000%\n[49/200]  0m 0.0s - Train Loss: 0.8236 Acc: 68.3333% - Test Loss: 0.8403 Acc: 60.0000%\n[50/200]  0m 0.0s - Train Loss: 0.8078 Acc: 68.3333% - Test Loss: 0.8254 Acc: 60.0000%\n[51/200]  0m 0.0s - Train Loss: 0.7894 Acc: 68.3333% - Test Loss: 0.8097 Acc: 60.0000%\n[52/200]  0m 0.0s - Train Loss: 0.7712 Acc: 69.1667% - Test Loss: 0.7932 Acc: 63.3333%\n[53/200]  0m 0.0s - Train Loss: 0.7530 Acc: 69.1667% - Test Loss: 0.7762 Acc: 63.3333%\n[54/200]  0m 0.0s - Train Loss: 0.7348 Acc: 69.1667% - Test Loss: 0.7595 Acc: 63.3333%\n[55/200]  0m 0.0s - Train Loss: 0.7168 Acc: 69.1667% - Test Loss: 0.7427 Acc: 63.3333%\n[56/200]  0m 0.0s - Train Loss: 0.6984 Acc: 69.1667% - Test Loss: 0.7258 Acc: 63.3333%\n[57/200]  0m 0.0s - Train Loss: 0.6808 Acc: 70.0000% - Test Loss: 0.7092 Acc: 63.3333%\n[58/200]  0m 0.0s - Train Loss: 0.6630 Acc: 70.8333% - Test Loss: 0.6923 Acc: 63.3333%\n[59/200]  0m 0.0s - Train Loss: 0.6462 Acc: 70.8333% - Test Loss: 0.6767 Acc: 63.3333%\n[60/200]  0m 0.0s - Train Loss: 0.6297 Acc: 70.8333% - Test Loss: 0.6616 Acc: 63.3333%\n[61/200]  0m 0.0s - Train Loss: 0.6130 Acc: 70.8333% - Test Loss: 0.6471 Acc: 66.6667%\n[62/200]  0m 0.0s - Train Loss: 0.5975 Acc: 72.5000% - Test Loss: 0.6333 Acc: 66.6667%\n[63/200]  0m 0.0s - Train Loss: 0.5818 Acc: 72.5000% - Test Loss: 0.6197 Acc: 70.0000%\n[64/200]  0m 0.0s - Train Loss: 0.5673 Acc: 74.1667% - Test Loss: 0.6070 Acc: 73.3333%\n[65/200]  0m 0.0s - Train Loss: 0.5529 Acc: 75.0000% - Test Loss: 0.5947 Acc: 76.6667%\n[66/200]  0m 0.0s - Train Loss: 0.5398 Acc: 77.5000% - Test Loss: 0.5833 Acc: 76.6667%\n[67/200]  0m 0.0s - Train Loss: 0.5270 Acc: 77.5000% - Test Loss: 0.5725 Acc: 83.3333%\n[68/200]  0m 0.0s - Train Loss: 0.5146 Acc: 79.1667% - Test Loss: 0.5619 Acc: 83.3333%\n[69/200]  0m 0.0s - Train Loss: 0.5030 Acc: 80.8333% - Test Loss: 0.5514 Acc: 83.3333%\n[70/200]  0m 0.0s - Train Loss: 0.4924 Acc: 81.6667% - Test Loss: 0.5417 Acc: 83.3333%\n[71/200]  0m 0.0s - Train Loss: 0.4817 Acc: 81.6667% - Test Loss: 0.5322 Acc: 83.3333%\n[72/200]  0m 0.0s - Train Loss: 0.4718 Acc: 81.6667% - Test Loss: 0.5232 Acc: 83.3333%\n[73/200]  0m 0.0s - Train Loss: 0.4630 Acc: 81.6667% - Test Loss: 0.5143 Acc: 83.3333%\n[74/200]  0m 0.0s - Train Loss: 0.4541 Acc: 82.5000% - Test Loss: 0.5057 Acc: 83.3333%\n[75/200]  0m 0.0s - Train Loss: 0.4460 Acc: 82.5000% - Test Loss: 0.4976 Acc: 86.6667%\n[76/200]  0m 0.0s - Train Loss: 0.4382 Acc: 84.1667% - Test Loss: 0.4901 Acc: 86.6667%\n[77/200]  0m 0.0s - Train Loss: 0.4310 Acc: 85.0000% - Test Loss: 0.4829 Acc: 90.0000%\n[78/200]  0m 0.0s - Train Loss: 0.4240 Acc: 85.0000% - Test Loss: 0.4758 Acc: 90.0000%\n[79/200]  0m 0.0s - Train Loss: 0.4178 Acc: 85.0000% - Test Loss: 0.4690 Acc: 90.0000%\n[80/200]  0m 0.0s - Train Loss: 0.4112 Acc: 85.0000% - Test Loss: 0.4622 Acc: 90.0000%\n[81/200]  0m 0.0s - Train Loss: 0.4052 Acc: 85.0000% - Test Loss: 0.4555 Acc: 90.0000%\n[82/200]  0m 0.0s - Train Loss: 0.3999 Acc: 85.0000% - Test Loss: 0.4489 Acc: 90.0000%\n[83/200]  0m 0.0s - Train Loss: 0.3942 Acc: 85.8333% - Test Loss: 0.4428 Acc: 90.0000%\n[84/200]  0m 0.0s - Train Loss: 0.3891 Acc: 87.5000% - Test Loss: 0.4366 Acc: 90.0000%\n[85/200]  0m 0.0s - Train Loss: 0.3841 Acc: 88.3333% - Test Loss: 0.4307 Acc: 90.0000%\n[86/200]  0m 0.0s - Train Loss: 0.3792 Acc: 88.3333% - Test Loss: 0.4249 Acc: 90.0000%\n[87/200]  0m 0.0s - Train Loss: 0.3746 Acc: 90.8333% - Test Loss: 0.4196 Acc: 96.6667%\n[88/200]  0m 0.0s - Train Loss: 0.3699 Acc: 90.8333% - Test Loss: 0.4141 Acc: 96.6667%\n[89/200]  0m 0.0s - Train Loss: 0.3655 Acc: 90.8333% - Test Loss: 0.4084 Acc: 96.6667%\n[90/200]  0m 0.0s - Train Loss: 0.3613 Acc: 90.8333% - Test Loss: 0.4024 Acc: 96.6667%\n[91/200]  0m 0.0s - Train Loss: 0.3567 Acc: 90.8333% - Test Loss: 0.3968 Acc: 96.6667%\n[92/200]  0m 0.0s - Train Loss: 0.3527 Acc: 90.8333% - Test Loss: 0.3911 Acc: 96.6667%\n[93/200]  0m 0.0s - Train Loss: 0.3485 Acc: 90.8333% - Test Loss: 0.3857 Acc: 96.6667%\n[94/200]  0m 0.0s - Train Loss: 0.3446 Acc: 90.8333% - Test Loss: 0.3803 Acc: 96.6667%\n[95/200]  0m 0.0s - Train Loss: 0.3406 Acc: 91.6667% - Test Loss: 0.3750 Acc: 96.6667%\n[96/200]  0m 0.0s - Train Loss: 0.3367 Acc: 91.6667% - Test Loss: 0.3697 Acc: 96.6667%\n[97/200]  0m 0.0s - Train Loss: 0.3331 Acc: 91.6667% - Test Loss: 0.3646 Acc: 96.6667%\n[98/200]  0m 0.0s - Train Loss: 0.3290 Acc: 91.6667% - Test Loss: 0.3595 Acc: 96.6667%\n[99/200]  0m 0.0s - Train Loss: 0.3256 Acc: 91.6667% - Test Loss: 0.3542 Acc: 96.6667%\n[100/200]  0m 0.0s - Train Loss: 0.3217 Acc: 91.6667% - Test Loss: 0.3493 Acc: 96.6667%\n[101/200]  0m 0.0s - Train Loss: 0.3183 Acc: 91.6667% - Test Loss: 0.3442 Acc: 96.6667%\n[102/200]  0m 0.0s - Train Loss: 0.3145 Acc: 92.5000% - Test Loss: 0.3394 Acc: 96.6667%\n[103/200]  0m 0.0s - Train Loss: 0.3113 Acc: 93.3333% - Test Loss: 0.3347 Acc: 96.6667%\n[104/200]  0m 0.0s - Train Loss: 0.3080 Acc: 94.1667% - Test Loss: 0.3293 Acc: 96.6667%\n[105/200]  0m 0.0s - Train Loss: 0.3039 Acc: 94.1667% - Test Loss: 0.3245 Acc: 96.6667%\n[106/200]  0m 0.0s - Train Loss: 0.3005 Acc: 94.1667% - Test Loss: 0.3195 Acc: 96.6667%\n[107/200]  0m 0.0s - Train Loss: 0.2972 Acc: 94.1667% - Test Loss: 0.3144 Acc: 96.6667%\n[108/200]  0m 0.0s - Train Loss: 0.2940 Acc: 94.1667% - Test Loss: 0.3098 Acc: 96.6667%\n[109/200]  0m 0.0s - Train Loss: 0.2903 Acc: 94.1667% - Test Loss: 0.3049 Acc: 96.6667%\n[110/200]  0m 0.0s - Train Loss: 0.2881 Acc: 94.1667% - Test Loss: 0.2998 Acc: 96.6667%\n[111/200]  0m 0.0s - Train Loss: 0.2840 Acc: 94.1667% - Test Loss: 0.2952 Acc: 96.6667%\n[112/200]  0m 0.0s - Train Loss: 0.2804 Acc: 94.1667% - Test Loss: 0.2909 Acc: 100.0000%\n[113/200]  0m 0.0s - Train Loss: 0.2770 Acc: 94.1667% - Test Loss: 0.2868 Acc: 100.0000%\n[114/200]  0m 0.0s - Train Loss: 0.2739 Acc: 94.1667% - Test Loss: 0.2825 Acc: 100.0000%\n[115/200]  0m 0.0s - Train Loss: 0.2708 Acc: 95.8333% - Test Loss: 0.2782 Acc: 100.0000%\n[116/200]  0m 0.0s - Train Loss: 0.2678 Acc: 95.8333% - Test Loss: 0.2740 Acc: 100.0000%\n[117/200]  0m 0.0s - Train Loss: 0.2646 Acc: 95.8333% - Test Loss: 0.2692 Acc: 100.0000%\n[118/200]  0m 0.0s - Train Loss: 0.2617 Acc: 95.0000% - Test Loss: 0.2641 Acc: 100.0000%\n[119/200]  0m 0.0s - Train Loss: 0.2581 Acc: 95.0000% - Test Loss: 0.2596 Acc: 100.0000%\n[120/200]  0m 0.0s - Train Loss: 0.2551 Acc: 95.0000% - Test Loss: 0.2553 Acc: 100.0000%\n[121/200]  0m 0.0s - Train Loss: 0.2522 Acc: 95.0000% - Test Loss: 0.2510 Acc: 100.0000%\n[122/200]  0m 0.0s - Train Loss: 0.2496 Acc: 95.0000% - Test Loss: 0.2468 Acc: 100.0000%\n[123/200]  0m 0.0s - Train Loss: 0.2461 Acc: 95.0000% - Test Loss: 0.2430 Acc: 100.0000%\n[124/200]  0m 0.0s - Train Loss: 0.2433 Acc: 95.8333% - Test Loss: 0.2395 Acc: 100.0000%\n[125/200]  0m 0.0s - Train Loss: 0.2403 Acc: 96.6667% - Test Loss: 0.2358 Acc: 100.0000%\n[126/200]  0m 0.0s - Train Loss: 0.2376 Acc: 96.6667% - Test Loss: 0.2321 Acc: 100.0000%\n[127/200]  0m 0.0s - Train Loss: 0.2348 Acc: 96.6667% - Test Loss: 0.2279 Acc: 100.0000%\n[128/200]  0m 0.0s - Train Loss: 0.2328 Acc: 96.6667% - Test Loss: 0.2243 Acc: 100.0000%\n[129/200]  0m 0.0s - Train Loss: 0.2291 Acc: 96.6667% - Test Loss: 0.2198 Acc: 100.0000%\n[130/200]  0m 0.0s - Train Loss: 0.2262 Acc: 96.6667% - Test Loss: 0.2157 Acc: 100.0000%\n[131/200]  0m 0.0s - Train Loss: 0.2237 Acc: 95.8333% - Test Loss: 0.2118 Acc: 100.0000%\n[132/200]  0m 0.0s - Train Loss: 0.2214 Acc: 95.8333% - Test Loss: 0.2081 Acc: 100.0000%\n[133/200]  0m 0.0s - Train Loss: 0.2190 Acc: 95.0000% - Test Loss: 0.2048 Acc: 100.0000%\n[134/200]  0m 0.0s - Train Loss: 0.2158 Acc: 95.8333% - Test Loss: 0.2015 Acc: 100.0000%\n[135/200]  0m 0.0s - Train Loss: 0.2132 Acc: 96.6667% - Test Loss: 0.1985 Acc: 100.0000%\n[136/200]  0m 0.0s - Train Loss: 0.2106 Acc: 96.6667% - Test Loss: 0.1954 Acc: 100.0000%\n[137/200]  0m 0.0s - Train Loss: 0.2081 Acc: 96.6667% - Test Loss: 0.1922 Acc: 100.0000%\n[138/200]  0m 0.0s - Train Loss: 0.2058 Acc: 96.6667% - Test Loss: 0.1889 Acc: 100.0000%\n[139/200]  0m 0.0s - Train Loss: 0.2039 Acc: 96.6667% - Test Loss: 0.1854 Acc: 100.0000%\n[140/200]  0m 0.0s - Train Loss: 0.2014 Acc: 96.6667% - Test Loss: 0.1830 Acc: 100.0000%\n[141/200]  0m 0.0s - Train Loss: 0.1985 Acc: 96.6667% - Test Loss: 0.1797 Acc: 100.0000%\n[142/200]  0m 0.0s - Train Loss: 0.1961 Acc: 96.6667% - Test Loss: 0.1767 Acc: 100.0000%\n[143/200]  0m 0.0s - Train Loss: 0.1938 Acc: 96.6667% - Test Loss: 0.1737 Acc: 100.0000%\n[144/200]  0m 0.0s - Train Loss: 0.1915 Acc: 96.6667% - Test Loss: 0.1707 Acc: 100.0000%\n[145/200]  0m 0.0s - Train Loss: 0.1893 Acc: 96.6667% - Test Loss: 0.1677 Acc: 100.0000%\n[146/200]  0m 0.0s - Train Loss: 0.1871 Acc: 96.6667% - Test Loss: 0.1649 Acc: 100.0000%\n[147/200]  0m 0.0s - Train Loss: 0.1850 Acc: 96.6667% - Test Loss: 0.1622 Acc: 100.0000%\n[148/200]  0m 0.0s - Train Loss: 0.1828 Acc: 96.6667% - Test Loss: 0.1594 Acc: 100.0000%\n[149/200]  0m 0.0s - Train Loss: 0.1807 Acc: 96.6667% - Test Loss: 0.1569 Acc: 100.0000%\n[150/200]  0m 0.0s - Train Loss: 0.1787 Acc: 96.6667% - Test Loss: 0.1545 Acc: 100.0000%\n[151/200]  0m 0.0s - Train Loss: 0.1765 Acc: 96.6667% - Test Loss: 0.1522 Acc: 100.0000%\n[152/200]  0m 0.0s - Train Loss: 0.1745 Acc: 96.6667% - Test Loss: 0.1503 Acc: 100.0000%\n[153/200]  0m 0.0s - Train Loss: 0.1736 Acc: 95.8333% - Test Loss: 0.1487 Acc: 100.0000%\n[154/200]  0m 0.0s - Train Loss: 0.1707 Acc: 95.8333% - Test Loss: 0.1458 Acc: 100.0000%\n[155/200]  0m 0.0s - Train Loss: 0.1689 Acc: 95.8333% - Test Loss: 0.1429 Acc: 100.0000%\n[156/200]  0m 0.0s - Train Loss: 0.1669 Acc: 96.6667% - Test Loss: 0.1408 Acc: 100.0000%\n[157/200]  0m 0.0s - Train Loss: 0.1649 Acc: 96.6667% - Test Loss: 0.1386 Acc: 100.0000%\n[158/200]  0m 0.0s - Train Loss: 0.1646 Acc: 96.6667% - Test Loss: 0.1361 Acc: 100.0000%\n[159/200]  0m 0.0s - Train Loss: 0.1614 Acc: 96.6667% - Test Loss: 0.1343 Acc: 100.0000%\n[160/200]  0m 0.0s - Train Loss: 0.1594 Acc: 96.6667% - Test Loss: 0.1328 Acc: 100.0000%\n[161/200]  0m 0.0s - Train Loss: 0.1577 Acc: 95.8333% - Test Loss: 0.1318 Acc: 100.0000%\n[162/200]  0m 0.0s - Train Loss: 0.1567 Acc: 95.0000% - Test Loss: 0.1306 Acc: 100.0000%\n[163/200]  0m 0.0s - Train Loss: 0.1553 Acc: 95.0000% - Test Loss: 0.1276 Acc: 100.0000%\n[164/200]  0m 0.0s - Train Loss: 0.1530 Acc: 95.8333% - Test Loss: 0.1257 Acc: 100.0000%\n[165/200]  0m 0.0s - Train Loss: 0.1520 Acc: 95.8333% - Test Loss: 0.1230 Acc: 100.0000%\n[166/200]  0m 0.0s - Train Loss: 0.1497 Acc: 96.6667% - Test Loss: 0.1211 Acc: 100.0000%\n[167/200]  0m 0.0s - Train Loss: 0.1479 Acc: 96.6667% - Test Loss: 0.1198 Acc: 100.0000%\n[168/200]  0m 0.0s - Train Loss: 0.1462 Acc: 95.8333% - Test Loss: 0.1185 Acc: 100.0000%\n[169/200]  0m 0.0s - Train Loss: 0.1451 Acc: 95.8333% - Test Loss: 0.1168 Acc: 100.0000%\n[170/200]  0m 0.0s - Train Loss: 0.1432 Acc: 95.8333% - Test Loss: 0.1158 Acc: 100.0000%\n[171/200]  0m 0.0s - Train Loss: 0.1421 Acc: 95.8333% - Test Loss: 0.1141 Acc: 100.0000%\n[172/200]  0m 0.0s - Train Loss: 0.1402 Acc: 95.8333% - Test Loss: 0.1128 Acc: 100.0000%\n[173/200]  0m 0.0s - Train Loss: 0.1390 Acc: 95.8333% - Test Loss: 0.1112 Acc: 100.0000%\n[174/200]  0m 0.0s - Train Loss: 0.1385 Acc: 95.8333% - Test Loss: 0.1093 Acc: 100.0000%\n[175/200]  0m 0.0s - Train Loss: 0.1360 Acc: 95.8333% - Test Loss: 0.1085 Acc: 100.0000%\n[176/200]  0m 0.0s - Train Loss: 0.1349 Acc: 95.8333% - Test Loss: 0.1071 Acc: 100.0000%\n[177/200]  0m 0.0s - Train Loss: 0.1337 Acc: 95.8333% - Test Loss: 0.1057 Acc: 100.0000%\n[178/200]  0m 0.0s - Train Loss: 0.1320 Acc: 95.8333% - Test Loss: 0.1049 Acc: 100.0000%\n[179/200]  0m 0.0s - Train Loss: 0.1309 Acc: 95.8333% - Test Loss: 0.1038 Acc: 100.0000%\n[180/200]  0m 0.0s - Train Loss: 0.1295 Acc: 95.8333% - Test Loss: 0.1022 Acc: 100.0000%\n[181/200]  0m 0.0s - Train Loss: 0.1282 Acc: 95.8333% - Test Loss: 0.1004 Acc: 100.0000%\n[182/200]  0m 0.0s - Train Loss: 0.1275 Acc: 95.8333% - Test Loss: 0.0992 Acc: 100.0000%\n[183/200]  0m 0.0s - Train Loss: 0.1256 Acc: 95.8333% - Test Loss: 0.0980 Acc: 100.0000%\n[184/200]  0m 0.0s - Train Loss: 0.1246 Acc: 95.8333% - Test Loss: 0.0968 Acc: 100.0000%\n[185/200]  0m 0.0s - Train Loss: 0.1235 Acc: 95.8333% - Test Loss: 0.0958 Acc: 100.0000%\n[186/200]  0m 0.0s - Train Loss: 0.1226 Acc: 95.8333% - Test Loss: 0.0953 Acc: 100.0000%\n[187/200]  0m 0.0s - Train Loss: 0.1211 Acc: 95.8333% - Test Loss: 0.0947 Acc: 100.0000%\n[188/200]  0m 0.0s - Train Loss: 0.1201 Acc: 95.8333% - Test Loss: 0.0939 Acc: 100.0000%\n[189/200]  0m 0.0s - Train Loss: 0.1196 Acc: 95.8333% - Test Loss: 0.0923 Acc: 100.0000%\n[190/200]  0m 0.0s - Train Loss: 0.1178 Acc: 95.8333% - Test Loss: 0.0913 Acc: 100.0000%\n[191/200]  0m 0.0s - Train Loss: 0.1169 Acc: 95.8333% - Test Loss: 0.0908 Acc: 100.0000%\n[192/200]  0m 0.0s - Train Loss: 0.1157 Acc: 95.8333% - Test Loss: 0.0898 Acc: 100.0000%\n[193/200]  0m 0.0s - Train Loss: 0.1146 Acc: 95.8333% - Test Loss: 0.0890 Acc: 100.0000%\n[194/200]  0m 0.0s - Train Loss: 0.1138 Acc: 95.8333% - Test Loss: 0.0883 Acc: 100.0000%\n[195/200]  0m 0.0s - Train Loss: 0.1127 Acc: 95.8333% - Test Loss: 0.0873 Acc: 100.0000%\n[196/200]  0m 0.0s - Train Loss: 0.1123 Acc: 95.8333% - Test Loss: 0.0862 Acc: 100.0000%\n[197/200]  0m 0.0s - Train Loss: 0.1108 Acc: 96.6667% - Test Loss: 0.0858 Acc: 100.0000%\n[198/200]  0m 0.0s - Train Loss: 0.1098 Acc: 95.8333% - Test Loss: 0.0854 Acc: 100.0000%\n[199/200]  0m 0.0s - Train Loss: 0.1089 Acc: 95.8333% - Test Loss: 0.0848 Acc: 100.0000%\n[200/200]  0m 0.0s - Train Loss: 0.1084 Acc: 96.6667% - Test Loss: 0.0837 Acc: 100.0000%\nTime taken for training:  0m 0.7s\n"
    }
   ],
   "source": [
    "DATA_ROOT = 'data'\n",
    "BATCH_SIZE = 64\n",
    "\n",
    "# image datasets: {'MNIST', 'CIFAR10', 'SVHN'}\n",
    "# quantitative datasets: {'BankNote', 'BreastCancerWisconsin', 'HTRU2', 'Iris', 'WheatSeed'}\n",
    "NAME = 'Iris'\n",
    "print(f'Starting {NAME} data container...')\n",
    "print(DATASET_LIST[NAME])\n",
    "\n",
    "dc = DataContainer(DATASET_LIST[NAME], DATA_ROOT)\n",
    "dc(size_train=0.8, normalize=True)\n",
    "\n",
    "num_features = dc.dim_data[0]\n",
    "num_classes = dc.num_classes\n",
    "print('Features:', num_features)\n",
    "print('Classes:', num_classes)\n",
    "\n",
    "## model in {BCNN, IrisNN, MnistCnnCW}\n",
    "model = IrisNN(num_features, num_classes, hidden_nodes=16)  # for Iris\n",
    "model_name = model.__class__.__name__\n",
    "print('Using model:', model_name)\n",
    "\n",
    "mc = TorchModelContainer(model, dc)\n",
    "mc.fit(epochs=200, batch_size=BATCH_SIZE)"
   ]
  },
  {
   "cell_type": "code",
   "execution_count": 6,
   "metadata": {},
   "outputs": [],
   "source": [
    "attack = FGSMContainer(mc)"
   ]
  },
  {
   "cell_type": "code",
   "execution_count": 12,
   "metadata": {},
   "outputs": [
    {
     "name": "stdout",
     "output_type": "stream",
     "text": "Time taken for training 30 adversarial examples:  0m 0.1s\n(30, 4)\n(30,)\n(30, 4)\n(30,)\n"
    }
   ],
   "source": [
    "adv, y_adv, x_clean, y_clean = attack.generate(count=100)\n",
    "print(adv.shape)\n",
    "print(y_adv.shape)\n",
    "print(x_clean.shape)\n",
    "print(y_clean.shape)"
   ]
  },
  {
   "cell_type": "code",
   "execution_count": 14,
   "metadata": {},
   "outputs": [
    {
     "name": "stdout",
     "output_type": "stream",
     "text": "Accuracy on clean samples: 100.0000%\nAccuracy on adversarial example: 46.6667%\n"
    }
   ],
   "source": [
    "accuracy = mc.evaluate(x_clean, y_clean)\n",
    "print(f'Accuracy on clean samples: {accuracy*100:.4f}%')\n",
    "accuracy = mc.evaluate(adv, y_clean)\n",
    "print(f'Accuracy on adversarial example: {accuracy*100:.4f}%')"
   ]
  },
  {
   "cell_type": "code",
   "execution_count": null,
   "metadata": {},
   "outputs": [],
   "source": []
  }
 ],
 "metadata": {
  "file_extension": ".py",
  "kernelspec": {
   "display_name": "Python 3.6.9 64-bit ('venv': venv)",
   "language": "python",
   "name": "python36964bitvenvvenv794a3f6500e74251b078ca195c3ad1e1"
  },
  "language_info": {
   "codemirror_mode": {
    "name": "ipython",
    "version": 3
   },
   "file_extension": ".py",
   "mimetype": "text/x-python",
   "name": "python",
   "nbconvert_exporter": "python",
   "pygments_lexer": "ipython3",
   "version": "3.6.9-final"
  },
  "mimetype": "text/x-python",
  "name": "python",
  "npconvert_exporter": "python",
  "pygments_lexer": "ipython3",
  "version": 3
 },
 "nbformat": 4,
 "nbformat_minor": 4
}