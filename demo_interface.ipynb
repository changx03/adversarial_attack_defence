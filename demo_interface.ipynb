{
 "cells": [
  {
   "cell_type": "code",
   "execution_count": 1,
   "metadata": {},
   "outputs": [],
   "source": [
    "import sys\n",
    "\n",
    "import torch\n",
    "import numpy as np\n",
    "\n",
    "import attacks\n",
    "from basemodels import TorchModelContainer, IrisNN\n",
    "from datasets import DATASET_LIST, DataContainer, get_dataset_list\n",
    "# from defences import DefenceContainer\n",
    "\n",
    "%load_ext autoreload\n",
    "%autoreload 2"
   ]
  },
  {
   "cell_type": "code",
   "execution_count": 2,
   "metadata": {},
   "outputs": [
    {
     "name": "stdout",
     "output_type": "stream",
     "text": "3.6.9 (default, Nov  7 2019, 10:44:02) \n[GCC 8.3.0]\n/home/lukec/.vscode/extensions/ms-python.python-2020.2.64397/pythonFiles\n/home/lukec/.vscode/extensions/ms-python.python-2020.2.64397/pythonFiles/lib/python\n/usr/lib/python36.zip\n/usr/lib/python3.6\n/usr/lib/python3.6/lib-dynload\n\n/home/lukec/venv/lib/python3.6/site-packages\n/home/lukec/.local/lib/python3.6/site-packages\n/usr/local/lib/python3.6/dist-packages\n/usr/lib/python3/dist-packages\n/home/lukec/venv/lib/python3.6/site-packages/IPython/extensions\n/home/lukec/.ipython\n"
    }
   ],
   "source": [
    "print(sys.version)\n",
    "print(*sys.path, sep='\\n')"
   ]
  },
  {
   "cell_type": "code",
   "execution_count": 3,
   "metadata": {},
   "outputs": [
    {
     "name": "stdout",
     "output_type": "stream",
     "text": "Avaliable datasets:\n['MNIST', 'CIFAR10', 'SVHN', 'BankNote', 'BreastCancerWisconsin', 'HTRU2', 'Iris', 'WheatSeed']\n"
    }
   ],
   "source": [
    "print('Avaliable datasets:')\n",
    "print(get_dataset_list())"
   ]
  },
  {
   "cell_type": "code",
   "execution_count": 4,
   "metadata": {},
   "outputs": [
    {
     "name": "stdout",
     "output_type": "stream",
     "text": "Starting Iris data container...\n{'name': 'Iris', 'type': 'quantitative', 'size': 150, 'num_classes': 3, 'dim_data': (4,)}\nLoading data...\nPreparing DataFrame...\nReading from data/iris.data\nSpliting train/test sets into numpy arrays...\nSuccessfully load data! Time taken:  0m 0.0s\nFeatures: 4\nClasses: 3\nUsing model: IrisNN\nUsing device: cuda:0\n{'lr': 0.01, 'momentum': 0.9}\n[ 1/200]  0m 0.0s - Train Loss: 1.1134 Acc: 35.8333% - Test Loss: 1.1694 Acc: 23.3333%\n[ 2/200]  0m 0.0s - Train Loss: 1.1109 Acc: 35.8333% - Test Loss: 1.1636 Acc: 23.3333%\n[ 3/200]  0m 0.0s - Train Loss: 1.1065 Acc: 35.8333% - Test Loss: 1.1556 Acc: 23.3333%\n[ 4/200]  0m 0.0s - Train Loss: 1.1014 Acc: 35.8333% - Test Loss: 1.1463 Acc: 23.3333%\n[ 5/200]  0m 0.0s - Train Loss: 1.0956 Acc: 35.8333% - Test Loss: 1.1366 Acc: 23.3333%\n[ 6/200]  0m 0.0s - Train Loss: 1.0894 Acc: 35.8333% - Test Loss: 1.1270 Acc: 23.3333%\n[ 7/200]  0m 0.0s - Train Loss: 1.0834 Acc: 35.8333% - Test Loss: 1.1181 Acc: 23.3333%\n[ 8/200]  0m 0.0s - Train Loss: 1.0787 Acc: 35.8333% - Test Loss: 1.1102 Acc: 23.3333%\n[ 9/200]  0m 0.0s - Train Loss: 1.0738 Acc: 35.8333% - Test Loss: 1.1030 Acc: 23.3333%\n[10/200]  0m 0.0s - Train Loss: 1.0689 Acc: 35.8333% - Test Loss: 1.0963 Acc: 23.3333%\n[11/200]  0m 0.0s - Train Loss: 1.0649 Acc: 35.8333% - Test Loss: 1.0899 Acc: 23.3333%\n[12/200]  0m 0.0s - Train Loss: 1.0608 Acc: 35.8333% - Test Loss: 1.0836 Acc: 23.3333%\n[13/200]  0m 0.0s - Train Loss: 1.0564 Acc: 35.8333% - Test Loss: 1.0777 Acc: 23.3333%\n[14/200]  0m 0.0s - Train Loss: 1.0518 Acc: 39.1667% - Test Loss: 1.0722 Acc: 26.6667%\n[15/200]  0m 0.0s - Train Loss: 1.0475 Acc: 45.0000% - Test Loss: 1.0665 Acc: 40.0000%\n[16/200]  0m 0.0s - Train Loss: 1.0423 Acc: 52.5000% - Test Loss: 1.0614 Acc: 46.6667%\n[17/200]  0m 0.0s - Train Loss: 1.0374 Acc: 59.1667% - Test Loss: 1.0560 Acc: 53.3333%\n[18/200]  0m 0.0s - Train Loss: 1.0320 Acc: 62.5000% - Test Loss: 1.0508 Acc: 60.0000%\n[19/200]  0m 0.0s - Train Loss: 1.0263 Acc: 67.5000% - Test Loss: 1.0450 Acc: 60.0000%\n[20/200]  0m 0.0s - Train Loss: 1.0200 Acc: 67.5000% - Test Loss: 1.0391 Acc: 60.0000%\n[21/200]  0m 0.0s - Train Loss: 1.0132 Acc: 67.5000% - Test Loss: 1.0330 Acc: 60.0000%\n[22/200]  0m 0.0s - Train Loss: 1.0059 Acc: 67.5000% - Test Loss: 1.0263 Acc: 60.0000%\n[23/200]  0m 0.0s - Train Loss: 0.9980 Acc: 68.3333% - Test Loss: 1.0193 Acc: 60.0000%\n[24/200]  0m 0.0s - Train Loss: 0.9895 Acc: 68.3333% - Test Loss: 1.0120 Acc: 60.0000%\n[25/200]  0m 0.0s - Train Loss: 0.9802 Acc: 68.3333% - Test Loss: 1.0041 Acc: 60.0000%\n[26/200]  0m 0.0s - Train Loss: 0.9704 Acc: 68.3333% - Test Loss: 0.9959 Acc: 60.0000%\n[27/200]  0m 0.0s - Train Loss: 0.9589 Acc: 68.3333% - Test Loss: 0.9867 Acc: 60.0000%\n[28/200]  0m 0.0s - Train Loss: 0.9481 Acc: 68.3333% - Test Loss: 0.9771 Acc: 60.0000%\n[29/200]  0m 0.0s - Train Loss: 0.9351 Acc: 68.3333% - Test Loss: 0.9668 Acc: 60.0000%\n[30/200]  0m 0.0s - Train Loss: 0.9222 Acc: 68.3333% - Test Loss: 0.9556 Acc: 60.0000%\n[31/200]  0m 0.0s - Train Loss: 0.9076 Acc: 68.3333% - Test Loss: 0.9434 Acc: 60.0000%\n[32/200]  0m 0.0s - Train Loss: 0.8924 Acc: 68.3333% - Test Loss: 0.9306 Acc: 60.0000%\n[33/200]  0m 0.0s - Train Loss: 0.8759 Acc: 68.3333% - Test Loss: 0.9166 Acc: 60.0000%\n[34/200]  0m 0.0s - Train Loss: 0.8583 Acc: 68.3333% - Test Loss: 0.9017 Acc: 60.0000%\n[35/200]  0m 0.0s - Train Loss: 0.8405 Acc: 68.3333% - Test Loss: 0.8860 Acc: 60.0000%\n[36/200]  0m 0.0s - Train Loss: 0.8216 Acc: 68.3333% - Test Loss: 0.8696 Acc: 60.0000%\n[37/200]  0m 0.0s - Train Loss: 0.8022 Acc: 68.3333% - Test Loss: 0.8527 Acc: 60.0000%\n[38/200]  0m 0.0s - Train Loss: 0.7824 Acc: 68.3333% - Test Loss: 0.8353 Acc: 60.0000%\n[39/200]  0m 0.0s - Train Loss: 0.7622 Acc: 68.3333% - Test Loss: 0.8177 Acc: 60.0000%\n[40/200]  0m 0.0s - Train Loss: 0.7419 Acc: 68.3333% - Test Loss: 0.7999 Acc: 60.0000%\n[41/200]  0m 0.0s - Train Loss: 0.7214 Acc: 68.3333% - Test Loss: 0.7819 Acc: 60.0000%\n[42/200]  0m 0.0s - Train Loss: 0.7002 Acc: 68.3333% - Test Loss: 0.7634 Acc: 60.0000%\n[43/200]  0m 0.0s - Train Loss: 0.6798 Acc: 68.3333% - Test Loss: 0.7450 Acc: 60.0000%\n[44/200]  0m 0.0s - Train Loss: 0.6592 Acc: 68.3333% - Test Loss: 0.7263 Acc: 60.0000%\n[45/200]  0m 0.0s - Train Loss: 0.6395 Acc: 68.3333% - Test Loss: 0.7081 Acc: 60.0000%\n[46/200]  0m 0.0s - Train Loss: 0.6204 Acc: 69.1667% - Test Loss: 0.6901 Acc: 63.3333%\n[47/200]  0m 0.0s - Train Loss: 0.6016 Acc: 69.1667% - Test Loss: 0.6725 Acc: 66.6667%\n[48/200]  0m 0.0s - Train Loss: 0.5838 Acc: 69.1667% - Test Loss: 0.6553 Acc: 70.0000%\n[49/200]  0m 0.0s - Train Loss: 0.5667 Acc: 71.6667% - Test Loss: 0.6387 Acc: 70.0000%\n[50/200]  0m 0.0s - Train Loss: 0.5506 Acc: 71.6667% - Test Loss: 0.6227 Acc: 73.3333%\n[51/200]  0m 0.0s - Train Loss: 0.5350 Acc: 73.3333% - Test Loss: 0.6075 Acc: 76.6667%\n[52/200]  0m 0.0s - Train Loss: 0.5208 Acc: 74.1667% - Test Loss: 0.5927 Acc: 76.6667%\n[53/200]  0m 0.0s - Train Loss: 0.5066 Acc: 77.5000% - Test Loss: 0.5788 Acc: 80.0000%\n[54/200]  0m 0.0s - Train Loss: 0.4935 Acc: 80.0000% - Test Loss: 0.5652 Acc: 80.0000%\n[55/200]  0m 0.0s - Train Loss: 0.4814 Acc: 80.8333% - Test Loss: 0.5523 Acc: 80.0000%\n[56/200]  0m 0.0s - Train Loss: 0.4695 Acc: 81.6667% - Test Loss: 0.5398 Acc: 80.0000%\n[57/200]  0m 0.0s - Train Loss: 0.4585 Acc: 83.3333% - Test Loss: 0.5277 Acc: 83.3333%\n[58/200]  0m 0.0s - Train Loss: 0.4479 Acc: 85.8333% - Test Loss: 0.5161 Acc: 83.3333%\n[59/200]  0m 0.0s - Train Loss: 0.4382 Acc: 86.6667% - Test Loss: 0.5051 Acc: 86.6667%\n[60/200]  0m 0.0s - Train Loss: 0.4288 Acc: 86.6667% - Test Loss: 0.4944 Acc: 86.6667%\n[61/200]  0m 0.0s - Train Loss: 0.4198 Acc: 86.6667% - Test Loss: 0.4841 Acc: 90.0000%\n[62/200]  0m 0.0s - Train Loss: 0.4110 Acc: 86.6667% - Test Loss: 0.4744 Acc: 90.0000%\n[63/200]  0m 0.0s - Train Loss: 0.4036 Acc: 89.1667% - Test Loss: 0.4648 Acc: 90.0000%\n[64/200]  0m 0.0s - Train Loss: 0.3953 Acc: 91.6667% - Test Loss: 0.4557 Acc: 90.0000%\n[65/200]  0m 0.0s - Train Loss: 0.3879 Acc: 91.6667% - Test Loss: 0.4467 Acc: 93.3333%\n[66/200]  0m 0.0s - Train Loss: 0.3805 Acc: 91.6667% - Test Loss: 0.4382 Acc: 93.3333%\n[67/200]  0m 0.0s - Train Loss: 0.3735 Acc: 91.6667% - Test Loss: 0.4299 Acc: 93.3333%\n[68/200]  0m 0.0s - Train Loss: 0.3667 Acc: 92.5000% - Test Loss: 0.4218 Acc: 93.3333%\n[69/200]  0m 0.0s - Train Loss: 0.3601 Acc: 92.5000% - Test Loss: 0.4139 Acc: 93.3333%\n[70/200]  0m 0.0s - Train Loss: 0.3539 Acc: 92.5000% - Test Loss: 0.4063 Acc: 93.3333%\n[71/200]  0m 0.0s - Train Loss: 0.3477 Acc: 92.5000% - Test Loss: 0.3987 Acc: 93.3333%\n[72/200]  0m 0.0s - Train Loss: 0.3413 Acc: 93.3333% - Test Loss: 0.3914 Acc: 93.3333%\n[73/200]  0m 0.0s - Train Loss: 0.3358 Acc: 93.3333% - Test Loss: 0.3842 Acc: 96.6667%\n[74/200]  0m 0.0s - Train Loss: 0.3295 Acc: 93.3333% - Test Loss: 0.3772 Acc: 96.6667%\n[75/200]  0m 0.0s - Train Loss: 0.3239 Acc: 94.1667% - Test Loss: 0.3704 Acc: 96.6667%\n[76/200]  0m 0.0s - Train Loss: 0.3183 Acc: 94.1667% - Test Loss: 0.3636 Acc: 96.6667%\n[77/200]  0m 0.0s - Train Loss: 0.3127 Acc: 95.0000% - Test Loss: 0.3569 Acc: 96.6667%\n[78/200]  0m 0.0s - Train Loss: 0.3078 Acc: 95.0000% - Test Loss: 0.3503 Acc: 96.6667%\n[79/200]  0m 0.0s - Train Loss: 0.3023 Acc: 95.0000% - Test Loss: 0.3440 Acc: 96.6667%\n[80/200]  0m 0.0s - Train Loss: 0.2968 Acc: 95.0000% - Test Loss: 0.3376 Acc: 96.6667%\n[81/200]  0m 0.0s - Train Loss: 0.2919 Acc: 95.0000% - Test Loss: 0.3315 Acc: 96.6667%\n[82/200]  0m 0.0s - Train Loss: 0.2867 Acc: 95.0000% - Test Loss: 0.3253 Acc: 96.6667%\n[83/200]  0m 0.0s - Train Loss: 0.2822 Acc: 95.0000% - Test Loss: 0.3196 Acc: 96.6667%\n[84/200]  0m 0.0s - Train Loss: 0.2774 Acc: 95.0000% - Test Loss: 0.3138 Acc: 96.6667%\n[85/200]  0m 0.0s - Train Loss: 0.2729 Acc: 95.0000% - Test Loss: 0.3080 Acc: 96.6667%\n[86/200]  0m 0.0s - Train Loss: 0.2680 Acc: 95.0000% - Test Loss: 0.3025 Acc: 96.6667%\n[87/200]  0m 0.0s - Train Loss: 0.2635 Acc: 95.8333% - Test Loss: 0.2970 Acc: 96.6667%\n[88/200]  0m 0.0s - Train Loss: 0.2592 Acc: 95.8333% - Test Loss: 0.2917 Acc: 100.0000%\n[89/200]  0m 0.0s - Train Loss: 0.2549 Acc: 95.8333% - Test Loss: 0.2865 Acc: 100.0000%\n[90/200]  0m 0.0s - Train Loss: 0.2507 Acc: 95.8333% - Test Loss: 0.2813 Acc: 100.0000%\n[91/200]  0m 0.0s - Train Loss: 0.2464 Acc: 95.8333% - Test Loss: 0.2762 Acc: 100.0000%\n[92/200]  0m 0.0s - Train Loss: 0.2428 Acc: 95.8333% - Test Loss: 0.2713 Acc: 100.0000%\n[93/200]  0m 0.0s - Train Loss: 0.2384 Acc: 95.8333% - Test Loss: 0.2665 Acc: 100.0000%\n[94/200]  0m 0.0s - Train Loss: 0.2347 Acc: 95.8333% - Test Loss: 0.2620 Acc: 100.0000%\n[95/200]  0m 0.0s - Train Loss: 0.2308 Acc: 95.8333% - Test Loss: 0.2574 Acc: 100.0000%\n[96/200]  0m 0.0s - Train Loss: 0.2271 Acc: 95.8333% - Test Loss: 0.2530 Acc: 96.6667%\n[97/200]  0m 0.0s - Train Loss: 0.2234 Acc: 95.8333% - Test Loss: 0.2484 Acc: 100.0000%\n[98/200]  0m 0.0s - Train Loss: 0.2196 Acc: 95.8333% - Test Loss: 0.2440 Acc: 100.0000%\n[99/200]  0m 0.0s - Train Loss: 0.2166 Acc: 95.8333% - Test Loss: 0.2397 Acc: 100.0000%\n[100/200]  0m 0.0s - Train Loss: 0.2129 Acc: 95.8333% - Test Loss: 0.2356 Acc: 100.0000%\n[101/200]  0m 0.0s - Train Loss: 0.2096 Acc: 95.8333% - Test Loss: 0.2318 Acc: 100.0000%\n[102/200]  0m 0.0s - Train Loss: 0.2063 Acc: 95.8333% - Test Loss: 0.2280 Acc: 96.6667%\n[103/200]  0m 0.0s - Train Loss: 0.2029 Acc: 95.8333% - Test Loss: 0.2241 Acc: 100.0000%\n[104/200]  0m 0.0s - Train Loss: 0.1996 Acc: 95.8333% - Test Loss: 0.2203 Acc: 100.0000%\n[105/200]  0m 0.0s - Train Loss: 0.1966 Acc: 95.8333% - Test Loss: 0.2166 Acc: 100.0000%\n[106/200]  0m 0.0s - Train Loss: 0.1936 Acc: 95.8333% - Test Loss: 0.2131 Acc: 100.0000%\n[107/200]  0m 0.0s - Train Loss: 0.1907 Acc: 95.8333% - Test Loss: 0.2096 Acc: 100.0000%\n[108/200]  0m 0.0s - Train Loss: 0.1878 Acc: 95.8333% - Test Loss: 0.2062 Acc: 100.0000%\n[109/200]  0m 0.0s - Train Loss: 0.1850 Acc: 95.8333% - Test Loss: 0.2030 Acc: 100.0000%\n[110/200]  0m 0.0s - Train Loss: 0.1828 Acc: 95.8333% - Test Loss: 0.1998 Acc: 100.0000%\n[111/200]  0m 0.0s - Train Loss: 0.1796 Acc: 95.8333% - Test Loss: 0.1968 Acc: 100.0000%\n[112/200]  0m 0.0s - Train Loss: 0.1770 Acc: 95.8333% - Test Loss: 0.1942 Acc: 96.6667%\n[113/200]  0m 0.0s - Train Loss: 0.1745 Acc: 95.8333% - Test Loss: 0.1914 Acc: 93.3333%\n[114/200]  0m 0.0s - Train Loss: 0.1721 Acc: 95.8333% - Test Loss: 0.1888 Acc: 93.3333%\n[115/200]  0m 0.0s - Train Loss: 0.1696 Acc: 95.8333% - Test Loss: 0.1860 Acc: 93.3333%\n[116/200]  0m 0.0s - Train Loss: 0.1674 Acc: 95.8333% - Test Loss: 0.1827 Acc: 96.6667%\n[117/200]  0m 0.0s - Train Loss: 0.1664 Acc: 95.8333% - Test Loss: 0.1797 Acc: 100.0000%\n[118/200]  0m 0.0s - Train Loss: 0.1626 Acc: 95.8333% - Test Loss: 0.1773 Acc: 100.0000%\n[119/200]  0m 0.0s - Train Loss: 0.1606 Acc: 95.8333% - Test Loss: 0.1753 Acc: 93.3333%\n[120/200]  0m 0.0s - Train Loss: 0.1583 Acc: 95.8333% - Test Loss: 0.1731 Acc: 93.3333%\n[121/200]  0m 0.0s - Train Loss: 0.1562 Acc: 95.8333% - Test Loss: 0.1707 Acc: 93.3333%\n[122/200]  0m 0.0s - Train Loss: 0.1540 Acc: 95.8333% - Test Loss: 0.1681 Acc: 93.3333%\n[123/200]  0m 0.0s - Train Loss: 0.1521 Acc: 95.8333% - Test Loss: 0.1654 Acc: 100.0000%\n[124/200]  0m 0.0s - Train Loss: 0.1501 Acc: 95.8333% - Test Loss: 0.1632 Acc: 100.0000%\n[125/200]  0m 0.0s - Train Loss: 0.1482 Acc: 95.8333% - Test Loss: 0.1611 Acc: 100.0000%\n[126/200]  0m 0.0s - Train Loss: 0.1463 Acc: 95.8333% - Test Loss: 0.1590 Acc: 96.6667%\n[127/200]  0m 0.0s - Train Loss: 0.1445 Acc: 95.8333% - Test Loss: 0.1572 Acc: 96.6667%\n[128/200]  0m 0.0s - Train Loss: 0.1427 Acc: 95.8333% - Test Loss: 0.1554 Acc: 93.3333%\n[129/200]  0m 0.0s - Train Loss: 0.1410 Acc: 95.8333% - Test Loss: 0.1536 Acc: 93.3333%\n[130/200]  0m 0.0s - Train Loss: 0.1393 Acc: 95.8333% - Test Loss: 0.1520 Acc: 93.3333%\n[131/200]  0m 0.0s - Train Loss: 0.1376 Acc: 95.8333% - Test Loss: 0.1502 Acc: 93.3333%\n[132/200]  0m 0.0s - Train Loss: 0.1362 Acc: 95.8333% - Test Loss: 0.1479 Acc: 96.6667%\n[133/200]  0m 0.0s - Train Loss: 0.1347 Acc: 95.8333% - Test Loss: 0.1465 Acc: 93.3333%\n[134/200]  0m 0.0s - Train Loss: 0.1328 Acc: 95.8333% - Test Loss: 0.1445 Acc: 96.6667%\n[135/200]  0m 0.0s - Train Loss: 0.1315 Acc: 95.8333% - Test Loss: 0.1426 Acc: 96.6667%\n[136/200]  0m 0.0s - Train Loss: 0.1302 Acc: 95.8333% - Test Loss: 0.1413 Acc: 96.6667%\n[137/200]  0m 0.0s - Train Loss: 0.1285 Acc: 95.8333% - Test Loss: 0.1401 Acc: 93.3333%\n[138/200]  0m 0.0s - Train Loss: 0.1275 Acc: 95.8333% - Test Loss: 0.1389 Acc: 93.3333%\n[139/200]  0m 0.0s - Train Loss: 0.1256 Acc: 95.8333% - Test Loss: 0.1368 Acc: 96.6667%\n[140/200]  0m 0.0s - Train Loss: 0.1243 Acc: 95.8333% - Test Loss: 0.1353 Acc: 96.6667%\n[141/200]  0m 0.0s - Train Loss: 0.1230 Acc: 95.8333% - Test Loss: 0.1337 Acc: 96.6667%\n[142/200]  0m 0.0s - Train Loss: 0.1218 Acc: 95.8333% - Test Loss: 0.1320 Acc: 96.6667%\n[143/200]  0m 0.0s - Train Loss: 0.1207 Acc: 95.8333% - Test Loss: 0.1307 Acc: 96.6667%\n[144/200]  0m 0.0s - Train Loss: 0.1192 Acc: 95.8333% - Test Loss: 0.1301 Acc: 96.6667%\n[145/200]  0m 0.0s - Train Loss: 0.1179 Acc: 95.8333% - Test Loss: 0.1297 Acc: 93.3333%\n[146/200]  0m 0.0s - Train Loss: 0.1168 Acc: 96.6667% - Test Loss: 0.1294 Acc: 93.3333%\n[147/200]  0m 0.0s - Train Loss: 0.1157 Acc: 96.6667% - Test Loss: 0.1282 Acc: 93.3333%\n[148/200]  0m 0.0s - Train Loss: 0.1146 Acc: 96.6667% - Test Loss: 0.1266 Acc: 93.3333%\n[149/200]  0m 0.0s - Train Loss: 0.1134 Acc: 96.6667% - Test Loss: 0.1250 Acc: 93.3333%\n[150/200]  0m 0.0s - Train Loss: 0.1127 Acc: 95.8333% - Test Loss: 0.1239 Acc: 93.3333%\n[151/200]  0m 0.0s - Train Loss: 0.1119 Acc: 95.8333% - Test Loss: 0.1211 Acc: 96.6667%\n[152/200]  0m 0.0s - Train Loss: 0.1104 Acc: 95.8333% - Test Loss: 0.1197 Acc: 96.6667%\n[153/200]  0m 0.0s - Train Loss: 0.1094 Acc: 95.8333% - Test Loss: 0.1190 Acc: 96.6667%\n[154/200]  0m 0.0s - Train Loss: 0.1085 Acc: 95.8333% - Test Loss: 0.1185 Acc: 96.6667%\n[155/200]  0m 0.0s - Train Loss: 0.1077 Acc: 95.8333% - Test Loss: 0.1198 Acc: 93.3333%\n[156/200]  0m 0.0s - Train Loss: 0.1064 Acc: 96.6667% - Test Loss: 0.1197 Acc: 93.3333%\n[157/200]  0m 0.0s - Train Loss: 0.1063 Acc: 96.6667% - Test Loss: 0.1172 Acc: 93.3333%\n[158/200]  0m 0.0s - Train Loss: 0.1047 Acc: 96.6667% - Test Loss: 0.1156 Acc: 96.6667%\n[159/200]  0m 0.0s - Train Loss: 0.1035 Acc: 95.8333% - Test Loss: 0.1146 Acc: 96.6667%\n[160/200]  0m 0.0s - Train Loss: 0.1030 Acc: 95.8333% - Test Loss: 0.1148 Acc: 93.3333%\n[161/200]  0m 0.0s - Train Loss: 0.1017 Acc: 96.6667% - Test Loss: 0.1133 Acc: 96.6667%\n[162/200]  0m 0.0s - Train Loss: 0.1008 Acc: 96.6667% - Test Loss: 0.1121 Acc: 96.6667%\n[163/200]  0m 0.0s - Train Loss: 0.1000 Acc: 95.8333% - Test Loss: 0.1107 Acc: 96.6667%\n[164/200]  0m 0.0s - Train Loss: 0.0992 Acc: 95.8333% - Test Loss: 0.1098 Acc: 96.6667%\n[165/200]  0m 0.0s - Train Loss: 0.0985 Acc: 95.8333% - Test Loss: 0.1084 Acc: 96.6667%\n[166/200]  0m 0.0s - Train Loss: 0.0977 Acc: 95.8333% - Test Loss: 0.1078 Acc: 96.6667%\n[167/200]  0m 0.0s - Train Loss: 0.0968 Acc: 95.8333% - Test Loss: 0.1080 Acc: 96.6667%\n[168/200]  0m 0.0s - Train Loss: 0.0976 Acc: 95.8333% - Test Loss: 0.1097 Acc: 93.3333%\n[169/200]  0m 0.0s - Train Loss: 0.0954 Acc: 96.6667% - Test Loss: 0.1083 Acc: 93.3333%\n[170/200]  0m 0.0s - Train Loss: 0.0949 Acc: 96.6667% - Test Loss: 0.1071 Acc: 96.6667%\n[171/200]  0m 0.0s - Train Loss: 0.0939 Acc: 95.8333% - Test Loss: 0.1043 Acc: 96.6667%\n[172/200]  0m 0.0s - Train Loss: 0.0936 Acc: 95.8333% - Test Loss: 0.1022 Acc: 96.6667%\n[173/200]  0m 0.0s - Train Loss: 0.0931 Acc: 95.8333% - Test Loss: 0.1015 Acc: 96.6667%\n[174/200]  0m 0.0s - Train Loss: 0.0923 Acc: 95.8333% - Test Loss: 0.1035 Acc: 96.6667%\n[175/200]  0m 0.0s - Train Loss: 0.0911 Acc: 96.6667% - Test Loss: 0.1041 Acc: 96.6667%\n[176/200]  0m 0.0s - Train Loss: 0.0905 Acc: 96.6667% - Test Loss: 0.1055 Acc: 93.3333%\n[177/200]  0m 0.0s - Train Loss: 0.0901 Acc: 97.5000% - Test Loss: 0.1058 Acc: 93.3333%\n[178/200]  0m 0.0s - Train Loss: 0.0894 Acc: 97.5000% - Test Loss: 0.1040 Acc: 93.3333%\n[179/200]  0m 0.0s - Train Loss: 0.0886 Acc: 97.5000% - Test Loss: 0.1020 Acc: 96.6667%\n[180/200]  0m 0.0s - Train Loss: 0.0878 Acc: 96.6667% - Test Loss: 0.0996 Acc: 96.6667%\n[181/200]  0m 0.0s - Train Loss: 0.0873 Acc: 96.6667% - Test Loss: 0.0968 Acc: 96.6667%\n[182/200]  0m 0.0s - Train Loss: 0.0870 Acc: 95.8333% - Test Loss: 0.0957 Acc: 96.6667%\n[183/200]  0m 0.0s - Train Loss: 0.0868 Acc: 95.8333% - Test Loss: 0.0955 Acc: 96.6667%\n[184/200]  0m 0.0s - Train Loss: 0.0866 Acc: 95.8333% - Test Loss: 0.0986 Acc: 96.6667%\n[185/200]  0m 0.0s - Train Loss: 0.0853 Acc: 96.6667% - Test Loss: 0.1006 Acc: 93.3333%\n[186/200]  0m 0.0s - Train Loss: 0.0846 Acc: 97.5000% - Test Loss: 0.1008 Acc: 93.3333%\n[187/200]  0m 0.0s - Train Loss: 0.0840 Acc: 97.5000% - Test Loss: 0.0994 Acc: 96.6667%\n[188/200]  0m 0.0s - Train Loss: 0.0838 Acc: 96.6667% - Test Loss: 0.0960 Acc: 96.6667%\n[189/200]  0m 0.0s - Train Loss: 0.0835 Acc: 96.6667% - Test Loss: 0.0961 Acc: 96.6667%\n[190/200]  0m 0.0s - Train Loss: 0.0822 Acc: 96.6667% - Test Loss: 0.0940 Acc: 96.6667%\n[191/200]  0m 0.0s - Train Loss: 0.0818 Acc: 96.6667% - Test Loss: 0.0932 Acc: 96.6667%\n[192/200]  0m 0.0s - Train Loss: 0.0814 Acc: 96.6667% - Test Loss: 0.0937 Acc: 96.6667%\n[193/200]  0m 0.0s - Train Loss: 0.0808 Acc: 96.6667% - Test Loss: 0.0936 Acc: 96.6667%\n[194/200]  0m 0.0s - Train Loss: 0.0804 Acc: 96.6667% - Test Loss: 0.0951 Acc: 96.6667%\n[195/200]  0m 0.0s - Train Loss: 0.0799 Acc: 97.5000% - Test Loss: 0.0959 Acc: 96.6667%\n[196/200]  0m 0.0s - Train Loss: 0.0793 Acc: 97.5000% - Test Loss: 0.0954 Acc: 96.6667%\n[197/200]  0m 0.0s - Train Loss: 0.0790 Acc: 97.5000% - Test Loss: 0.0931 Acc: 96.6667%\n[198/200]  0m 0.0s - Train Loss: 0.0784 Acc: 96.6667% - Test Loss: 0.0917 Acc: 96.6667%\n[199/200]  0m 0.0s - Train Loss: 0.0779 Acc: 97.5000% - Test Loss: 0.0919 Acc: 96.6667%\n[200/200]  0m 0.0s - Train Loss: 0.0774 Acc: 97.5000% - Test Loss: 0.0922 Acc: 96.6667%\nTime taken for training:  0m 0.7s\n"
    }
   ],
   "source": [
    "DATA_ROOT = 'data'\n",
    "BATCH_SIZE = 64\n",
    "\n",
    "# image datasets: {'MNIST', 'CIFAR10', 'SVHN'}\n",
    "# quantitative datasets: {'BankNote', 'BreastCancerWisconsin', 'HTRU2', 'Iris', 'WheatSeed'}\n",
    "NAME = 'Iris'\n",
    "print(f'Starting {NAME} data container...')\n",
    "print(DATASET_LIST[NAME])\n",
    "\n",
    "dc = DataContainer(DATASET_LIST[NAME], DATA_ROOT)\n",
    "dc(size_train=0.8, normalize=True)\n",
    "\n",
    "num_features = dc.dim_data[0]\n",
    "num_classes = dc.num_classes\n",
    "print('Features:', num_features)\n",
    "print('Classes:', num_classes)\n",
    "\n",
    "## model in {BCNN, IrisNN, MnistCnnCW}\n",
    "model = IrisNN(num_features, num_classes, hidden_nodes=16)  # for Iris\n",
    "model_name = model.__class__.__name__\n",
    "print('Using model:', model_name)\n",
    "\n",
    "mc = TorchModelContainer(model, dc)\n",
    "mc.fit(epochs=200, batch_size=BATCH_SIZE)"
   ]
  },
  {
   "cell_type": "code",
   "execution_count": 5,
   "metadata": {},
   "outputs": [],
   "source": [
    "attack = attacks.BIMContainer(mc)"
   ]
  },
  {
   "cell_type": "code",
   "execution_count": 6,
   "metadata": {},
   "outputs": [
    {
     "name": "stdout",
     "output_type": "stream",
     "text": "Time taken for training 30 adversarial examples:  0m 3.4s\n{'eps': 0.3, 'eps_step': 0.1, 'max_iter': 100, 'targeted': False, 'batch_size': 64}\n(30, 4)\n(30,)\n(30, 4)\n(30,)\n"
    }
   ],
   "source": [
    "adv, y_adv, x_clean, y_clean = attack.generate(count=100)\n",
    "print(attack.attack_params)\n",
    "print(adv.shape)\n",
    "print(y_adv.shape)\n",
    "print(x_clean.shape)\n",
    "print(y_clean.shape)"
   ]
  },
  {
   "cell_type": "code",
   "execution_count": 7,
   "metadata": {},
   "outputs": [
    {
     "name": "stdout",
     "output_type": "stream",
     "text": "Accuracy on clean samples: 100.0000%\nAccuracy on adversarial example: 43.3333%\n"
    }
   ],
   "source": [
    "accuracy = mc.evaluate(x_clean, y_clean)\n",
    "print(f'Accuracy on clean samples: {accuracy*100:.4f}%')\n",
    "accuracy = mc.evaluate(adv, y_clean)\n",
    "print(f'Accuracy on adversarial example: {accuracy*100:.4f}%')"
   ]
  },
  {
   "cell_type": "code",
   "execution_count": null,
   "metadata": {},
   "outputs": [],
   "source": []
  }
 ],
 "metadata": {
  "file_extension": ".py",
  "kernelspec": {
   "display_name": "Python 3.6.9 64-bit ('venv': venv)",
   "language": "python",
   "name": "python36964bitvenvvenv794a3f6500e74251b078ca195c3ad1e1"
  },
  "language_info": {
   "codemirror_mode": {
    "name": "ipython",
    "version": 3
   },
   "file_extension": ".py",
   "mimetype": "text/x-python",
   "name": "python",
   "nbconvert_exporter": "python",
   "pygments_lexer": "ipython3",
   "version": "3.6.9-final"
  },
  "mimetype": "text/x-python",
  "name": "python",
  "npconvert_exporter": "python",
  "pygments_lexer": "ipython3",
  "version": 3
 },
 "nbformat": 4,
 "nbformat_minor": 4
}