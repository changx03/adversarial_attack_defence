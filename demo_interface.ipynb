{
 "cells": [
  {
   "cell_type": "code",
   "execution_count": 1,
   "metadata": {},
   "outputs": [],
   "source": [
    "import sys\n",
    "\n",
    "import torch\n",
    "import numpy as np\n",
    "\n",
    "from attacks import FGSMContainer\n",
    "from basemodels import TorchModelContainer, IrisNN\n",
    "from datasets import DATASET_LIST, DataContainer, get_dataset_list\n",
    "# from defences import DefenceContainer\n",
    "\n",
    "%load_ext autoreload\n",
    "%autoreload 2"
   ]
  },
  {
   "cell_type": "code",
   "execution_count": 2,
   "metadata": {},
   "outputs": [
    {
     "name": "stdout",
     "output_type": "stream",
     "text": "3.6.9 (default, Nov  7 2019, 10:44:02) \n[GCC 8.3.0]\n/home/lukec/.vscode/extensions/ms-python.python-2020.2.64397/pythonFiles\n/home/lukec/.vscode/extensions/ms-python.python-2020.2.64397/pythonFiles/lib/python\n/usr/lib/python36.zip\n/usr/lib/python3.6\n/usr/lib/python3.6/lib-dynload\n\n/home/lukec/venv/lib/python3.6/site-packages\n/home/lukec/.local/lib/python3.6/site-packages\n/usr/local/lib/python3.6/dist-packages\n/usr/lib/python3/dist-packages\n/home/lukec/venv/lib/python3.6/site-packages/IPython/extensions\n/home/lukec/.ipython\n"
    }
   ],
   "source": [
    "print(sys.version)\n",
    "print(*sys.path, sep='\\n')"
   ]
  },
  {
   "cell_type": "code",
   "execution_count": 3,
   "metadata": {},
   "outputs": [
    {
     "name": "stdout",
     "output_type": "stream",
     "text": "Avaliable datasets:\n['MNIST', 'CIFAR10', 'SVHN', 'BankNote', 'BreastCancerWisconsin', 'HTRU2', 'Iris', 'WheatSeed']\n"
    }
   ],
   "source": [
    "print('Avaliable datasets:')\n",
    "print(get_dataset_list())"
   ]
  },
  {
   "cell_type": "code",
   "execution_count": 4,
   "metadata": {},
   "outputs": [
    {
     "name": "stdout",
     "output_type": "stream",
     "text": "Starting Iris data container...\n{'name': 'Iris', 'type': 'quantitative', 'size': 150, 'num_classes': 3, 'dim_data': (4,)}\nLoading data...\nPreparing DataFrame...\nReading from data/iris.data\nSpliting train/test sets into numpy arrays...\nSuccessfully load data! Time taken:  0m 0.0s\nFeatures: 4\nClasses: 3\nUsing model: IrisNN\nUsing device: cuda:0\n{'lr': 0.01, 'momentum': 0.9}\n[ 1/200]  0m 0.0s - Train Loss: 1.1107 Acc: 31.6667% - Test Loss: 1.0970 Acc: 40.0000%\n[ 2/200]  0m 0.0s - Train Loss: 1.1102 Acc: 31.6667% - Test Loss: 1.0964 Acc: 40.0000%\n[ 3/200]  0m 0.0s - Train Loss: 1.1089 Acc: 31.6667% - Test Loss: 1.0957 Acc: 40.0000%\n[ 4/200]  0m 0.0s - Train Loss: 1.1073 Acc: 31.6667% - Test Loss: 1.0946 Acc: 40.0000%\n[ 5/200]  0m 0.0s - Train Loss: 1.1053 Acc: 31.6667% - Test Loss: 1.0934 Acc: 40.0000%\n[ 6/200]  0m 0.0s - Train Loss: 1.1028 Acc: 31.6667% - Test Loss: 1.0925 Acc: 40.0000%\n[ 7/200]  0m 0.0s - Train Loss: 1.1007 Acc: 31.6667% - Test Loss: 1.0918 Acc: 40.0000%\n[ 8/200]  0m 0.0s - Train Loss: 1.0987 Acc: 31.6667% - Test Loss: 1.0914 Acc: 40.0000%\n[ 9/200]  0m 0.0s - Train Loss: 1.0972 Acc: 37.5000% - Test Loss: 1.0912 Acc: 40.0000%\n[10/200]  0m 0.0s - Train Loss: 1.0957 Acc: 41.6667% - Test Loss: 1.0910 Acc: 33.3333%\n[11/200]  0m 0.0s - Train Loss: 1.0939 Acc: 41.6667% - Test Loss: 1.0909 Acc: 36.6667%\n[12/200]  0m 0.0s - Train Loss: 1.0932 Acc: 40.8333% - Test Loss: 1.0907 Acc: 36.6667%\n[13/200]  0m 0.0s - Train Loss: 1.0912 Acc: 40.8333% - Test Loss: 1.0905 Acc: 33.3333%\n[14/200]  0m 0.0s - Train Loss: 1.0904 Acc: 37.5000% - Test Loss: 1.0904 Acc: 40.0000%\n[15/200]  0m 0.0s - Train Loss: 1.0893 Acc: 45.8333% - Test Loss: 1.0903 Acc: 53.3333%\n[16/200]  0m 0.0s - Train Loss: 1.0880 Acc: 55.0000% - Test Loss: 1.0900 Acc: 56.6667%\n[17/200]  0m 0.0s - Train Loss: 1.0872 Acc: 63.3333% - Test Loss: 1.0898 Acc: 60.0000%\n[18/200]  0m 0.0s - Train Loss: 1.0859 Acc: 64.1667% - Test Loss: 1.0894 Acc: 60.0000%\n[19/200]  0m 0.0s - Train Loss: 1.0847 Acc: 64.1667% - Test Loss: 1.0889 Acc: 56.6667%\n[20/200]  0m 0.0s - Train Loss: 1.0838 Acc: 63.3333% - Test Loss: 1.0884 Acc: 56.6667%\n[21/200]  0m 0.0s - Train Loss: 1.0826 Acc: 61.6667% - Test Loss: 1.0876 Acc: 53.3333%\n[22/200]  0m 0.0s - Train Loss: 1.0813 Acc: 60.0000% - Test Loss: 1.0868 Acc: 50.0000%\n[23/200]  0m 0.0s - Train Loss: 1.0800 Acc: 57.5000% - Test Loss: 1.0858 Acc: 46.6667%\n[24/200]  0m 0.0s - Train Loss: 1.0785 Acc: 57.5000% - Test Loss: 1.0846 Acc: 46.6667%\n[25/200]  0m 0.0s - Train Loss: 1.0773 Acc: 55.8333% - Test Loss: 1.0834 Acc: 46.6667%\n[26/200]  0m 0.0s - Train Loss: 1.0757 Acc: 54.1667% - Test Loss: 1.0821 Acc: 46.6667%\n[27/200]  0m 0.0s - Train Loss: 1.0738 Acc: 55.0000% - Test Loss: 1.0805 Acc: 46.6667%\n[28/200]  0m 0.0s - Train Loss: 1.0720 Acc: 55.0000% - Test Loss: 1.0788 Acc: 46.6667%\n[29/200]  0m 0.0s - Train Loss: 1.0700 Acc: 56.6667% - Test Loss: 1.0768 Acc: 46.6667%\n[30/200]  0m 0.0s - Train Loss: 1.0679 Acc: 56.6667% - Test Loss: 1.0747 Acc: 46.6667%\n[31/200]  0m 0.0s - Train Loss: 1.0656 Acc: 56.6667% - Test Loss: 1.0724 Acc: 46.6667%\n[32/200]  0m 0.0s - Train Loss: 1.0631 Acc: 57.5000% - Test Loss: 1.0698 Acc: 50.0000%\n[33/200]  0m 0.0s - Train Loss: 1.0604 Acc: 57.5000% - Test Loss: 1.0671 Acc: 53.3333%\n[34/200]  0m 0.0s - Train Loss: 1.0574 Acc: 57.5000% - Test Loss: 1.0641 Acc: 53.3333%\n[35/200]  0m 0.0s - Train Loss: 1.0543 Acc: 57.5000% - Test Loss: 1.0610 Acc: 53.3333%\n[36/200]  0m 0.0s - Train Loss: 1.0509 Acc: 57.5000% - Test Loss: 1.0577 Acc: 53.3333%\n[37/200]  0m 0.0s - Train Loss: 1.0472 Acc: 57.5000% - Test Loss: 1.0542 Acc: 56.6667%\n[38/200]  0m 0.0s - Train Loss: 1.0435 Acc: 59.1667% - Test Loss: 1.0504 Acc: 56.6667%\n[39/200]  0m 0.0s - Train Loss: 1.0389 Acc: 60.8333% - Test Loss: 1.0463 Acc: 56.6667%\n[40/200]  0m 0.0s - Train Loss: 1.0345 Acc: 62.5000% - Test Loss: 1.0420 Acc: 56.6667%\n[41/200]  0m 0.0s - Train Loss: 1.0297 Acc: 63.3333% - Test Loss: 1.0373 Acc: 56.6667%\n[42/200]  0m 0.0s - Train Loss: 1.0245 Acc: 64.1667% - Test Loss: 1.0322 Acc: 56.6667%\n[43/200]  0m 0.0s - Train Loss: 1.0189 Acc: 64.1667% - Test Loss: 1.0268 Acc: 56.6667%\n[44/200]  0m 0.0s - Train Loss: 1.0128 Acc: 64.1667% - Test Loss: 1.0210 Acc: 56.6667%\n[45/200]  0m 0.0s - Train Loss: 1.0066 Acc: 65.0000% - Test Loss: 1.0148 Acc: 56.6667%\n[46/200]  0m 0.0s - Train Loss: 0.9997 Acc: 65.8333% - Test Loss: 1.0082 Acc: 60.0000%\n[47/200]  0m 0.0s - Train Loss: 0.9925 Acc: 65.8333% - Test Loss: 1.0011 Acc: 60.0000%\n[48/200]  0m 0.0s - Train Loss: 0.9846 Acc: 66.6667% - Test Loss: 0.9935 Acc: 60.0000%\n[49/200]  0m 0.0s - Train Loss: 0.9765 Acc: 67.5000% - Test Loss: 0.9856 Acc: 60.0000%\n[50/200]  0m 0.0s - Train Loss: 0.9675 Acc: 67.5000% - Test Loss: 0.9771 Acc: 60.0000%\n[51/200]  0m 0.0s - Train Loss: 0.9585 Acc: 67.5000% - Test Loss: 0.9682 Acc: 60.0000%\n[52/200]  0m 0.0s - Train Loss: 0.9485 Acc: 67.5000% - Test Loss: 0.9589 Acc: 60.0000%\n[53/200]  0m 0.0s - Train Loss: 0.9384 Acc: 68.3333% - Test Loss: 0.9491 Acc: 60.0000%\n[54/200]  0m 0.0s - Train Loss: 0.9279 Acc: 68.3333% - Test Loss: 0.9390 Acc: 60.0000%\n[55/200]  0m 0.0s - Train Loss: 0.9167 Acc: 68.3333% - Test Loss: 0.9285 Acc: 60.0000%\n[56/200]  0m 0.0s - Train Loss: 0.9055 Acc: 68.3333% - Test Loss: 0.9177 Acc: 60.0000%\n[57/200]  0m 0.0s - Train Loss: 0.8934 Acc: 68.3333% - Test Loss: 0.9063 Acc: 60.0000%\n[58/200]  0m 0.0s - Train Loss: 0.8814 Acc: 68.3333% - Test Loss: 0.8948 Acc: 60.0000%\n[59/200]  0m 0.0s - Train Loss: 0.8687 Acc: 68.3333% - Test Loss: 0.8829 Acc: 60.0000%\n[60/200]  0m 0.0s - Train Loss: 0.8559 Acc: 68.3333% - Test Loss: 0.8709 Acc: 60.0000%\n[61/200]  0m 0.0s - Train Loss: 0.8431 Acc: 68.3333% - Test Loss: 0.8587 Acc: 60.0000%\n[62/200]  0m 0.0s - Train Loss: 0.8297 Acc: 68.3333% - Test Loss: 0.8460 Acc: 60.0000%\n[63/200]  0m 0.0s - Train Loss: 0.8164 Acc: 68.3333% - Test Loss: 0.8334 Acc: 60.0000%\n[64/200]  0m 0.0s - Train Loss: 0.8036 Acc: 68.3333% - Test Loss: 0.8210 Acc: 60.0000%\n[65/200]  0m 0.0s - Train Loss: 0.7905 Acc: 68.3333% - Test Loss: 0.8085 Acc: 60.0000%\n[66/200]  0m 0.0s - Train Loss: 0.7774 Acc: 68.3333% - Test Loss: 0.7961 Acc: 60.0000%\n[67/200]  0m 0.0s - Train Loss: 0.7644 Acc: 69.1667% - Test Loss: 0.7838 Acc: 63.3333%\n[68/200]  0m 0.0s - Train Loss: 0.7518 Acc: 69.1667% - Test Loss: 0.7715 Acc: 63.3333%\n[69/200]  0m 0.0s - Train Loss: 0.7395 Acc: 70.0000% - Test Loss: 0.7595 Acc: 63.3333%\n[70/200]  0m 0.0s - Train Loss: 0.7271 Acc: 70.8333% - Test Loss: 0.7475 Acc: 63.3333%\n[71/200]  0m 0.0s - Train Loss: 0.7152 Acc: 70.8333% - Test Loss: 0.7355 Acc: 63.3333%\n[72/200]  0m 0.0s - Train Loss: 0.7031 Acc: 70.8333% - Test Loss: 0.7238 Acc: 63.3333%\n[73/200]  0m 0.0s - Train Loss: 0.6913 Acc: 70.8333% - Test Loss: 0.7120 Acc: 63.3333%\n[74/200]  0m 0.0s - Train Loss: 0.6798 Acc: 70.8333% - Test Loss: 0.7003 Acc: 63.3333%\n[75/200]  0m 0.0s - Train Loss: 0.6683 Acc: 70.8333% - Test Loss: 0.6889 Acc: 63.3333%\n[76/200]  0m 0.0s - Train Loss: 0.6571 Acc: 71.6667% - Test Loss: 0.6775 Acc: 66.6667%\n[77/200]  0m 0.0s - Train Loss: 0.6463 Acc: 71.6667% - Test Loss: 0.6661 Acc: 66.6667%\n[78/200]  0m 0.0s - Train Loss: 0.6355 Acc: 72.5000% - Test Loss: 0.6549 Acc: 66.6667%\n[79/200]  0m 0.0s - Train Loss: 0.6249 Acc: 72.5000% - Test Loss: 0.6443 Acc: 66.6667%\n[80/200]  0m 0.0s - Train Loss: 0.6145 Acc: 73.3333% - Test Loss: 0.6335 Acc: 66.6667%\n[81/200]  0m 0.0s - Train Loss: 0.6039 Acc: 74.1667% - Test Loss: 0.6235 Acc: 66.6667%\n[82/200]  0m 0.0s - Train Loss: 0.5937 Acc: 75.0000% - Test Loss: 0.6135 Acc: 70.0000%\n[83/200]  0m 0.0s - Train Loss: 0.5840 Acc: 75.0000% - Test Loss: 0.6034 Acc: 70.0000%\n[84/200]  0m 0.0s - Train Loss: 0.5745 Acc: 75.8333% - Test Loss: 0.5933 Acc: 73.3333%\n[85/200]  0m 0.0s - Train Loss: 0.5651 Acc: 79.1667% - Test Loss: 0.5835 Acc: 76.6667%\n[86/200]  0m 0.0s - Train Loss: 0.5556 Acc: 80.0000% - Test Loss: 0.5742 Acc: 80.0000%\n[87/200]  0m 0.0s - Train Loss: 0.5468 Acc: 80.8333% - Test Loss: 0.5648 Acc: 80.0000%\n[88/200]  0m 0.0s - Train Loss: 0.5379 Acc: 81.6667% - Test Loss: 0.5557 Acc: 80.0000%\n[89/200]  0m 0.0s - Train Loss: 0.5291 Acc: 81.6667% - Test Loss: 0.5473 Acc: 80.0000%\n[90/200]  0m 0.0s - Train Loss: 0.5205 Acc: 81.6667% - Test Loss: 0.5386 Acc: 80.0000%\n[91/200]  0m 0.0s - Train Loss: 0.5124 Acc: 82.5000% - Test Loss: 0.5303 Acc: 83.3333%\n[92/200]  0m 0.0s - Train Loss: 0.5041 Acc: 82.5000% - Test Loss: 0.5225 Acc: 83.3333%\n[93/200]  0m 0.0s - Train Loss: 0.4961 Acc: 82.5000% - Test Loss: 0.5148 Acc: 83.3333%\n[94/200]  0m 0.0s - Train Loss: 0.4887 Acc: 82.5000% - Test Loss: 0.5073 Acc: 83.3333%\n[95/200]  0m 0.0s - Train Loss: 0.4811 Acc: 82.5000% - Test Loss: 0.4996 Acc: 86.6667%\n[96/200]  0m 0.0s - Train Loss: 0.4745 Acc: 81.6667% - Test Loss: 0.4917 Acc: 86.6667%\n[97/200]  0m 0.0s - Train Loss: 0.4671 Acc: 82.5000% - Test Loss: 0.4843 Acc: 86.6667%\n[98/200]  0m 0.0s - Train Loss: 0.4598 Acc: 82.5000% - Test Loss: 0.4773 Acc: 86.6667%\n[99/200]  0m 0.0s - Train Loss: 0.4532 Acc: 83.3333% - Test Loss: 0.4706 Acc: 86.6667%\n[100/200]  0m 0.0s - Train Loss: 0.4465 Acc: 83.3333% - Test Loss: 0.4637 Acc: 86.6667%\n[101/200]  0m 0.0s - Train Loss: 0.4403 Acc: 85.0000% - Test Loss: 0.4568 Acc: 86.6667%\n[102/200]  0m 0.0s - Train Loss: 0.4340 Acc: 85.0000% - Test Loss: 0.4502 Acc: 86.6667%\n[103/200]  0m 0.0s - Train Loss: 0.4281 Acc: 85.0000% - Test Loss: 0.4436 Acc: 86.6667%\n[104/200]  0m 0.0s - Train Loss: 0.4221 Acc: 85.0000% - Test Loss: 0.4374 Acc: 90.0000%\n[105/200]  0m 0.0s - Train Loss: 0.4164 Acc: 85.0000% - Test Loss: 0.4311 Acc: 90.0000%\n[106/200]  0m 0.0s - Train Loss: 0.4108 Acc: 86.6667% - Test Loss: 0.4249 Acc: 90.0000%\n[107/200]  0m 0.0s - Train Loss: 0.4054 Acc: 86.6667% - Test Loss: 0.4187 Acc: 90.0000%\n[108/200]  0m 0.0s - Train Loss: 0.3999 Acc: 86.6667% - Test Loss: 0.4127 Acc: 93.3333%\n[109/200]  0m 0.0s - Train Loss: 0.3950 Acc: 87.5000% - Test Loss: 0.4071 Acc: 93.3333%\n[110/200]  0m 0.0s - Train Loss: 0.3898 Acc: 87.5000% - Test Loss: 0.4013 Acc: 93.3333%\n[111/200]  0m 0.0s - Train Loss: 0.3849 Acc: 87.5000% - Test Loss: 0.3957 Acc: 93.3333%\n[112/200]  0m 0.0s - Train Loss: 0.3799 Acc: 87.5000% - Test Loss: 0.3899 Acc: 93.3333%\n[113/200]  0m 0.0s - Train Loss: 0.3751 Acc: 88.3333% - Test Loss: 0.3842 Acc: 93.3333%\n[114/200]  0m 0.0s - Train Loss: 0.3705 Acc: 90.8333% - Test Loss: 0.3789 Acc: 93.3333%\n[115/200]  0m 0.0s - Train Loss: 0.3658 Acc: 90.8333% - Test Loss: 0.3736 Acc: 93.3333%\n[116/200]  0m 0.0s - Train Loss: 0.3612 Acc: 91.6667% - Test Loss: 0.3683 Acc: 93.3333%\n[117/200]  0m 0.0s - Train Loss: 0.3580 Acc: 91.6667% - Test Loss: 0.3626 Acc: 93.3333%\n[118/200]  0m 0.0s - Train Loss: 0.3524 Acc: 92.5000% - Test Loss: 0.3578 Acc: 93.3333%\n[119/200]  0m 0.0s - Train Loss: 0.3480 Acc: 92.5000% - Test Loss: 0.3531 Acc: 93.3333%\n[120/200]  0m 0.0s - Train Loss: 0.3438 Acc: 92.5000% - Test Loss: 0.3487 Acc: 93.3333%\n[121/200]  0m 0.0s - Train Loss: 0.3397 Acc: 91.6667% - Test Loss: 0.3441 Acc: 93.3333%\n[122/200]  0m 0.0s - Train Loss: 0.3354 Acc: 91.6667% - Test Loss: 0.3388 Acc: 93.3333%\n[123/200]  0m 0.0s - Train Loss: 0.3315 Acc: 92.5000% - Test Loss: 0.3332 Acc: 93.3333%\n[124/200]  0m 0.0s - Train Loss: 0.3272 Acc: 92.5000% - Test Loss: 0.3279 Acc: 93.3333%\n[125/200]  0m 0.0s - Train Loss: 0.3228 Acc: 92.5000% - Test Loss: 0.3230 Acc: 93.3333%\n[126/200]  0m 0.0s - Train Loss: 0.3187 Acc: 92.5000% - Test Loss: 0.3178 Acc: 93.3333%\n[127/200]  0m 0.0s - Train Loss: 0.3143 Acc: 92.5000% - Test Loss: 0.3129 Acc: 93.3333%\n[128/200]  0m 0.0s - Train Loss: 0.3102 Acc: 92.5000% - Test Loss: 0.3082 Acc: 93.3333%\n[129/200]  0m 0.0s - Train Loss: 0.3061 Acc: 92.5000% - Test Loss: 0.3039 Acc: 93.3333%\n[130/200]  0m 0.0s - Train Loss: 0.3042 Acc: 92.5000% - Test Loss: 0.3003 Acc: 93.3333%\n[131/200]  0m 0.0s - Train Loss: 0.2985 Acc: 92.5000% - Test Loss: 0.2948 Acc: 96.6667%\n[132/200]  0m 0.0s - Train Loss: 0.2945 Acc: 92.5000% - Test Loss: 0.2896 Acc: 96.6667%\n[133/200]  0m 0.0s - Train Loss: 0.2909 Acc: 94.1667% - Test Loss: 0.2850 Acc: 96.6667%\n[134/200]  0m 0.0s - Train Loss: 0.2872 Acc: 95.0000% - Test Loss: 0.2804 Acc: 96.6667%\n[135/200]  0m 0.0s - Train Loss: 0.2834 Acc: 95.0000% - Test Loss: 0.2759 Acc: 96.6667%\n[136/200]  0m 0.0s - Train Loss: 0.2799 Acc: 95.0000% - Test Loss: 0.2717 Acc: 96.6667%\n[137/200]  0m 0.0s - Train Loss: 0.2762 Acc: 95.0000% - Test Loss: 0.2676 Acc: 96.6667%\n[138/200]  0m 0.0s - Train Loss: 0.2726 Acc: 95.0000% - Test Loss: 0.2637 Acc: 96.6667%\n[139/200]  0m 0.0s - Train Loss: 0.2691 Acc: 95.0000% - Test Loss: 0.2598 Acc: 96.6667%\n[140/200]  0m 0.0s - Train Loss: 0.2656 Acc: 95.0000% - Test Loss: 0.2558 Acc: 96.6667%\n[141/200]  0m 0.0s - Train Loss: 0.2622 Acc: 95.0000% - Test Loss: 0.2518 Acc: 96.6667%\n[142/200]  0m 0.0s - Train Loss: 0.2588 Acc: 95.0000% - Test Loss: 0.2476 Acc: 96.6667%\n[143/200]  0m 0.0s - Train Loss: 0.2556 Acc: 95.0000% - Test Loss: 0.2433 Acc: 96.6667%\n[144/200]  0m 0.0s - Train Loss: 0.2521 Acc: 95.0000% - Test Loss: 0.2394 Acc: 96.6667%\n[145/200]  0m 0.0s - Train Loss: 0.2489 Acc: 95.0000% - Test Loss: 0.2356 Acc: 96.6667%\n[146/200]  0m 0.0s - Train Loss: 0.2456 Acc: 95.0000% - Test Loss: 0.2321 Acc: 96.6667%\n[147/200]  0m 0.0s - Train Loss: 0.2427 Acc: 95.0000% - Test Loss: 0.2287 Acc: 96.6667%\n[148/200]  0m 0.0s - Train Loss: 0.2395 Acc: 95.0000% - Test Loss: 0.2252 Acc: 96.6667%\n[149/200]  0m 0.0s - Train Loss: 0.2366 Acc: 95.0000% - Test Loss: 0.2210 Acc: 96.6667%\n[150/200]  0m 0.0s - Train Loss: 0.2334 Acc: 95.8333% - Test Loss: 0.2174 Acc: 96.6667%\n[151/200]  0m 0.0s - Train Loss: 0.2305 Acc: 96.6667% - Test Loss: 0.2140 Acc: 96.6667%\n[152/200]  0m 0.0s - Train Loss: 0.2279 Acc: 95.8333% - Test Loss: 0.2113 Acc: 96.6667%\n[153/200]  0m 0.0s - Train Loss: 0.2250 Acc: 95.8333% - Test Loss: 0.2078 Acc: 96.6667%\n[154/200]  0m 0.0s - Train Loss: 0.2213 Acc: 95.8333% - Test Loss: 0.2048 Acc: 96.6667%\n[155/200]  0m 0.0s - Train Loss: 0.2194 Acc: 95.8333% - Test Loss: 0.2022 Acc: 96.6667%\n[156/200]  0m 0.0s - Train Loss: 0.2161 Acc: 95.8333% - Test Loss: 0.1985 Acc: 96.6667%\n[157/200]  0m 0.0s - Train Loss: 0.2138 Acc: 95.8333% - Test Loss: 0.1950 Acc: 96.6667%\n[158/200]  0m 0.0s - Train Loss: 0.2104 Acc: 95.8333% - Test Loss: 0.1921 Acc: 96.6667%\n[159/200]  0m 0.0s - Train Loss: 0.2077 Acc: 95.8333% - Test Loss: 0.1892 Acc: 96.6667%\n[160/200]  0m 0.0s - Train Loss: 0.2053 Acc: 95.8333% - Test Loss: 0.1864 Acc: 96.6667%\n[161/200]  0m 0.0s - Train Loss: 0.2031 Acc: 96.6667% - Test Loss: 0.1840 Acc: 96.6667%\n[162/200]  0m 0.0s - Train Loss: 0.2001 Acc: 96.6667% - Test Loss: 0.1812 Acc: 96.6667%\n[163/200]  0m 0.0s - Train Loss: 0.1977 Acc: 96.6667% - Test Loss: 0.1784 Acc: 96.6667%\n[164/200]  0m 0.0s - Train Loss: 0.1953 Acc: 95.8333% - Test Loss: 0.1755 Acc: 96.6667%\n[165/200]  0m 0.0s - Train Loss: 0.1930 Acc: 95.8333% - Test Loss: 0.1729 Acc: 96.6667%\n[166/200]  0m 0.0s - Train Loss: 0.1906 Acc: 95.8333% - Test Loss: 0.1706 Acc: 96.6667%\n[167/200]  0m 0.0s - Train Loss: 0.1885 Acc: 95.8333% - Test Loss: 0.1683 Acc: 96.6667%\n[168/200]  0m 0.0s - Train Loss: 0.1861 Acc: 96.6667% - Test Loss: 0.1660 Acc: 96.6667%\n[169/200]  0m 0.0s - Train Loss: 0.1846 Acc: 95.8333% - Test Loss: 0.1632 Acc: 96.6667%\n[170/200]  0m 0.0s - Train Loss: 0.1817 Acc: 95.8333% - Test Loss: 0.1608 Acc: 96.6667%\n[171/200]  0m 0.0s - Train Loss: 0.1794 Acc: 95.8333% - Test Loss: 0.1587 Acc: 96.6667%\n[172/200]  0m 0.0s - Train Loss: 0.1773 Acc: 95.8333% - Test Loss: 0.1568 Acc: 96.6667%\n[173/200]  0m 0.0s - Train Loss: 0.1752 Acc: 95.8333% - Test Loss: 0.1547 Acc: 96.6667%\n[174/200]  0m 0.0s - Train Loss: 0.1733 Acc: 95.8333% - Test Loss: 0.1525 Acc: 96.6667%\n[175/200]  0m 0.0s - Train Loss: 0.1718 Acc: 95.8333% - Test Loss: 0.1506 Acc: 96.6667%\n[176/200]  0m 0.0s - Train Loss: 0.1697 Acc: 95.8333% - Test Loss: 0.1482 Acc: 96.6667%\n[177/200]  0m 0.0s - Train Loss: 0.1683 Acc: 95.8333% - Test Loss: 0.1463 Acc: 96.6667%\n[178/200]  0m 0.0s - Train Loss: 0.1663 Acc: 95.8333% - Test Loss: 0.1443 Acc: 96.6667%\n[179/200]  0m 0.0s - Train Loss: 0.1637 Acc: 95.8333% - Test Loss: 0.1425 Acc: 96.6667%\n[180/200]  0m 0.0s - Train Loss: 0.1618 Acc: 95.8333% - Test Loss: 0.1408 Acc: 96.6667%\n[181/200]  0m 0.0s - Train Loss: 0.1614 Acc: 95.8333% - Test Loss: 0.1397 Acc: 96.6667%\n[182/200]  0m 0.0s - Train Loss: 0.1585 Acc: 95.8333% - Test Loss: 0.1378 Acc: 96.6667%\n[183/200]  0m 0.0s - Train Loss: 0.1565 Acc: 95.8333% - Test Loss: 0.1357 Acc: 96.6667%\n[184/200]  0m 0.0s - Train Loss: 0.1548 Acc: 95.8333% - Test Loss: 0.1338 Acc: 96.6667%\n[185/200]  0m 0.0s - Train Loss: 0.1539 Acc: 95.8333% - Test Loss: 0.1323 Acc: 96.6667%\n[186/200]  0m 0.0s - Train Loss: 0.1522 Acc: 95.8333% - Test Loss: 0.1307 Acc: 96.6667%\n[187/200]  0m 0.0s - Train Loss: 0.1500 Acc: 95.8333% - Test Loss: 0.1292 Acc: 96.6667%\n[188/200]  0m 0.0s - Train Loss: 0.1489 Acc: 95.8333% - Test Loss: 0.1277 Acc: 96.6667%\n[189/200]  0m 0.0s - Train Loss: 0.1472 Acc: 95.8333% - Test Loss: 0.1264 Acc: 96.6667%\n[190/200]  0m 0.0s - Train Loss: 0.1452 Acc: 95.8333% - Test Loss: 0.1253 Acc: 96.6667%\n[191/200]  0m 0.0s - Train Loss: 0.1441 Acc: 95.8333% - Test Loss: 0.1241 Acc: 96.6667%\n[192/200]  0m 0.0s - Train Loss: 0.1425 Acc: 95.8333% - Test Loss: 0.1225 Acc: 96.6667%\n[193/200]  0m 0.0s - Train Loss: 0.1407 Acc: 95.8333% - Test Loss: 0.1208 Acc: 96.6667%\n[194/200]  0m 0.0s - Train Loss: 0.1407 Acc: 95.8333% - Test Loss: 0.1195 Acc: 96.6667%\n[195/200]  0m 0.0s - Train Loss: 0.1389 Acc: 95.8333% - Test Loss: 0.1182 Acc: 96.6667%\n[196/200]  0m 0.0s - Train Loss: 0.1365 Acc: 95.8333% - Test Loss: 0.1170 Acc: 96.6667%\n[197/200]  0m 0.0s - Train Loss: 0.1352 Acc: 95.8333% - Test Loss: 0.1158 Acc: 96.6667%\n[198/200]  0m 0.0s - Train Loss: 0.1341 Acc: 95.8333% - Test Loss: 0.1150 Acc: 96.6667%\n[199/200]  0m 0.0s - Train Loss: 0.1325 Acc: 95.8333% - Test Loss: 0.1139 Acc: 96.6667%\n[200/200]  0m 0.0s - Train Loss: 0.1316 Acc: 95.8333% - Test Loss: 0.1128 Acc: 96.6667%\nTime taken for training:  0m 0.7s\n"
    }
   ],
   "source": [
    "DATA_ROOT = 'data'\n",
    "BATCH_SIZE = 64\n",
    "\n",
    "# image datasets: {'MNIST', 'CIFAR10', 'SVHN'}\n",
    "# quantitative datasets: {'BankNote', 'BreastCancerWisconsin', 'HTRU2', 'Iris', 'WheatSeed'}\n",
    "NAME = 'Iris'\n",
    "print(f'Starting {NAME} data container...')\n",
    "print(DATASET_LIST[NAME])\n",
    "\n",
    "dc = DataContainer(DATASET_LIST[NAME], DATA_ROOT)\n",
    "dc(size_train=0.8, normalize=True)\n",
    "\n",
    "num_features = dc.dim_data[0]\n",
    "num_classes = dc.num_classes\n",
    "print('Features:', num_features)\n",
    "print('Classes:', num_classes)\n",
    "\n",
    "## model in {BCNN, IrisNN, MnistCnnCW}\n",
    "model = IrisNN(num_features, num_classes, hidden_nodes=16)  # for Iris\n",
    "model_name = model.__class__.__name__\n",
    "print('Using model:', model_name)\n",
    "\n",
    "mc = TorchModelContainer(model, dc)\n",
    "mc.fit(epochs=200, batch_size=BATCH_SIZE)"
   ]
  },
  {
   "cell_type": "code",
   "execution_count": 5,
   "metadata": {},
   "outputs": [],
   "source": [
    "attack = FGSMContainer(mc)"
   ]
  },
  {
   "cell_type": "code",
   "execution_count": 6,
   "metadata": {},
   "outputs": [
    {
     "name": "stdout",
     "output_type": "stream",
     "text": "Time taken for training 30 adversarial examples:  0m 0.0s\n{'norm': inf, 'eps': 0.3, 'eps_step': 0.1, 'targeted': False, 'num_random_init': 0, 'batch_size': 64, 'minimal': False}\n(30, 4)\n(30,)\n(30, 4)\n(30,)\n"
    }
   ],
   "source": [
    "adv, y_adv, x_clean, y_clean = attack.generate(count=100, norm=np.inf)\n",
    "print(attack.attack_params)\n",
    "print(adv.shape)\n",
    "print(y_adv.shape)\n",
    "print(x_clean.shape)\n",
    "print(y_clean.shape)"
   ]
  },
  {
   "cell_type": "code",
   "execution_count": 7,
   "metadata": {},
   "outputs": [
    {
     "name": "stdout",
     "output_type": "stream",
     "text": "Accuracy on clean samples: 100.0000%\nAccuracy on adversarial example: 40.0000%\n"
    }
   ],
   "source": [
    "accuracy = mc.evaluate(x_clean, y_clean)\n",
    "print(f'Accuracy on clean samples: {accuracy*100:.4f}%')\n",
    "accuracy = mc.evaluate(adv, y_clean)\n",
    "print(f'Accuracy on adversarial example: {accuracy*100:.4f}%')"
   ]
  },
  {
   "cell_type": "code",
   "execution_count": null,
   "metadata": {},
   "outputs": [],
   "source": []
  }
 ],
 "metadata": {
  "file_extension": ".py",
  "kernelspec": {
   "display_name": "Python 3.6.9 64-bit ('venv': venv)",
   "language": "python",
   "name": "python36964bitvenvvenv794a3f6500e74251b078ca195c3ad1e1"
  },
  "language_info": {
   "codemirror_mode": {
    "name": "ipython",
    "version": 3
   },
   "file_extension": ".py",
   "mimetype": "text/x-python",
   "name": "python",
   "nbconvert_exporter": "python",
   "pygments_lexer": "ipython3",
   "version": "3.6.9-final"
  },
  "mimetype": "text/x-python",
  "name": "python",
  "npconvert_exporter": "python",
  "pygments_lexer": "ipython3",
  "version": 3
 },
 "nbformat": 4,
 "nbformat_minor": 4
}