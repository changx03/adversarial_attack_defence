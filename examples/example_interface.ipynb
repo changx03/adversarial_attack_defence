{
 "cells": [
  {
   "cell_type": "code",
   "execution_count": 7,
   "metadata": {},
   "outputs": [
    {
     "name": "stdout",
     "output_type": "stream",
     "text": [
      "3.6.9 (default, Nov  7 2019, 10:44:02) \n",
      "[GCC 8.3.0]\n",
      "/usr/lib/python36.zip\n",
      "/usr/lib/python3.6\n",
      "/usr/lib/python3.6/lib-dynload\n",
      "\n",
      "/home/lukec/venv/lib/python3.6/site-packages\n",
      "/home/lukec/workspace/path_demo\n",
      "/home/lukec/.local/lib/python3.6/site-packages\n",
      "/usr/local/lib/python3.6/dist-packages\n",
      "/usr/lib/python3/dist-packages\n",
      "/home/lukec/venv/lib/python3.6/site-packages/IPython/extensions\n",
      "/home/lukec/.ipython\n",
      "../\n",
      "../\n"
     ]
    }
   ],
   "source": [
    "# add local directory\n",
    "import sys\n",
    "sys.path.append('../')\n",
    "print(sys.version)\n",
    "print(*sys.path, sep='\\n')"
   ]
  },
  {
   "cell_type": "code",
   "execution_count": 12,
   "metadata": {},
   "outputs": [],
   "source": [
    "import os\n",
    "\n",
    "import torch\n",
    "import numpy as np\n",
    "\n",
    "from aad.datasets import DATASET_LIST, DataContainer\n",
    "from aad.basemodels import ModelContainerPT, MnistCnnCW\n",
    "from aad.attacks import SaliencyContainer"
   ]
  },
  {
   "cell_type": "code",
   "execution_count": 13,
   "metadata": {},
   "outputs": [
    {
     "name": "stdout",
     "output_type": "stream",
     "text": [
      "The autoreload extension is already loaded. To reload it, use:\n",
      "  %reload_ext autoreload\n"
     ]
    }
   ],
   "source": [
    "%load_ext autoreload\n",
    "%autoreload 2"
   ]
  },
  {
   "cell_type": "code",
   "execution_count": 14,
   "metadata": {},
   "outputs": [
    {
     "name": "stdout",
     "output_type": "stream",
     "text": [
      "Starting MNIST data container...\n",
      "{'name': 'MNIST', 'type': 'image', 'size': 70000, 'num_classes': 10, 'dim_data': (1, 28, 28)}\n",
      "Loading data...\n",
      "Preparing DataLoaders...\n",
      "Preparing numpy arrays...\n",
      "Successfully load data! Time to complete:  0m 3.8s\n",
      "Features: 1\n",
      "Classes: 10\n",
      "Using model: MnistCnnCW\n"
     ]
    },
    {
     "name": "stderr",
     "output_type": "stream",
     "text": [
      "2020-03-21 05:37:58,769:DEBUG:pt_model_container:Using device: cuda:0\n"
     ]
    },
    {
     "name": "stdout",
     "output_type": "stream",
     "text": [
      "{'lr': 0.1, 'momentum': 0}\n"
     ]
    },
    {
     "name": "stderr",
     "output_type": "stream",
     "text": [
      "2020-03-21 05:38:01,178:INFO:pt_model_container:[ 1/3]  0m 2.4s - Train Loss: 1.2966 Acc: 53.4700% - Test Loss: 0.1077 Acc: 96.6700%\n",
      "2020-03-21 05:38:03,536:INFO:pt_model_container:[ 2/3]  0m 2.4s - Train Loss: 0.0955 Acc: 97.0067% - Test Loss: 0.0646 Acc: 98.0300%\n",
      "2020-03-21 05:38:05,897:INFO:pt_model_container:[ 3/3]  0m 2.4s - Train Loss: 0.0591 Acc: 98.1333% - Test Loss: 0.0465 Acc: 98.5200%\n"
     ]
    },
    {
     "name": "stdout",
     "output_type": "stream",
     "text": [
      "Time to complete training:  0m 7.1s\n"
     ]
    }
   ],
   "source": [
    "DATA_ROOT = os.path.join('..', 'data')\n",
    "BATCH_SIZE = 128\n",
    "\n",
    "# image datasets: {'MNIST', 'CIFAR10', 'SVHN'}\n",
    "# quantitative datasets: {'BankNote', 'BreastCancerWisconsin', 'HTRU2', 'Iris', 'WheatSeed'}\n",
    "NAME = 'MNIST'\n",
    "print(f'Starting {NAME} data container...')\n",
    "print(DATASET_LIST[NAME])\n",
    "\n",
    "dc = DataContainer(DATASET_LIST[NAME], DATA_ROOT)\n",
    "dc(size_train=0.8, normalize=True)\n",
    "\n",
    "num_features = dc.dim_data[0]\n",
    "num_classes = dc.num_classes\n",
    "print('Features:', num_features)\n",
    "print('Classes:', num_classes)\n",
    "\n",
    "## model in {BCNN, IrisNN, MnistCnnCW}\n",
    "# model = IrisNN(num_features, num_classes, hidden_nodes=16)  # for Iris\n",
    "# model = BCNN(num_features, num_classes)\n",
    "model = MnistCnnCW()\n",
    "model_name = model.__class__.__name__\n",
    "print('Using model:', model_name)\n",
    "\n",
    "mc = ModelContainerPT(model, dc)\n",
    "mc.fit(epochs=3, batch_size=BATCH_SIZE)"
   ]
  },
  {
   "cell_type": "code",
   "execution_count": 15,
   "metadata": {},
   "outputs": [
    {
     "name": "stderr",
     "output_type": "stream",
     "text": [
      "2020-03-21 05:38:13,273:INFO:pytorch:Inferred 1 hidden layers on PyTorch classifier.\n"
     ]
    },
    {
     "name": "stdout",
     "output_type": "stream",
     "text": [
      "(0.0, 1.0)\n",
      "{'theta': 0.1, 'gamma': 1.0, 'batch_size': 16}\n"
     ]
    }
   ],
   "source": [
    "attack = SaliencyContainer(mc)\n",
    "print(attack.attack_params)"
   ]
  },
  {
   "cell_type": "code",
   "execution_count": 16,
   "metadata": {},
   "outputs": [
    {
     "name": "stderr",
     "output_type": "stream",
     "text": [
      "2020-03-21 05:38:17,204:INFO:saliency_map:Success rate of JSMA attack: 100.00%\n"
     ]
    },
    {
     "name": "stdout",
     "output_type": "stream",
     "text": [
      "Time to complete training 32 adversarial examples:  0m 3.1s\n",
      "{'theta': 0.1, 'gamma': 1.0, 'batch_size': 16}\n",
      "(32, 1, 28, 28)\n",
      "(32,)\n",
      "(32, 1, 28, 28)\n",
      "(32,)\n"
     ]
    }
   ],
   "source": [
    "n = 32\n",
    "\n",
    "# targeted\n",
    "# targets = attack.randam_targets(n, dc.num_classes, use_onehot=True)\n",
    "# adv, y_adv, x_clean, y_clean = attack.generate(count=n, targets=targets)\n",
    "\n",
    "# untargeted\n",
    "adv, y_adv, x_clean, y_clean = attack.generate(count=n)\n",
    "print(attack.attack_params)\n",
    "print(adv.shape)\n",
    "print(y_adv.shape)\n",
    "print(x_clean.shape)\n",
    "print(y_clean.shape)"
   ]
  },
  {
   "cell_type": "code",
   "execution_count": 17,
   "metadata": {},
   "outputs": [
    {
     "name": "stdout",
     "output_type": "stream",
     "text": [
      "Accuracy on clean samples: 100.0000%\n",
      "Accuracy on adversarial example: 0.0000%\n"
     ]
    }
   ],
   "source": [
    "accuracy = mc.evaluate(x_clean, y_clean)\n",
    "print(f'Accuracy on clean samples: {accuracy*100:.4f}%')\n",
    "accuracy = mc.evaluate(adv, y_clean)\n",
    "print(f'Accuracy on adversarial example: {accuracy*100:.4f}%')"
   ]
  },
  {
   "cell_type": "code",
   "execution_count": null,
   "metadata": {},
   "outputs": [],
   "source": []
  }
 ],
 "metadata": {
  "file_extension": ".py",
  "kernelspec": {
   "display_name": "Python 3.6.9 64-bit ('venv': venv)",
   "language": "python",
   "name": "python36964bitvenvvenv794a3f6500e74251b078ca195c3ad1e1"
  },
  "language_info": {
   "codemirror_mode": {
    "name": "ipython",
    "version": 3
   },
   "file_extension": ".py",
   "mimetype": "text/x-python",
   "name": "python",
   "nbconvert_exporter": "python",
   "pygments_lexer": "ipython3",
   "version": "3.6.9"
  },
  "mimetype": "text/x-python",
  "name": "python",
  "npconvert_exporter": "python",
  "pygments_lexer": "ipython3",
  "version": 3
 },
 "nbformat": 4,
 "nbformat_minor": 4
}
