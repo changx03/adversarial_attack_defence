{
 "cells": [
  {
   "cell_type": "code",
   "execution_count": 2,
   "metadata": {},
   "outputs": [
    {
     "ename": "SyntaxError",
     "evalue": "invalid syntax (<ipython-input-2-7910ece86d1a>, line 6)",
     "output_type": "error",
     "traceback": [
      "\u001b[0;36m  File \u001b[0;32m\"<ipython-input-2-7910ece86d1a>\"\u001b[0;36m, line \u001b[0;32m6\u001b[0m\n\u001b[0;31m    import ..aad\u001b[0m\n\u001b[0m           ^\u001b[0m\n\u001b[0;31mSyntaxError\u001b[0m\u001b[0;31m:\u001b[0m invalid syntax\n"
     ]
    }
   ],
   "source": [
    "import sys\n",
    "\n",
    "import torch\n",
    "import numpy as np\n",
    "\n",
    "import \n",
    "# from aad.basemodels import TorchModelContainer, IrisNN, BCNN, MnistCnnCW\n",
    "# from aad.datasets import DATASET_LIST, DataContainer, get_dataset_list\n",
    "# import aad.utils\n",
    "# from defences import DefenceContainer\n",
    "\n",
    "%load_ext autoreload\n",
    "%autoreload 2"
   ]
  },
  {
   "cell_type": "code",
   "execution_count": 3,
   "metadata": {},
   "outputs": [
    {
     "name": "stdout",
     "output_type": "stream",
     "text": [
      "3.6.9 (default, Nov  7 2019, 10:44:02) \n",
      "[GCC 8.3.0]\n",
      "/usr/lib/python36.zip\n",
      "/usr/lib/python3.6\n",
      "/usr/lib/python3.6/lib-dynload\n",
      "\n",
      "/home/lukec/venv/lib/python3.6/site-packages\n",
      "/home/lukec/.local/lib/python3.6/site-packages\n",
      "/usr/local/lib/python3.6/dist-packages\n",
      "/usr/lib/python3/dist-packages\n",
      "/home/lukec/venv/lib/python3.6/site-packages/IPython/extensions\n",
      "/home/lukec/.ipython\n"
     ]
    }
   ],
   "source": [
    "print(sys.version)\n",
    "print(*sys.path, sep='\\n')"
   ]
  },
  {
   "cell_type": "code",
   "execution_count": 5,
   "metadata": {},
   "outputs": [
    {
     "name": "stdout",
     "output_type": "stream",
     "text": [
      "Starting MNIST data container...\n",
      "{'name': 'MNIST', 'type': 'image', 'size': 70000, 'num_classes': 10, 'dim_data': (1, 28, 28)}\n",
      "Loading data...\n",
      "Preparing DataLoaders...\n",
      "Preparing numpy arrays...\n",
      "Successfully load data! Time taken:  0m 4.0s\n",
      "Features: 1\n",
      "Classes: 10\n",
      "Using model: MnistCnnCW\n",
      "Using device: cuda:0\n",
      "{'lr': 0.1, 'momentum': 0}\n",
      "[ 1/3]  0m 2.4s - Train Loss: 1.2005 Acc: 57.8100% - Test Loss: 0.1137 Acc: 96.2400%\n",
      "[ 2/3]  0m 2.4s - Train Loss: 0.0991 Acc: 96.8633% - Test Loss: 0.0738 Acc: 97.5500%\n",
      "[ 3/3]  0m 2.4s - Train Loss: 0.0613 Acc: 98.1333% - Test Loss: 0.0582 Acc: 98.0000%\n",
      "Time taken for training:  0m 7.1s\n"
     ]
    }
   ],
   "source": [
    "DATA_ROOT = 'data'\n",
    "BATCH_SIZE = 128\n",
    "\n",
    "# image datasets: {'MNIST', 'CIFAR10', 'SVHN'}\n",
    "# quantitative datasets: {'BankNote', 'BreastCancerWisconsin', 'HTRU2', 'Iris', 'WheatSeed'}\n",
    "NAME = 'MNIST'\n",
    "print(f'Starting {NAME} data container...')\n",
    "print(DATASET_LIST[NAME])\n",
    "\n",
    "dc = DataContainer(DATASET_LIST[NAME], DATA_ROOT)\n",
    "dc(size_train=0.8, normalize=True)\n",
    "\n",
    "num_features = dc.dim_data[0]\n",
    "num_classes = dc.num_classes\n",
    "print('Features:', num_features)\n",
    "print('Classes:', num_classes)\n",
    "\n",
    "## model in {BCNN, IrisNN, MnistCnnCW}\n",
    "# model = IrisNN(num_features, num_classes, hidden_nodes=16)  # for Iris\n",
    "# model = BCNN(num_features, num_classes)\n",
    "model = MnistCnnCW()\n",
    "model_name = model.__class__.__name__\n",
    "print('Using model:', model_name)\n",
    "\n",
    "mc = TorchModelContainer(model, dc)\n",
    "mc.fit(epochs=3, batch_size=BATCH_SIZE)"
   ]
  },
  {
   "cell_type": "code",
   "execution_count": 6,
   "metadata": {},
   "outputs": [
    {
     "name": "stdout",
     "output_type": "stream",
     "text": [
      "(0.0, 1.0)\n",
      "{'theta': 0.1, 'gamma': 1.0, 'batch_size': 16}\n"
     ]
    }
   ],
   "source": [
    "attack = attacks.JacobianSaliencyContainer(mc)\n",
    "print(attack.attack_params)"
   ]
  },
  {
   "cell_type": "code",
   "execution_count": 7,
   "metadata": {},
   "outputs": [
    {
     "name": "stdout",
     "output_type": "stream",
     "text": [
      "Time taken for training 32 adversarial examples:  0m 2.2s\n",
      "{'theta': 0.1, 'gamma': 1.0, 'batch_size': 16}\n",
      "(32, 1, 28, 28)\n",
      "(32,)\n",
      "(32, 1, 28, 28)\n",
      "(32,)\n"
     ]
    }
   ],
   "source": [
    "n = 32\n",
    "\n",
    "# targeted\n",
    "# targets = attack.randam_targets(n, dc.num_classes, use_onehot=True)\n",
    "# adv, y_adv, x_clean, y_clean = attack.generate(count=n, targets=targets)\n",
    "\n",
    "# untargeted\n",
    "adv, y_adv, x_clean, y_clean = attack.generate(count=n)\n",
    "print(attack.attack_params)\n",
    "print(adv.shape)\n",
    "print(y_adv.shape)\n",
    "print(x_clean.shape)\n",
    "print(y_clean.shape)"
   ]
  },
  {
   "cell_type": "code",
   "execution_count": 8,
   "metadata": {},
   "outputs": [
    {
     "name": "stdout",
     "output_type": "stream",
     "text": [
      "Accuracy on clean samples: 100.0000%\n",
      "Accuracy on adversarial example: 0.0000%\n"
     ]
    }
   ],
   "source": [
    "accuracy = mc.evaluate(x_clean, y_clean)\n",
    "print(f'Accuracy on clean samples: {accuracy*100:.4f}%')\n",
    "accuracy = mc.evaluate(adv, y_clean)\n",
    "print(f'Accuracy on adversarial example: {accuracy*100:.4f}%')"
   ]
  },
  {
   "cell_type": "code",
   "execution_count": null,
   "metadata": {},
   "outputs": [],
   "source": []
  }
 ],
 "metadata": {
  "file_extension": ".py",
  "kernelspec": {
   "display_name": "Python 3.6.9 64-bit ('venv': venv)",
   "language": "python",
   "name": "python36964bitvenvvenv794a3f6500e74251b078ca195c3ad1e1"
  },
  "language_info": {
   "codemirror_mode": {
    "name": "ipython",
    "version": 3
   },
   "file_extension": ".py",
   "mimetype": "text/x-python",
   "name": "python",
   "nbconvert_exporter": "python",
   "pygments_lexer": "ipython3",
   "version": "3.6.9"
  },
  "mimetype": "text/x-python",
  "name": "python",
  "npconvert_exporter": "python",
  "pygments_lexer": "ipython3",
  "version": 3
 },
 "nbformat": 4,
 "nbformat_minor": 4
}
