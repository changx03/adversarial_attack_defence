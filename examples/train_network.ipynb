{
 "cells": [
  {
   "cell_type": "code",
   "execution_count": 4,
   "metadata": {},
   "outputs": [],
   "source": [
    "import torch\n",
    "import torch.nn as nn\n",
    "import numpy as np\n",
    "import torchvision as tv\n",
    "import matplotlib.pyplot as plt\n",
    "import time\n",
    "import os\n",
    "import copy\n",
    "\n",
    "from aad.datasets import DATASET_LIST, DataContainer\n",
    "from aad.basemodels import BCNN, CifarCnn, CifarResnet50, IrisNN, MnistCnnV2, ModelContainerPT\n",
    "from aad.utils import get_data_path"
   ]
  },
  {
   "cell_type": "code",
   "execution_count": 5,
   "metadata": {},
   "outputs": [
    {
     "output_type": "execute_result",
     "data": {
      "text/plain": "IrisNN(\n  (hidden_model): Sequential(\n    (0): Linear(in_features=4, out_features=16, bias=True)\n    (1): ReLU()\n    (2): Linear(in_features=16, out_features=16, bias=True)\n    (3): ReLU()\n  )\n  (fc1): Linear(in_features=16, out_features=3, bias=True)\n  (loss_fn): CrossEntropyLoss()\n)"
     },
     "metadata": {},
     "execution_count": 5
    }
   ],
   "source": [
    "# Iris\n",
    "dataset = DATASET_LIST['Iris']\n",
    "dc = DataContainer(dataset, get_data_path())\n",
    "num_classes = dc.num_classes\n",
    "num_features = dc.dim_data[0]\n",
    "model = IrisNN(\n",
    "    num_features=num_features,\n",
    "    hidden_nodes=num_features*4,\n",
    "    num_classes=num_classes\n",
    ")\n",
    "model"
   ]
  },
  {
   "cell_type": "code",
   "execution_count": 6,
   "metadata": {},
   "outputs": [
    {
     "output_type": "execute_result",
     "data": {
      "text/plain": "IrisNN(\n  (hidden_model): Sequential(\n    (0): Linear(in_features=7, out_features=28, bias=True)\n    (1): ReLU()\n    (2): Linear(in_features=28, out_features=28, bias=True)\n    (3): ReLU()\n  )\n  (fc1): Linear(in_features=28, out_features=3, bias=True)\n  (loss_fn): CrossEntropyLoss()\n)"
     },
     "metadata": {},
     "execution_count": 6
    }
   ],
   "source": [
    "# WheatSeed\n",
    "dataset = DATASET_LIST['WheatSeed']\n",
    "dc = DataContainer(dataset, get_data_path())\n",
    "num_classes = dc.num_classes\n",
    "num_features = dc.dim_data[0]\n",
    "model = IrisNN(\n",
    "    num_features=num_features,\n",
    "    hidden_nodes=num_features*4,\n",
    "    num_classes=num_classes\n",
    ")\n",
    "model"
   ]
  },
  {
   "cell_type": "code",
   "execution_count": null,
   "metadata": {},
   "outputs": [],
   "source": [
    "# Iris\n",
    "# names = ['BankNote', 'HTRU2', 'Iris', 'WheatSeed']\n",
    "dataset = DATASET_LIST['WheatSeed']\n",
    "dc = DataContainer(dataset, get_data_path())\n",
    "num_classes = dc.num_classes\n",
    "num_features = dc.dim_data[0]\n",
    "model = IrisNN(\n",
    "    num_features=num_features,\n",
    "    hidden_nodes=num_features*4,\n",
    "    num_classes=num_classes\n",
    ")\n",
    "model"
   ]
  }
 ],
 "metadata": {
  "language_info": {
   "codemirror_mode": {
    "name": "ipython",
    "version": 3
   },
   "file_extension": ".py",
   "mimetype": "text/x-python",
   "name": "python",
   "nbconvert_exporter": "python",
   "pygments_lexer": "ipython3",
   "version": "3.6.9-final"
  },
  "orig_nbformat": 2,
  "kernelspec": {
   "name": "python36964bitvenvvenv8dcf9344434f491ca199f1f4919d76d1",
   "display_name": "Python 3.6.9 64-bit ('venv': venv)"
  }
 },
 "nbformat": 4,
 "nbformat_minor": 2
}