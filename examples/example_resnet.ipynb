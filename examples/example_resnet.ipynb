{
 "nbformat": 4,
 "nbformat_minor": 2,
 "metadata": {
  "language_info": {
   "name": "python",
   "codemirror_mode": {
    "name": "ipython",
    "version": 3
   },
   "version": "3.6.9-final"
  },
  "orig_nbformat": 2,
  "file_extension": ".py",
  "mimetype": "text/x-python",
  "name": "python",
  "npconvert_exporter": "python",
  "pygments_lexer": "ipython3",
  "version": 3,
  "kernelspec": {
   "name": "python36964bitvenvvenv8dcf9344434f491ca199f1f4919d76d1",
   "display_name": "Python 3.6.9 64-bit ('venv': venv)"
  }
 },
 "cells": [
  {
   "cell_type": "code",
   "execution_count": 1,
   "metadata": {},
   "outputs": [],
   "source": [
    "import torch\n",
    "import torch.nn as nn\n",
    "import os\n",
    "\n",
    "from aad.datasets import DATASET_LIST, DataContainer\n",
    "from aad.utils import master_seed\n",
    "from aad.basemodels import CifarResnet50"
   ]
  },
  {
   "cell_type": "code",
   "execution_count": 2,
   "metadata": {},
   "outputs": [
    {
     "output_type": "stream",
     "name": "stdout",
     "text": "{'name': 'CIFAR10', 'type': 'image', 'size': 60000, 'num_classes': 10, 'dim_data': (3, 32, 32)}\n"
    }
   ],
   "source": [
    "NAME = 'CIFAR10'\n",
    "DATA_ROOT = os.path.join('..', 'data')\n",
    "print(DATASET_LIST[NAME])"
   ]
  },
  {
   "cell_type": "code",
   "execution_count": 3,
   "metadata": {},
   "outputs": [
    {
     "output_type": "stream",
     "name": "stdout",
     "text": "Files already downloaded and verified\nFiles already downloaded and verified\n"
    }
   ],
   "source": [
    "dc = DataContainer(DATASET_LIST[NAME], DATA_ROOT)\n",
    "dc()\n",
    "dataloader = dc.get_dataloader(batch_size=16, is_train=True)"
   ]
  },
  {
   "cell_type": "code",
   "execution_count": 4,
   "metadata": {},
   "outputs": [],
   "source": [
    "model = CifarResnet50()"
   ]
  },
  {
   "cell_type": "code",
   "execution_count": 5,
   "metadata": {},
   "outputs": [],
   "source": [
    "x, y = next(iter(dataloader))\n",
    "score = model.hidden_model(x)"
   ]
  },
  {
   "cell_type": "code",
   "execution_count": 6,
   "metadata": {},
   "outputs": [
    {
     "output_type": "execute_result",
     "data": {
      "text/plain": "tensor([[0.8002, 1.9479, 2.3579,  ..., 0.0000, 0.7038, 0.0000],\n        [0.0000, 0.0000, 0.1772,  ..., 0.0000, 1.1553, 0.0000],\n        [0.0000, 1.0742, 0.0000,  ..., 0.3978, 0.0000, 0.3008],\n        ...,\n        [0.3051, 0.0694, 0.2542,  ..., 0.2164, 0.0000, 0.0000],\n        [0.3617, 0.5105, 0.6451,  ..., 0.0000, 0.0000, 0.0000],\n        [0.1268, 0.0000, 0.0000,  ..., 0.0000, 0.0000, 0.0000]],\n       grad_fn=<ViewBackward>)"
     },
     "metadata": {},
     "execution_count": 6
    }
   ],
   "source": [
    "score"
   ]
  },
  {
   "cell_type": "code",
   "execution_count": 7,
   "metadata": {},
   "outputs": [
    {
     "output_type": "execute_result",
     "data": {
      "text/plain": "torch.Size([16, 2048])"
     },
     "metadata": {},
     "execution_count": 7
    }
   ],
   "source": [
    "score.size()"
   ]
  },
  {
   "cell_type": "code",
   "execution_count": 8,
   "metadata": {},
   "outputs": [
    {
     "output_type": "stream",
     "name": "stdout",
     "text": "resnet.conv1.weight\nresnet.bn1.weight\nresnet.bn1.bias\nresnet.layer1.0.conv1.weight\nresnet.layer1.0.bn1.weight\nresnet.layer1.0.bn1.bias\nresnet.layer1.0.conv2.weight\nresnet.layer1.0.bn2.weight\nresnet.layer1.0.bn2.bias\nresnet.layer1.0.conv3.weight\nresnet.layer1.0.bn3.weight\nresnet.layer1.0.bn3.bias\nresnet.layer1.0.downsample.0.weight\nresnet.layer1.0.downsample.1.weight\nresnet.layer1.0.downsample.1.bias\nresnet.layer1.1.conv1.weight\nresnet.layer1.1.bn1.weight\nresnet.layer1.1.bn1.bias\nresnet.layer1.1.conv2.weight\nresnet.layer1.1.bn2.weight\nresnet.layer1.1.bn2.bias\nresnet.layer1.1.conv3.weight\nresnet.layer1.1.bn3.weight\nresnet.layer1.1.bn3.bias\nresnet.layer1.2.conv1.weight\nresnet.layer1.2.bn1.weight\nresnet.layer1.2.bn1.bias\nresnet.layer1.2.conv2.weight\nresnet.layer1.2.bn2.weight\nresnet.layer1.2.bn2.bias\nresnet.layer1.2.conv3.weight\nresnet.layer1.2.bn3.weight\nresnet.layer1.2.bn3.bias\nresnet.layer2.0.conv1.weight\nresnet.layer2.0.bn1.weight\nresnet.layer2.0.bn1.bias\nresnet.layer2.0.conv2.weight\nresnet.layer2.0.bn2.weight\nresnet.layer2.0.bn2.bias\nresnet.layer2.0.conv3.weight\nresnet.layer2.0.bn3.weight\nresnet.layer2.0.bn3.bias\nresnet.layer2.0.downsample.0.weight\nresnet.layer2.0.downsample.1.weight\nresnet.layer2.0.downsample.1.bias\nresnet.layer2.1.conv1.weight\nresnet.layer2.1.bn1.weight\nresnet.layer2.1.bn1.bias\nresnet.layer2.1.conv2.weight\nresnet.layer2.1.bn2.weight\nresnet.layer2.1.bn2.bias\nresnet.layer2.1.conv3.weight\nresnet.layer2.1.bn3.weight\nresnet.layer2.1.bn3.bias\nresnet.layer2.2.conv1.weight\nresnet.layer2.2.bn1.weight\nresnet.layer2.2.bn1.bias\nresnet.layer2.2.conv2.weight\nresnet.layer2.2.bn2.weight\nresnet.layer2.2.bn2.bias\nresnet.layer2.2.conv3.weight\nresnet.layer2.2.bn3.weight\nresnet.layer2.2.bn3.bias\nresnet.layer2.3.conv1.weight\nresnet.layer2.3.bn1.weight\nresnet.layer2.3.bn1.bias\nresnet.layer2.3.conv2.weight\nresnet.layer2.3.bn2.weight\nresnet.layer2.3.bn2.bias\nresnet.layer2.3.conv3.weight\nresnet.layer2.3.bn3.weight\nresnet.layer2.3.bn3.bias\nresnet.layer3.0.conv1.weight\nresnet.layer3.0.bn1.weight\nresnet.layer3.0.bn1.bias\nresnet.layer3.0.conv2.weight\nresnet.layer3.0.bn2.weight\nresnet.layer3.0.bn2.bias\nresnet.layer3.0.conv3.weight\nresnet.layer3.0.bn3.weight\nresnet.layer3.0.bn3.bias\nresnet.layer3.0.downsample.0.weight\nresnet.layer3.0.downsample.1.weight\nresnet.layer3.0.downsample.1.bias\nresnet.layer3.1.conv1.weight\nresnet.layer3.1.bn1.weight\nresnet.layer3.1.bn1.bias\nresnet.layer3.1.conv2.weight\nresnet.layer3.1.bn2.weight\nresnet.layer3.1.bn2.bias\nresnet.layer3.1.conv3.weight\nresnet.layer3.1.bn3.weight\nresnet.layer3.1.bn3.bias\nresnet.layer3.2.conv1.weight\nresnet.layer3.2.bn1.weight\nresnet.layer3.2.bn1.bias\nresnet.layer3.2.conv2.weight\nresnet.layer3.2.bn2.weight\nresnet.layer3.2.bn2.bias\nresnet.layer3.2.conv3.weight\nresnet.layer3.2.bn3.weight\nresnet.layer3.2.bn3.bias\nresnet.layer3.3.conv1.weight\nresnet.layer3.3.bn1.weight\nresnet.layer3.3.bn1.bias\nresnet.layer3.3.conv2.weight\nresnet.layer3.3.bn2.weight\nresnet.layer3.3.bn2.bias\nresnet.layer3.3.conv3.weight\nresnet.layer3.3.bn3.weight\nresnet.layer3.3.bn3.bias\nresnet.layer3.4.conv1.weight\nresnet.layer3.4.bn1.weight\nresnet.layer3.4.bn1.bias\nresnet.layer3.4.conv2.weight\nresnet.layer3.4.bn2.weight\nresnet.layer3.4.bn2.bias\nresnet.layer3.4.conv3.weight\nresnet.layer3.4.bn3.weight\nresnet.layer3.4.bn3.bias\nresnet.layer3.5.conv1.weight\nresnet.layer3.5.bn1.weight\nresnet.layer3.5.bn1.bias\nresnet.layer3.5.conv2.weight\nresnet.layer3.5.bn2.weight\nresnet.layer3.5.bn2.bias\nresnet.layer3.5.conv3.weight\nresnet.layer3.5.bn3.weight\nresnet.layer3.5.bn3.bias\nresnet.layer4.0.conv1.weight\nresnet.layer4.0.bn1.weight\nresnet.layer4.0.bn1.bias\nresnet.layer4.0.conv2.weight\nresnet.layer4.0.bn2.weight\nresnet.layer4.0.bn2.bias\nresnet.layer4.0.conv3.weight\nresnet.layer4.0.bn3.weight\nresnet.layer4.0.bn3.bias\nresnet.layer4.0.downsample.0.weight\nresnet.layer4.0.downsample.1.weight\nresnet.layer4.0.downsample.1.bias\nresnet.layer4.1.conv1.weight\nresnet.layer4.1.bn1.weight\nresnet.layer4.1.bn1.bias\nresnet.layer4.1.conv2.weight\nresnet.layer4.1.bn2.weight\nresnet.layer4.1.bn2.bias\nresnet.layer4.1.conv3.weight\nresnet.layer4.1.bn3.weight\nresnet.layer4.1.bn3.bias\nresnet.layer4.2.conv1.weight\nresnet.layer4.2.bn1.weight\nresnet.layer4.2.bn1.bias\nresnet.layer4.2.conv2.weight\nresnet.layer4.2.bn2.weight\nresnet.layer4.2.bn2.bias\nresnet.layer4.2.conv3.weight\nresnet.layer4.2.bn3.weight\nresnet.layer4.2.bn3.bias\nresnet.fc.weight\nresnet.fc.bias\n"
    }
   ],
   "source": [
    "for name, param in model.named_parameters():\n",
    "    print(name)"
   ]
  },
  {
   "cell_type": "code",
   "execution_count": 9,
   "metadata": {},
   "outputs": [
    {
     "output_type": "stream",
     "name": "stdout",
     "text": "0.weight\n1.weight\n1.bias\n4.0.conv1.weight\n4.0.bn1.weight\n4.0.bn1.bias\n4.0.conv2.weight\n4.0.bn2.weight\n4.0.bn2.bias\n4.0.conv3.weight\n4.0.bn3.weight\n4.0.bn3.bias\n4.0.downsample.0.weight\n4.0.downsample.1.weight\n4.0.downsample.1.bias\n4.1.conv1.weight\n4.1.bn1.weight\n4.1.bn1.bias\n4.1.conv2.weight\n4.1.bn2.weight\n4.1.bn2.bias\n4.1.conv3.weight\n4.1.bn3.weight\n4.1.bn3.bias\n4.2.conv1.weight\n4.2.bn1.weight\n4.2.bn1.bias\n4.2.conv2.weight\n4.2.bn2.weight\n4.2.bn2.bias\n4.2.conv3.weight\n4.2.bn3.weight\n4.2.bn3.bias\n5.0.conv1.weight\n5.0.bn1.weight\n5.0.bn1.bias\n5.0.conv2.weight\n5.0.bn2.weight\n5.0.bn2.bias\n5.0.conv3.weight\n5.0.bn3.weight\n5.0.bn3.bias\n5.0.downsample.0.weight\n5.0.downsample.1.weight\n5.0.downsample.1.bias\n5.1.conv1.weight\n5.1.bn1.weight\n5.1.bn1.bias\n5.1.conv2.weight\n5.1.bn2.weight\n5.1.bn2.bias\n5.1.conv3.weight\n5.1.bn3.weight\n5.1.bn3.bias\n5.2.conv1.weight\n5.2.bn1.weight\n5.2.bn1.bias\n5.2.conv2.weight\n5.2.bn2.weight\n5.2.bn2.bias\n5.2.conv3.weight\n5.2.bn3.weight\n5.2.bn3.bias\n5.3.conv1.weight\n5.3.bn1.weight\n5.3.bn1.bias\n5.3.conv2.weight\n5.3.bn2.weight\n5.3.bn2.bias\n5.3.conv3.weight\n5.3.bn3.weight\n5.3.bn3.bias\n6.0.conv1.weight\n6.0.bn1.weight\n6.0.bn1.bias\n6.0.conv2.weight\n6.0.bn2.weight\n6.0.bn2.bias\n6.0.conv3.weight\n6.0.bn3.weight\n6.0.bn3.bias\n6.0.downsample.0.weight\n6.0.downsample.1.weight\n6.0.downsample.1.bias\n6.1.conv1.weight\n6.1.bn1.weight\n6.1.bn1.bias\n6.1.conv2.weight\n6.1.bn2.weight\n6.1.bn2.bias\n6.1.conv3.weight\n6.1.bn3.weight\n6.1.bn3.bias\n6.2.conv1.weight\n6.2.bn1.weight\n6.2.bn1.bias\n6.2.conv2.weight\n6.2.bn2.weight\n6.2.bn2.bias\n6.2.conv3.weight\n6.2.bn3.weight\n6.2.bn3.bias\n6.3.conv1.weight\n6.3.bn1.weight\n6.3.bn1.bias\n6.3.conv2.weight\n6.3.bn2.weight\n6.3.bn2.bias\n6.3.conv3.weight\n6.3.bn3.weight\n6.3.bn3.bias\n6.4.conv1.weight\n6.4.bn1.weight\n6.4.bn1.bias\n6.4.conv2.weight\n6.4.bn2.weight\n6.4.bn2.bias\n6.4.conv3.weight\n6.4.bn3.weight\n6.4.bn3.bias\n6.5.conv1.weight\n6.5.bn1.weight\n6.5.bn1.bias\n6.5.conv2.weight\n6.5.bn2.weight\n6.5.bn2.bias\n6.5.conv3.weight\n6.5.bn3.weight\n6.5.bn3.bias\n7.0.conv1.weight\n7.0.bn1.weight\n7.0.bn1.bias\n7.0.conv2.weight\n7.0.bn2.weight\n7.0.bn2.bias\n7.0.conv3.weight\n7.0.bn3.weight\n7.0.bn3.bias\n7.0.downsample.0.weight\n7.0.downsample.1.weight\n7.0.downsample.1.bias\n7.1.conv1.weight\n7.1.bn1.weight\n7.1.bn1.bias\n7.1.conv2.weight\n7.1.bn2.weight\n7.1.bn2.bias\n7.1.conv3.weight\n7.1.bn3.weight\n7.1.bn3.bias\n7.2.conv1.weight\n7.2.bn1.weight\n7.2.bn1.bias\n7.2.conv2.weight\n7.2.bn2.weight\n7.2.bn2.bias\n7.2.conv3.weight\n7.2.bn3.weight\n7.2.bn3.bias\n"
    }
   ],
   "source": [
    "for name, param in model.hidden_model.named_parameters():\n",
    "    print(name)"
   ]
  },
  {
   "cell_type": "code",
   "execution_count": 10,
   "metadata": {},
   "outputs": [
    {
     "output_type": "stream",
     "name": "stdout",
     "text": "resnet\nhidden_model\nloss_fn\n"
    }
   ],
   "source": [
    "for name, module in model.named_children():\n",
    "    print(name)"
   ]
  },
  {
   "cell_type": "code",
   "execution_count": null,
   "metadata": {},
   "outputs": [],
   "source": []
  }
 ]
}