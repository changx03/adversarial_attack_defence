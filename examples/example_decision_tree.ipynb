{
 "cells": [
  {
   "cell_type": "code",
   "execution_count": 49,
   "metadata": {},
   "outputs": [],
   "source": [
    "import sys\n",
    "sys.path.append('../')"
   ]
  },
  {
   "cell_type": "code",
   "execution_count": 50,
   "metadata": {},
   "outputs": [],
   "source": [
    "import os\n",
    "\n",
    "import numpy as np\n",
    "from sklearn.tree import ExtraTreeClassifier\n",
    "from sklearn.datasets import make_classification\n",
    "\n",
    "from aad.datasets import DATASET_LIST, DataContainer\n",
    "from aad.utils import get_data_path"
   ]
  },
  {
   "cell_type": "code",
   "execution_count": 17,
   "metadata": {},
   "outputs": [],
   "source": [
    "NAME = 'Iris'"
   ]
  },
  {
   "cell_type": "code",
   "execution_count": 18,
   "metadata": {},
   "outputs": [],
   "source": [
    "dc = DataContainer(DATASET_LIST[NAME], get_data_path())\n",
    "dc(shuffle=True, normalize=True)"
   ]
  },
  {
   "cell_type": "code",
   "execution_count": 19,
   "metadata": {},
   "outputs": [],
   "source": [
    "x_train = dc.x_train\n",
    "y_train = dc.y_train\n",
    "x_test = dc.x_test\n",
    "y_test = dc.y_test"
   ]
  },
  {
   "cell_type": "code",
   "execution_count": 30,
   "metadata": {},
   "outputs": [
    {
     "output_type": "execute_result",
     "data": {
      "text/plain": "ExtraTreeClassifier(ccp_alpha=0.0, class_weight=None, criterion='gini',\n                    max_depth=None, max_features='auto', max_leaf_nodes=None,\n                    min_impurity_decrease=0.0, min_impurity_split=None,\n                    min_samples_leaf=1, min_samples_split=2,\n                    min_weight_fraction_leaf=0.0, random_state=None,\n                    splitter='random')"
     },
     "metadata": {},
     "execution_count": 30
    }
   ],
   "source": [
    "classifier = ExtraTreeClassifier(\n",
    "    criterion='gini',\n",
    "    splitter='random',\n",
    ")\n",
    "classifier.fit(x_train, y_train)"
   ]
  },
  {
   "cell_type": "code",
   "execution_count": 31,
   "metadata": {},
   "outputs": [
    {
     "output_type": "stream",
     "name": "stdout",
     "text": "[ 0.03160933  0.02501563  0.55102454  0.3923505 ]\n"
    }
   ],
   "source": [
    "print(classifier.feature_importances_)"
   ]
  },
  {
   "cell_type": "code",
   "execution_count": 32,
   "metadata": {},
   "outputs": [],
   "source": [
    "pred = classifier.predict(x_test)"
   ]
  },
  {
   "cell_type": "code",
   "execution_count": 38,
   "metadata": {},
   "outputs": [],
   "source": [
    "def evaluate(predictions, labels):\n",
    "    return np.sum(np.equal(predictions, labels)) / len(labels)"
   ]
  },
  {
   "cell_type": "code",
   "execution_count": 39,
   "metadata": {},
   "outputs": [
    {
     "output_type": "stream",
     "name": "stdout",
     "text": "Accuracy on test set: 0.9333333333333333\n"
    }
   ],
   "source": [
    "accuracy = evaluate(pred, y_test)\n",
    "print(f'Accuracy on test set: {accuracy}')"
   ]
  },
  {
   "cell_type": "markdown",
   "metadata": {},
   "source": [
    "## Apply decision tree attack"
   ]
  },
  {
   "cell_type": "code",
   "execution_count": 40,
   "metadata": {},
   "outputs": [],
   "source": [
    "from art.attacks import DecisionTreeAttack\n",
    "from art.classifiers import SklearnClassifier"
   ]
  },
  {
   "cell_type": "code",
   "execution_count": 42,
   "metadata": {},
   "outputs": [],
   "source": [
    "art_classifier = SklearnClassifier(classifier)\n",
    "attack = DecisionTreeAttack(art_classifier)\n",
    "adv = attack.generate(x_test)\n",
    "pred_adv = classifier.predict(adv)"
   ]
  },
  {
   "cell_type": "code",
   "execution_count": 43,
   "metadata": {},
   "outputs": [
    {
     "output_type": "stream",
     "name": "stdout",
     "text": "Accuracy on DecisionTreeAttack: 0.0\n"
    }
   ],
   "source": [
    "accuracy = evaluate(pred_adv, y_test)\n",
    "print(f'Accuracy on DecisionTreeAttack: {accuracy}')"
   ]
  },
  {
   "cell_type": "markdown",
   "metadata": {},
   "source": [
    "## Test Transferability"
   ]
  },
  {
   "cell_type": "code",
   "execution_count": 56,
   "metadata": {},
   "outputs": [
    {
     "output_type": "stream",
     "name": "stdout",
     "text": "Accuracy on clean set: 0.9666666666666667\n"
    }
   ],
   "source": [
    "attack_list = ['FGSM', 'BIM', 'DeepFool', 'Carlini']\n",
    "x = np.load(os.path.join('..', 'save', 'IrisNN_Iris_BIM_x.npy'), allow_pickle=False)\n",
    "y = np.load(os.path.join('..', 'save', 'IrisNN_Iris_BIM_y.npy'), allow_pickle=False)\n",
    "pred = classifier.predict(x)\n",
    "accuracy = evaluate(pred, y)\n",
    "print(f'Accuracy on clean set: {accuracy}')\n",
    "\n",
    "adv_files = []\n",
    "for adv_name in attack_list:\n",
    "    adv_files.append(f'IrisNN_Iris_{adv_name}_adv.npy')"
   ]
  },
  {
   "cell_type": "code",
   "execution_count": 57,
   "metadata": {},
   "outputs": [
    {
     "output_type": "stream",
     "name": "stdout",
     "text": "Accuracy on FGSM set: 0.48333333333333334\nAccuracy on BIM set: 0.03333333333333333\nAccuracy on DeepFool set: 0.35\nAccuracy on Carlini set: 0.38333333333333336\n"
    }
   ],
   "source": [
    "for i in range(len(attack_list)):\n",
    "    adv = np.load(os.path.join('..', 'save', adv_files[i]), allow_pickle=False)\n",
    "    pred = classifier.predict(adv)\n",
    "    accuracy = evaluate(pred, y)\n",
    "    print(f'Accuracy on {attack_list[i]} set: {accuracy}')"
   ]
  },
  {
   "cell_type": "markdown",
   "metadata": {},
   "source": [
    "## Applicability Domain"
   ]
  },
  {
   "cell_type": "code",
   "execution_count": 58,
   "metadata": {},
   "outputs": [],
   "source": [
    "from aad.defences import ApplicabilityDomainContainer"
   ]
  },
  {
   "cell_type": "code",
   "execution_count": null,
   "metadata": {},
   "outputs": [],
   "source": [
    "# mc = None\n",
    "# hidden_model = None\n",
    "# ad = ApplicabilityDomainContainer(\n",
    "#     mc,\n",
    "#     hidden_model,\n",
    "#     k2=6,\n",
    "#     reliability=1.0,\n",
    "#     sample_ratio=1.0,\n",
    "#     kappa=6,\n",
    "#     confidence=0.8\n",
    "# )"
   ]
  }
 ],
 "metadata": {
  "language_info": {
   "codemirror_mode": {
    "name": "ipython",
    "version": 3
   },
   "file_extension": ".py",
   "mimetype": "text/x-python",
   "name": "python",
   "nbconvert_exporter": "python",
   "pygments_lexer": "ipython3",
   "version": "3.6.9-final"
  },
  "orig_nbformat": 2,
  "kernelspec": {
   "name": "python36964bitvenvvenv8dcf9344434f491ca199f1f4919d76d1",
   "display_name": "Python 3.6.9 64-bit ('venv': venv)"
  }
 },
 "nbformat": 4,
 "nbformat_minor": 2
}